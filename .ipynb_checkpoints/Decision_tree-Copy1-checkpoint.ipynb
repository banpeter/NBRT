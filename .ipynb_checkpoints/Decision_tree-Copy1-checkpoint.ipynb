{
 "cells": [
  {
   "cell_type": "code",
   "execution_count": 1,
   "metadata": {},
   "outputs": [],
   "source": [
    "import numpy as np\n",
    "import matplotlib.pyplot as plt\n",
    "import random\n",
    "import math"
   ]
  },
  {
   "cell_type": "code",
   "execution_count": 13,
   "metadata": {},
   "outputs": [],
   "source": [
    "#Data\n",
    "\n",
    "training_data = [\n",
    "    ['Green', 3],\n",
    "    ['Yellow', 3],\n",
    "    ['Red', 1],\n",
    "    ['Red', 1],\n",
    "    ['Yellow', 3],\n",
    "]\n",
    "labels = [\n",
    "    'Apple',\n",
    "    'Apple',\n",
    "    'Grape',\n",
    "    'Grape',\n",
    "    'Lemon'\n",
    "]\n",
    "header = [\"color\", \"diameter\"]"
   ]
  },
  {
   "cell_type": "code",
   "execution_count": null,
   "metadata": {},
   "outputs": [],
   "source": [
    "#Data\n",
    "#Will it rain or not? Certainly not, Probly not t,Uncertain,Likely,Pretty sure,It snows(0,1,2,3,4,5,6)\n",
    "#Will it snow?\n",
    "#temperature(0,40),humidity(20-100),season(spring(1),summer(2),autumn(3),winter(4)),year(1970-2022)(year,motnh,days)\n",
    "example = [25,60,winter,2022]\n",
    "#Generating dataset\n",
    "X=[]\n",
    "radnom.seed(10)\n",
    "for i in range(100):\n",
    "    temp = [round(random.uniform(0,40),2), round(random.uniform(20,100),2),radnom.randint(1,12),radnom.randint(1,20075),0]\n",
    "    #temp = np.random.rand(1,4)\n",
    "    if(temp[1]==100):\n",
    "        temp[-1] = 1\n",
    "        continue\n",
    "    season = 0\n",
    "    if(temp[2] in [1,2,6,7,8,10,11]):\n",
    "        season = 10\n",
    "    else:\n",
    "        season = -10\n",
    "        \n",
    "    p=temp[1]-temp[0]+season\n",
    "    if(>70):\n",
    "        random.choices(\n",
    "        population = [0,1,]\n",
    "        weights = [0.2, 0.8,],\n",
    "        k=1)\n",
    "    \n",
    "    \n",
    "\n",
    "\n"
   ]
  },
  {
   "cell_type": "code",
   "execution_count": 11,
   "metadata": {},
   "outputs": [],
   "source": [
    "class Tree:\n",
    "    def __init__(self,X,feature_names,labels):\n",
    "        \n",
    "        self.X = X\n",
    "        self.num_of_nodes = 0\n",
    "        self.currentsplit = 0\n",
    "        self.feature_names = feature_names#coloum names\n",
    "        self.labels = labels#y\n",
    "        self.catagories = set(labels)\n",
    "        self.nodes = []\n",
    "        "
   ]
  },
  {
   "cell_type": "code",
   "execution_count": 7,
   "metadata": {},
   "outputs": [],
   "source": [
    "class Node:\n",
    "    def __init__(self,labels,feature_names):\n",
    "        \n",
    "        self.feature_names = feature_names\n",
    "        self.labels = labels\n",
    "        self.child = []\n",
    "        self.leaf = 0 #true or false"
   ]
  },
  {
   "cell_type": "code",
   "execution_count": null,
   "metadata": {},
   "outputs": [],
   "source": [
    "def calculate_entropy(data):\n",
    "    \n",
    "    categories = set(data)\n",
    "    entropy = 0;\n",
    "    for i in categories:\n",
    "        p = categories.count(i)/len(data)\n",
    "        entropy -=  p*math.log(p,2)\n",
    "    \n",
    "    return entropy"
   ]
  },
  {
   "cell_type": "code",
   "execution_count": null,
   "metadata": {},
   "outputs": [],
   "source": [
    "def calculate_information_gain(X,labels,column):#by data from parent node\n",
    "    I = 0\n",
    "    \n",
    "     #get the chosen column in a list\n",
    "    features = [ X[i][column] for i in X ]\n",
    "    features_categories = set(features)\n",
    "    \n",
    "    \n",
    "    for i in features_categories:\n",
    "        sub_labels = [labels[x] for x in range(len(features)) if features[x]==i]#get the  labels corresponing to the chosen features\n",
    "        entropy = calculate_entropy(sub_labels)\n",
    "        I += entropy * len(sub_labels)\n",
    "    \n",
    "    I = I/len(labels)\n",
    "    #all_entropy = calculate_entropy(labels)\n",
    "    \n",
    "    #I= all_entropy - \n",
    "    \n",
    "    return I"
   ]
  },
  {
   "cell_type": "code",
   "execution_count": null,
   "metadata": {},
   "outputs": [],
   "source": [
    "def find_best_split(X,labels,column,feature_names):\n",
    "    \n",
    "    largest_ig = 0\n",
    "    split = 0\n",
    "    I = 0 \n",
    "    \n",
    "    for i in range(len(features_names)):\n",
    "\n",
    "            I = calculate_information_gain(X,labels,i)\n",
    "            if(I>largest_ig):\n",
    "                largest_ig = I\n",
    "                split = i\n",
    "    return split"
   ]
  },
  {
   "cell_type": "code",
   "execution_count": null,
   "metadata": {},
   "outputs": [],
   "source": [
    "def split(X,labels,column):"
   ]
  },
  {
   "cell_type": "code",
   "execution_count": null,
   "metadata": {},
   "outputs": [],
   "source": [
    "def get_index(Tree):\n",
    "    \n",
    "    x_index = []"
   ]
  },
  {
   "cell_type": "code",
   "execution_count": 1,
   "metadata": {},
   "outputs": [],
   "source": [
    "def build_tree(X,feature_names,labels):\n",
    "    \n",
    "    tree = Tree(X,feature_names,labels)\n",
    "    features = tree.fetures_names\n",
    "    \n",
    "    largest_ig = 0\n",
    "    split = 0\n",
    "    I = 0   \n",
    "       \n",
    "    for i in range(len(tree.feature_names)):\n",
    "        #x_index = get_index(tree)\n",
    "        split = find_best_split(X,labels,column,feature_names)\n",
    "\n",
    "        #split\n",
    "        feaures.pop(split)\n",
    "        \n",
    "        features = [ X[i][column] for i in X ]\n",
    "        features_categories = set(features)\n",
    "        for i in features_categories:\n",
    "            sub_labels = [labels[x] for x in range(len(features)) if features[x]==i]#get the  labels corresponing to the chosen features\n",
    "            \n",
    "            tree.nodes.append(Node(sub_labels,features))\n",
    "            \n",
    "            \n",
    "            \n",
    "            \n",
    "            tree.num_of_nodes +=1\n",
    "    \n",
    "\n",
    "    \n",
    "    "
   ]
  },
  {
   "cell_type": "code",
   "execution_count": null,
   "metadata": {},
   "outputs": [],
   "source": [
    "def predict():\n",
    "    print(0)"
   ]
  },
  {
   "cell_type": "code",
   "execution_count": 17,
   "metadata": {},
   "outputs": [
    {
     "ename": "TypeError",
     "evalue": "unhashable type: 'list'",
     "output_type": "error",
     "traceback": [
      "\u001b[1;31m---------------------------------------------------------------------------\u001b[0m",
      "\u001b[1;31mTypeError\u001b[0m                                 Traceback (most recent call last)",
      "\u001b[1;32m<ipython-input-17-b4c34889c298>\u001b[0m in \u001b[0;36m<module>\u001b[1;34m\u001b[0m\n\u001b[1;32m----> 1\u001b[1;33m \u001b[0mbuild_tree\u001b[0m\u001b[1;33m(\u001b[0m\u001b[0mtraining_data\u001b[0m\u001b[1;33m,\u001b[0m\u001b[0mheader\u001b[0m\u001b[1;33m,\u001b[0m\u001b[0mlabels\u001b[0m\u001b[1;33m)\u001b[0m\u001b[1;33m\u001b[0m\u001b[1;33m\u001b[0m\u001b[0m\n\u001b[0m",
      "\u001b[1;32m<ipython-input-16-053956642d52>\u001b[0m in \u001b[0;36mbuild_tree\u001b[1;34m(X, feature_names, labels)\u001b[0m\n\u001b[0;32m      3\u001b[0m \u001b[1;33m\u001b[0m\u001b[0m\n\u001b[0;32m      4\u001b[0m     \u001b[1;31m#x_index = get_index(tree)\u001b[0m\u001b[1;33m\u001b[0m\u001b[1;33m\u001b[0m\u001b[1;33m\u001b[0m\u001b[0m\n\u001b[1;32m----> 5\u001b[1;33m     \u001b[0mfeature_categories\u001b[0m \u001b[1;33m=\u001b[0m \u001b[0mset\u001b[0m\u001b[1;33m(\u001b[0m\u001b[1;33m[\u001b[0m\u001b[0mx\u001b[0m \u001b[1;32mfor\u001b[0m \u001b[0mx\u001b[0m \u001b[1;32min\u001b[0m \u001b[0mtree\u001b[0m\u001b[1;33m.\u001b[0m\u001b[0mX\u001b[0m\u001b[1;33m]\u001b[0m\u001b[1;33m)\u001b[0m\u001b[1;33m\u001b[0m\u001b[1;33m\u001b[0m\u001b[0m\n\u001b[0m\u001b[0;32m      6\u001b[0m     \u001b[0mprint\u001b[0m\u001b[1;33m(\u001b[0m\u001b[0mfeature_categories\u001b[0m\u001b[1;33m)\u001b[0m\u001b[1;33m\u001b[0m\u001b[1;33m\u001b[0m\u001b[0m\n\u001b[0;32m      7\u001b[0m \u001b[1;33m\u001b[0m\u001b[0m\n",
      "\u001b[1;31mTypeError\u001b[0m: unhashable type: 'list'"
     ]
    }
   ],
   "source": [
    "build_tree(training_data,header,labels)"
   ]
  },
  {
   "cell_type": "code",
   "execution_count": null,
   "metadata": {},
   "outputs": [],
   "source": []
  }
 ],
 "metadata": {
  "kernelspec": {
   "display_name": "Python 3",
   "language": "python",
   "name": "python3"
  },
  "language_info": {
   "codemirror_mode": {
    "name": "ipython",
    "version": 3
   },
   "file_extension": ".py",
   "mimetype": "text/x-python",
   "name": "python",
   "nbconvert_exporter": "python",
   "pygments_lexer": "ipython3",
   "version": "3.7.6"
  }
 },
 "nbformat": 4,
 "nbformat_minor": 4
}
