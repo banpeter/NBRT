{
 "cells": [
  {
   "cell_type": "code",
   "execution_count": 1,
   "metadata": {},
   "outputs": [],
   "source": [
    "import numpy as np\n",
    "import matplotlib.pyplot as plt\n",
    "import random\n",
    "import math\n",
    "from sklearn.model_selection import train_test_split\n",
    "import csv\n",
    "import time\n",
    "\n",
    "import sys\n"
   ]
  },
  {
   "cell_type": "code",
   "execution_count": 2,
   "metadata": {},
   "outputs": [],
   "source": [
    "all_data = []"
   ]
  },
  {
   "cell_type": "code",
   "execution_count": 3,
   "metadata": {},
   "outputs": [
    {
     "data": {
      "text/plain": [
       "'#read in blob dataset\\n\\nX_training = []\\ny_training = []\\nheader = []\\nc = 0\\nwith open(\"DataSets/blob_att.csv\",\"r\") as file:\\n    r = csv.reader(file)\\n    for row in r:\\n        if(c == 0):\\n            header = row\\n            c+=1\\n            continue\\n        X_training.append([ float(x) for x in row])\\n        \\nwith open(\"DataSets/blob_label.csv\",\"r\") as file:\\n    r = csv.reader(file)\\n    for row in r:\\n        y_training.append(int(row[0]))\\n\\n        \\n        \\nX_train, X_test, y_train, y_test = train_test_split(X_training, y_training, test_size=0.2) # 80% training and 20% testing data\\nall_data.append([X_train, X_test, y_train, y_test,header])'"
      ]
     },
     "execution_count": 3,
     "metadata": {},
     "output_type": "execute_result"
    }
   ],
   "source": [
    "#read in blob dataset\n",
    "\n",
    "X_training = []\n",
    "y_training = []\n",
    "header = []\n",
    "c = 0\n",
    "with open(\"DataSets/blob_att.csv\",\"r\") as file:\n",
    "    r = csv.reader(file)\n",
    "    for row in r:\n",
    "        if(c == 0):\n",
    "            header = row\n",
    "            c+=1\n",
    "            continue\n",
    "        X_training.append([ float(x) for x in row])\n",
    "        \n",
    "with open(\"DataSets/blob_label.csv\",\"r\") as file:\n",
    "    r = csv.reader(file)\n",
    "    for row in r:\n",
    "        y_training.append(int(row[0]))\n",
    "\n",
    "        \n",
    "        \n",
    "X_train, X_test, y_train, y_test = train_test_split(X_training, y_training, test_size=0.2) # 80% training and 20% testing data\n",
    "all_data.append([X_train, X_test, y_train, y_test,header])"
   ]
  },
  {
   "cell_type": "code",
   "execution_count": 4,
   "metadata": {},
   "outputs": [
    {
     "data": {
      "text/plain": [
       "'#read in irirs dataset\\nX_training = []\\ny_training = []\\nheader = []\\nc = 0\\nwith open(\"DataSets/iris.csv\",\"r\") as file:\\n    r = csv.reader(file)\\n    for row in r:\\n        if(c == 0):\\n            header = row[:-1]\\n            c+=1\\n            continue\\n        X_training.append([float(x) for x in row[:-1]])\\n        y_training.append(row[-1])\\n        #print(row)\\n\\nfor i in range(len(y_training)):\\n    if(y_training[i] == \"Setosa\"):\\n        y_training[i] = 1\\n    if(y_training[i] == \"Versicolor\"):\\n        y_training[i] = 2\\n    if(y_training[i] == \"Virginica\"):\\n        y_training[i] = 3\\n\\n\\nX_train, X_test, y_train, y_test = train_test_split(X_training, y_training, test_size=0.2) # 80% training and 20% testing data\\nall_data.append([X_train, X_test, y_train, y_test,header])'"
      ]
     },
     "execution_count": 4,
     "metadata": {},
     "output_type": "execute_result"
    }
   ],
   "source": [
    "#read in irirs dataset\n",
    "X_training = []\n",
    "y_training = []\n",
    "header = []\n",
    "c = 0\n",
    "with open(\"DataSets/iris.csv\",\"r\") as file:\n",
    "    r = csv.reader(file)\n",
    "    for row in r:\n",
    "        if(c == 0):\n",
    "            header = row[:-1]\n",
    "            c+=1\n",
    "            continue\n",
    "        X_training.append([float(x) for x in row[:-1]])\n",
    "        y_training.append(row[-1])\n",
    "        #print(row)\n",
    "\n",
    "for i in range(len(y_training)):\n",
    "    if(y_training[i] == \"Setosa\"):\n",
    "        y_training[i] = 1\n",
    "    if(y_training[i] == \"Versicolor\"):\n",
    "        y_training[i] = 2\n",
    "    if(y_training[i] == \"Virginica\"):\n",
    "        y_training[i] = 3\n",
    "\n",
    "\n",
    "X_train, X_test, y_train, y_test = train_test_split(X_training, y_training, test_size=0.2) # 80% training and 20% testing data\n",
    "all_data.append([X_train, X_test, y_train, y_test,header])"
   ]
  },
  {
   "cell_type": "code",
   "execution_count": 5,
   "metadata": {},
   "outputs": [
    {
     "data": {
      "text/plain": [
       "'#read in wine dataset\\nX_training = []\\ny_training = []\\nheader = []\\nc = 0\\nwith open(\"DataSets/winequality-white_att.csv\",\"r\") as file:\\n    r = csv.reader(file)\\n    for row in r:\\n        if(c == 0):\\n            header = row\\n            c+=1\\n            continue\\n        X_training.append([float(x) for x in row[:-1]])\\n        y_training.append(float(row[-1]))\\n\\nX_train, X_test, y_train, y_test = train_test_split(X_training, y_training, test_size=0.2) # 80% training and 20% testing data\\nall_data.append([X_train, X_test, y_train, y_test,header])\\nprint(header)\\nprint(X_train)\\nprint(y_training)'"
      ]
     },
     "execution_count": 5,
     "metadata": {},
     "output_type": "execute_result"
    }
   ],
   "source": [
    "#read in wine dataset\n",
    "X_training = []\n",
    "y_training = []\n",
    "header = []\n",
    "c = 0\n",
    "with open(\"DataSets/winequality-white_att.csv\",\"r\") as file:\n",
    "    r = csv.reader(file)\n",
    "    for row in r:\n",
    "        if(c == 0):\n",
    "            header = row\n",
    "            c+=1\n",
    "            continue\n",
    "        X_training.append([float(x) for x in row[:-1]])\n",
    "        y_training.append(float(row[-1]))\n",
    "\n",
    "X_train, X_test, y_train, y_test = train_test_split(X_training, y_training, test_size=0.2) # 80% training and 20% testing data\n",
    "all_data.append([X_train, X_test, y_train, y_test,header])\n",
    "print(header)\n",
    "print(X_train)\n",
    "print(y_training)"
   ]
  },
  {
   "cell_type": "code",
   "execution_count": 6,
   "metadata": {},
   "outputs": [
    {
     "name": "stdout",
     "output_type": "stream",
     "text": [
      "10000\n",
      "10000\n"
     ]
    }
   ],
   "source": [
    "#read in house price dataset\n",
    "X_training = []\n",
    "y_training = []\n",
    "header = []\n",
    "c = 0\n",
    "with open(\"DataSets/house_att.csv\",\"r\") as file:\n",
    "    r = csv.reader(file)\n",
    "    for row in r:\n",
    "        if(c == 0):\n",
    "            header = row\n",
    "            c+=1\n",
    "            continue\n",
    "        X_training.append([float(x) for x in row])\n",
    "        \n",
    "with open(\"DataSets/house_price.csv\",\"r\") as file:\n",
    "    r = csv.reader(file)\n",
    "    for row in r:\n",
    "        y_training.append(float(row[0]))\n",
    "\n",
    "        \n",
    "print(len(X_training))\n",
    "print(len(y_training))\n",
    "X_train, X_test, y_train, y_test = train_test_split(X_training, y_training, test_size=0.2) # 80% training and 20% testing data\n",
    "all_data.append([X_train, X_test, y_train, y_test,header])\n"
   ]
  },
  {
   "cell_type": "code",
   "execution_count": 7,
   "metadata": {},
   "outputs": [],
   "source": [
    "#Sort dataset by an attribute.(increasing order)\n",
    "def sort_f(X,y,column):\n",
    "    \n",
    "\n",
    "  \n",
    "    sortf = zip(X,y)\n",
    "    sortf= sorted(sortf,key = lambda x:x[0][column])\n",
    "    X = [x for x,y in sortf]\n",
    "    y = [y for x,y in sortf]\n",
    "\n",
    "    return X,y"
   ]
  },
  {
   "cell_type": "code",
   "execution_count": 8,
   "metadata": {},
   "outputs": [],
   "source": [
    "class Tree:\n",
    "    def __init__(self,X,feature_names,labels):\n",
    "        \n",
    "        self.X = X\n",
    "        self.num_of_nodes = 0\n",
    "        self.currentsplit = 0\n",
    "        self.split_result = 0\n",
    "        self.feature_names = feature_names \n",
    "        self.labels = labels\n",
    "        self.nodes = []\n",
    "        self.leaf = 0\n",
    "        "
   ]
  },
  {
   "cell_type": "code",
   "execution_count": 9,
   "metadata": {},
   "outputs": [],
   "source": [
    "class Node:\n",
    "    def __init__(self,labels,X,feature_ids):\n",
    "        \n",
    "        self.split_result = 0\n",
    "        self.split = 0 \n",
    "        self.feature_ids = feature_ids\n",
    "        self.labels = labels\n",
    "        self.X = X\n",
    "        self.nodes = []\n",
    "        \n",
    "        self.leaf = 0 #true or false"
   ]
  },
  {
   "cell_type": "code",
   "execution_count": 10,
   "metadata": {},
   "outputs": [],
   "source": [
    "def get_features(X,labels,column,split_value):\n",
    "\n",
    "    #Split the dataset into two parts\n",
    "    #The first part has values  lower than split_value\n",
    "    #The second part has values  bigger or equal than split_value\n",
    "    #start = time.time()\n",
    "\n",
    "    \n",
    "    \n",
    "    features = [ X[i][column] for i in range(len(X)) ]\n",
    "    sub_labels = []\n",
    "    \n",
    "    sub_label1 = []\n",
    "    sub_label2 = []\n",
    "    sub_x1 = []\n",
    "    sub_x2 = []\n",
    "\n",
    "\n",
    "    for x in range(len(features)):\n",
    "        if(features[x]<=split_value):\n",
    "            sub_label1.append(labels[x])\n",
    "            sub_x1.append(X[x])\n",
    "        else:\n",
    "            sub_label2.append(labels[x])\n",
    "            sub_x2.append(X[x])\n",
    "\n",
    "    \n",
    "    sub_labels.append([sub_label1,sub_x1,column])\n",
    "    sub_labels.append([sub_label2,sub_x2,column])\n",
    "\n",
    "\n",
    "        \n",
    "    #return splited data,containing the labels,features and the the column\n",
    "    return sub_labels"
   ]
  },
  {
   "cell_type": "code",
   "execution_count": 11,
   "metadata": {},
   "outputs": [],
   "source": [
    "\n",
    "\n",
    "#calcualte standard deviation\n",
    "def calculate_std(data):\n",
    "   \n",
    "    mean = sum(data)/len(data)\n",
    "    \n",
    "    variance = 0\n",
    "    \n",
    "    for i in data:\n",
    "        variance += (i-mean)**2\n",
    "    \n",
    "    \n",
    "    return math.sqrt(variance/len(data))\n",
    "    \n",
    "\n"
   ]
  },
  {
   "cell_type": "code",
   "execution_count": 12,
   "metadata": {},
   "outputs": [],
   "source": [
    "\n",
    "\n",
    "def calculate_split_std(X,labels,column,split_value):\n",
    "    #calculate the standard deviation on the splited data,add them together and return that value\n",
    "    \n",
    "    \n",
    "    variance_sum = 0\n",
    "    #get the splited dataset\n",
    "    sub_labels = get_features(X,labels,column,split_value) \n",
    "\n",
    "    \n",
    "    for i in sub_labels:\n",
    "\n",
    "        if(len(i[0]) == 0):         \n",
    "            return -1,0\n",
    "\n",
    "        #variance_sum += (len(i[0])/len(labels))*calculate_std(i[0])\n",
    "        variance_sum += calculate_std(i[0])\n",
    "    #variance = calculate_std(labels) - variance_sum\n",
    "    \n",
    "    return variance_sum,sub_labels\n",
    "\n"
   ]
  },
  {
   "cell_type": "code",
   "execution_count": 13,
   "metadata": {},
   "outputs": [],
   "source": [
    "def find_best_split(X,labels,feature_ids):\n",
    "    #for each column we try to find the best split_value\n",
    "    #we return the split_value wich results in the lowest standard deviation\n",
    "    \n",
    "    \n",
    "    lowest_v = -1\n",
    "    split = 0\n",
    "    split_value = 0\n",
    "    V = 0 \n",
    "    \n",
    "    features = 0 \n",
    "    svalue = 0\n",
    "    min_sub_labels = 0\n",
    "    \n",
    "    \n",
    "    for i in feature_ids:\n",
    "        \n",
    "            #start = time.time()\n",
    "\n",
    "            X,labels = sort_f(X,labels,i)\n",
    "            \n",
    "            \n",
    "            features = [ X[j][i] for j in range(len(X))] \n",
    "\n",
    "            \n",
    "\n",
    "            for k in range(0,len(features)-1,2): \n",
    "                \n",
    "                svalue = (features[k]+features[k+1])/2\n",
    "                #svalue = (features[k])\n",
    "                \n",
    "                V,sub_labels = calculate_split_std(X,labels,i,svalue)\n",
    "                #if(b):\n",
    "                #    print(V)\n",
    "                if(lowest_v == -1):\n",
    "                    lowest_v = V\n",
    "                    split_value = svalue\n",
    "                    largest_v = V\n",
    "                    split = i\n",
    "                    min_sub_labels = sub_labels\n",
    "                #after the split, if the standard deviation is lower than in a previous split, we choose this one\n",
    "                if(V>lowest_v and V != -1):\n",
    "\n",
    "\n",
    "                    split_value = svalue\n",
    "                    lowest_v = V\n",
    "                    split = i\n",
    "                    min_sub_labels = sub_labels\n",
    "\n",
    "    return split,split_value,min_sub_labels"
   ]
  },
  {
   "cell_type": "code",
   "execution_count": 14,
   "metadata": {},
   "outputs": [],
   "source": [
    "def build_tree(X,feature_ids,labels,leaf_size,var,depth):\n",
    "    #find the best split for creating sub_nodes\n",
    "    #return sub_nodes\n",
    "    \n",
    "   \n",
    "    split = 0 \n",
    "    sub_nodes = []\n",
    "    \n",
    "\n",
    "\n",
    "    split,split_value,node_labels = find_best_split(X,labels,feature_ids)\n",
    "\n",
    "    for i in node_labels:\n",
    "\n",
    "        if(len(i[0]) == 0):\n",
    "            continue\n",
    "        #print(len(i[1]))\n",
    "        node = Node(i[0],i[1],feature_ids)\n",
    "        node.split = split\n",
    "        node.split_result = split_value\n",
    "        \n",
    "        \n",
    "    \n",
    "        if(len(node.labels) <= leaf_size or calculate_std(node.labels)<var):\n",
    "\n",
    "            node.leaf = 1\n",
    "            \n",
    "        else:\n",
    "            node.leaf = 0\n",
    "            \n",
    "        sub_nodes.append(node)\n",
    "    \n",
    "\n",
    "    depth +=1\n",
    "    #print('Depth:',depth)\n",
    "    leaf =  0\n",
    "    for i in sub_nodes:\n",
    "        \n",
    "        if(i.leaf == 1):\n",
    "            leaf +=1\n",
    "            \n",
    "    if(leaf == len(sub_nodes)):\n",
    "\n",
    "        return sub_nodes\n",
    "    \n",
    "    \n",
    "    if(sub_nodes[0].leaf == 1 and sub_nodes[1].leaf == 1):\n",
    "        return sub_nodes\n",
    "    \n",
    "    \n",
    "    \n",
    "    else:\n",
    "        for node in sub_nodes:\n",
    "\n",
    "            if(node.leaf == 0):\n",
    "                \n",
    "                node.nodes = build_tree(node.X,node.feature_ids,node.labels,leaf_size,var,depth)\n",
    "\n",
    "\n",
    "    return sub_nodes   "
   ]
  },
  {
   "cell_type": "code",
   "execution_count": 15,
   "metadata": {},
   "outputs": [],
   "source": [
    "def inicialize(X,feature_names,labels,leaf_size,var):\n",
    "    \n",
    "    depth = 1\n",
    "    \n",
    "    feature_ids = [x for x in range(len(feature_names))]\n",
    "    tree = Tree(X,feature_names,labels)\n",
    "    #start building tree\n",
    "    tree.nodes = build_tree(X,feature_ids,labels,leaf_size,var,depth)\n",
    "    return tree"
   ]
  },
  {
   "cell_type": "code",
   "execution_count": 16,
   "metadata": {},
   "outputs": [
    {
     "name": "stdout",
     "output_type": "stream",
     "text": [
      "-------------------------------------------------------\n"
     ]
    },
    {
     "name": "stdout",
     "output_type": "stream",
     "text": [
      "16.609733819961548\n"
     ]
    }
   ],
   "source": [
    "\n",
    "\n",
    "forest = []\n",
    "times = []\n",
    "limits = [0.1]\n",
    "\n",
    "size = 20\n",
    "counter = 0\n",
    "var = 0\n",
    "#for each dataset we build a tree and mesure the elapsed time\n",
    "for i in all_data:\n",
    "\n",
    "    f = []\n",
    "    t = []\n",
    "    if(counter == 0):\n",
    "        size = 20\n",
    "        var = 0.5\n",
    "    if(counter == 1):\n",
    "        size =10\n",
    "        var = 0.2\n",
    "    if(counter == 2):\n",
    "        size =20\n",
    "        var = 0.5\n",
    "    if(counter == 3):\n",
    "        size = 20\n",
    "        var = 1\n",
    "    \n",
    "        \n",
    "    print(\"-------------------------------------------------------\")\n",
    "    start = time.time()\n",
    "    tree = inicialize(i[0],i[-1],i[2],size,var)\n",
    "    end = time.time()\n",
    "    f.append(tree)\n",
    "    print(end-start)\n",
    "    t.append(end-start)\n",
    "    counter+=1\n",
    "    forest.append(f)\n",
    "    times.append(t)\n",
    "\n"
   ]
  },
  {
   "cell_type": "code",
   "execution_count": 17,
   "metadata": {},
   "outputs": [],
   "source": [
    "#go through the nodes until a leaf is reached\n",
    "#return the avarage value in the leaf\n",
    "def predict(node,value):\n",
    "    \n",
    "    if(node.leaf == 1):\n",
    "        #print('LEAF')\n",
    "        p = sum(node.labels)/len(node.labels)\n",
    "        \n",
    "        return p\n",
    "    else:\n",
    "        try:\n",
    "\n",
    "            if (value[node.nodes[0].split] <=  node.nodes[0].split_result):\n",
    "\n",
    "                p=predict(node.nodes[0],value)\n",
    "                return p\n",
    "            else:\n",
    "                p=predict(node.nodes[1],value)\n",
    "                return p\n",
    "        except:\n",
    "            return sum(node.labels)/len(node.labels)\n"
   ]
  },
  {
   "cell_type": "code",
   "execution_count": 18,
   "metadata": {},
   "outputs": [
    {
     "name": "stdout",
     "output_type": "stream",
     "text": [
      "[772.8559553361325]\n",
      "[559048.6422260697]\n",
      "[[0.2867559327643997]]\n"
     ]
    },
    {
     "data": {
      "text/plain": [
       "'with open(\"Results/difference_rt2.csv\", \\'a\\',newline=\\'\\') as f:\\n    # create the csv writer\\n    writer = csv.writer(f)\\n\\n    # write a row to the csv file\\n    for row in all_mse:\\n        writer.writerow(row)\\n\\nwith open(\"Results/times_rt2.csv\", \\'a\\',newline=\\'\\') as f:\\n    # create the csv writer\\n    writer = csv.writer(f)\\n\\n    # write a row to the csv file\\n    for row in times:\\n        writer.writerow(row)'"
      ]
     },
     "execution_count": 18,
     "metadata": {},
     "output_type": "execute_result"
    }
   ],
   "source": [
    "\n",
    "\n",
    "predicted_value = []#predicted points\n",
    "difference = []\n",
    "MSE = []\n",
    "sum_y = []\n",
    "\n",
    "#all_difference = []\n",
    "all_mse = []\n",
    "\n",
    "\n",
    "#for each tree we calculate the mean squared error\n",
    "#all_data = [X_train,X_test,y_train,y_test,header]\n",
    "for v in range(len(forest)):\n",
    "    MSE = []\n",
    "    for i in forest[v]:\n",
    "        j = all_data[v]\n",
    "        \n",
    "        X_test = j[1]\n",
    "        y_test = j[3]\n",
    "        pv = []\n",
    "        error = 0\n",
    "        mse = 0\n",
    "        for k in range(len(X_test)): \n",
    "\n",
    "\n",
    "            p = predict(i,X_test[k])\n",
    "\n",
    "   \n",
    "            error += abs(y_test[k]-p)\n",
    "            mse += (y_test[k]-p)**2\n",
    "            pv.append(p)           \n",
    "\n",
    "\n",
    "        sum_y.append(sum(y_test))\n",
    "        predicted_value.append(pv)\n",
    "        difference.append(error)\n",
    "        MSE.append(mse/len(X_test))\n",
    "\n",
    "    all_mse.append(MSE)\n",
    "    \n",
    "    \n",
    "print(difference)\n",
    "print(sum_y)\n",
    "\n",
    "print(all_mse)\n",
    "#save the results\n",
    "\n",
    "'''with open(\"Results/difference_rt2.csv\", 'a',newline='') as f:\n",
    "    # create the csv writer\n",
    "    writer = csv.writer(f)\n",
    "\n",
    "    # write a row to the csv file\n",
    "    for row in all_mse:\n",
    "        writer.writerow(row)\n",
    "\n",
    "with open(\"Results/times_rt2.csv\", 'a',newline='') as f:\n",
    "    # create the csv writer\n",
    "    writer = csv.writer(f)\n",
    "\n",
    "    # write a row to the csv file\n",
    "    for row in times:\n",
    "        writer.writerow(row)'''\n"
   ]
  },
  {
   "cell_type": "code",
   "execution_count": 19,
   "metadata": {},
   "outputs": [
    {
     "name": "stdout",
     "output_type": "stream",
     "text": [
      "2000\n",
      "559048.6422260697\n"
     ]
    },
    {
     "data": {
      "text/plain": [
       "Text(0.5, 1.0, 'Test data')"
      ]
     },
     "execution_count": 19,
     "metadata": {},
     "output_type": "execute_result"
    },
    {
     "data": {
      "image/png": "[encoded data removed]",
      "text/plain": [
       "<Figure size 1500x700 with 1 Axes>"
      ]
     },
     "metadata": {},
     "output_type": "display_data"
    }
   ],
   "source": [
    "plt.rcParams[\"figure.figsize\"] = (15,7)\n",
    "print(len(y_test))\n",
    "#print(len(predicted_value[14]))\n",
    "plt.scatter([ X_test[i][0] for i in range(len(X_test)) ],y_test,s=5)\n",
    "plt.scatter([ X_test[i][0] for i in range(len(X_test)) ], predicted_value[0],c=\"r\",s=5)\n",
    "plt.legend([\"Testing data\" , \"Predicted value\"])\n",
    "print(sum(y_test))\n",
    "plt.xlabel(\"Square meter\")\n",
    "plt.ylabel(\"Price\")\n",
    "plt.title(\"Test data\")"
   ]
  }
 ],
 "metadata": {
  "kernelspec": {
   "display_name": "Python 3",
   "language": "python",
   "name": "python3"
  },
  "language_info": {
   "codemirror_mode": {
    "name": "ipython",
    "version": 3
   },
   "file_extension": ".py",
   "mimetype": "text/x-python",
   "name": "python",
   "nbconvert_exporter": "python",
   "pygments_lexer": "ipython3",
   "version": "3.11.4"
  }
 },
 "nbformat": 4,
 "nbformat_minor": 4
}
