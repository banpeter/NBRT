{
 "cells": [
  {
   "cell_type": "code",
   "execution_count": 5,
   "metadata": {},
   "outputs": [
    {
     "name": "stdout",
     "output_type": "stream",
     "text": [
      "[[1, 2, 3, 4], [5, 2, 4, 6], [7, 5, 3, 8], [2, 7, 3, 8]]\n",
      "[1, 3, 4, 5]\n"
     ]
    }
   ],
   "source": [
    "X = [ [1,2,3,4],[5,2,4,6],[2,7,3,8],[7,5,3,8] ]\n",
    "y = [1,3,5,4]\n",
    "sortf = zip(X,y)\n",
    "sortf= sorted(sortf,key = lambda x:x[0][1])\n",
    "X = [x for x,y in sortf]\n",
    "y = [y for x,y in sortf]\n",
    "\n",
    "\n",
    "print(X)\n",
    "print(y)"
   ]
  },
  {
   "cell_type": "code",
   "execution_count": 7,
   "metadata": {},
   "outputs": [
    {
     "name": "stdout",
     "output_type": "stream",
     "text": [
      "[[1 2 3 4]\n",
      " [5 2 4 6]\n",
      " [2 7 3 8]\n",
      " [7 5 3 8]]\n",
      "[1 3 4 5]\n",
      "[1, 3, 4, 5]\n"
     ]
    }
   ],
   "source": [
    "import numpy as np\n",
    "\n",
    "\n",
    "a = np.array([ [1,2,3,4],[5,2,4,6],[2,7,3,8],[7,5,3,8] ])\n",
    "print(a)\n",
    "b = np.array([1,3,5,4])\n",
    "p = a[:,1].argsort()\n",
    "b=b[p]\n",
    "print(b)\n",
    "k = [x for x in b]\n",
    "print(k)"
   ]
  },
  {
   "cell_type": "code",
   "execution_count": 22,
   "metadata": {},
   "outputs": [],
   "source": [
    "\n",
    "def sortf(X,y,column):\n",
    "    p = X[:,column].argsort()\n",
    "    X = X[p]\n",
    "    y = y[p]\n",
    "\n",
    "    return X,y\n"
   ]
  },
  {
   "cell_type": "code",
   "execution_count": 29,
   "metadata": {},
   "outputs": [
    {
     "name": "stdout",
     "output_type": "stream",
     "text": [
      "[-- -- 5 --]\n"
     ]
    }
   ],
   "source": [
    "y = np.array([2,1,5,2])                         # y axis\n",
    "x = np.array([1,2,3,4])                         # x axis\n",
    "m = np.ma.masked_where(y<3, y)                  # filter out values larger than 5\n",
    "k = np.ma.masked_where(np.ma.getmask(m), x)\n",
    "print(m)"
   ]
  },
  {
   "cell_type": "code",
   "execution_count": 4,
   "metadata": {},
   "outputs": [
    {
     "name": "stdout",
     "output_type": "stream",
     "text": [
      "[False  True]\n",
      "[[2 1 5 2]\n",
      " [1 3 3 4]]\n",
      "[ True False]\n",
      "[2]\n",
      "[[2 1 5 2]]\n"
     ]
    }
   ],
   "source": [
    "import numpy as np\n",
    "x = np.array([[2,1,5,2],[1,3,3,4]])                         # y axis\n",
    "y = np.array([1,2]) \n",
    "#print(x)\n",
    "print(x[:,0] < 2)\n",
    "#\n",
    "print(x)\n",
    "m=x[:,0] < 2\n",
    "\n",
    "y=y[m]\n",
    "x=x[np.invert(m)]\n",
    "print(y)\n",
    "print(x)"
   ]
  },
  {
   "cell_type": "code",
   "execution_count": null,
   "metadata": {},
   "outputs": [],
   "source": [
    "def get_features(X,labels,column,split_value):\n",
    "\n",
    "    sub_labels =[]\n",
    "\n",
    "    m = np.ma.masked_where(X[:,column]<split_value, X[:,column]) \n",
    "\n",
    "    sub_x1 = np.ma.masked_where(np.ma.getmask(m), X)\n",
    "    sub_x1 = np.ma.compressed(sub_x1)\n",
    "    \n",
    "    sub_label1 = np.ma.masked_where(np.ma.getmask(m), labels)\n",
    "    sub_label1 = np.ma.compressed(labels)\n",
    "   \n",
    "    m = np.ma.masked_where(X[:,column]>split_value, X[:,column]) \n",
    "\n",
    "    sub_x2 = np.ma.masked_where(np.ma.getmask(m), X)\n",
    "    sub_x2 = np.ma.compressed(g)\n",
    "    \n",
    "    sub_label2 = np.ma.masked_where(np.ma.getmask(m), labels)\n",
    "    sub_label2 = np.ma.compressed(labels)\n",
    "    \n",
    "\n",
    "    sub_labels.append([sub_label1,sub_x1,column])\n",
    "    sub_labels.append([sub_label2,sub_x2,column])"
   ]
  },
  {
   "cell_type": "code",
   "execution_count": 26,
   "metadata": {},
   "outputs": [
    {
     "name": "stdout",
     "output_type": "stream",
     "text": [
      "[{2: []}, {1: []}, {3: []}]\n",
      "[1, 2, 3]\n",
      "[{1: []}, {2: []}, {3: []}]\n"
     ]
    }
   ],
   "source": [
    "\n",
    "\n",
    "\n",
    "x = {1:[]}\n",
    "y = {2:[]}\n",
    "z = {3:[]}\n",
    "\n",
    "olt1 = [y,x,z]\n",
    "\n",
    "print(olt1)\n",
    "\n",
    "#olt2 = sorted(olt1, key=lamda d: d[0].keys())\n",
    "keys = []\n",
    "for i in olt1:\n",
    "    keys.append(list(i.keys())[0])\n",
    "\n",
    "keys=sorted(keys)\n",
    "keys = (sorted([list(x.keys())[0] for x in olt1]))\n",
    "print(keys)\n",
    "olt2 = sorted(olt1, key=lambda d: [k in d for k in sorted([list(x.keys())[0] for x in olt1])],reverse=True)\n",
    "print(olt2)"
   ]
  },
  {
   "cell_type": "code",
   "execution_count": 6,
   "metadata": {},
   "outputs": [
    {
     "name": "stdout",
     "output_type": "stream",
     "text": [
      "-0.0009970664978027344\n",
      "0.0\n"
     ]
    }
   ],
   "source": [
    "import time\n",
    "import numpy as np\n",
    "x = np.array([[2,1,5,2],[1,3,3,4],[2,1,5,2],[2,1,5,2],[2,1,5,2],[2,1,5,2],[2,1,5,2],[2,1,5,2],[2,1,5,2],[2,1,5,2],[2,1,5,2],[2,1,5,2],[2,1,5,2],[2,1,5,2],[2,1,5,2],[2,1,5,2],[2,1,5,2],[2,1,5,2],[2,1,5,2],[2,1,5,2],[2,1,5,2],[2,1,5,2],[2,1,5,2]])\n",
    "\n",
    "start = time.time()\n",
    "x = x[:,1]\n",
    "end = time.time()\n",
    "print(start-end)\n",
    "\n",
    "\n",
    "start = time.time()\n",
    "x = [i for i in x]\n",
    "end = time.time()\n",
    "print(start-end)\n",
    "\n"
   ]
  },
  {
   "cell_type": "code",
   "execution_count": 10,
   "metadata": {},
   "outputs": [
    {
     "name": "stdout",
     "output_type": "stream",
     "text": [
      "[[2 1 5 2]\n",
      " [1 3 3 4]\n",
      " [2 1 5 2]]\n"
     ]
    }
   ],
   "source": [
    "import numpy as np\n",
    "x = np.array([[2,1,5,2],[1,3,3,4]]) \n",
    "y = np.array([[2,1,5,2]]) \n",
    "z = np.array([1,2]) \n",
    "#(dists >= r) & (dists <= r + dr)\n",
    "\n",
    "\n",
    "\n",
    "#x=x.reshape(-1,1)\n",
    "#y=y.reshape(-1,1)\n",
    "#a = np.vstack((x,y))\n",
    "b = np.concatenate((x, y), axis=0)\n",
    "print(b)"
   ]
  },
  {
   "cell_type": "code",
   "execution_count": 9,
   "metadata": {},
   "outputs": [
    {
     "name": "stdout",
     "output_type": "stream",
     "text": [
      "[[1 2]\n",
      " [3 4]\n",
      " [5 6]]\n"
     ]
    }
   ],
   "source": [
    "import numpy as np\n",
    "a = np.array([[1, 2], [3, 4]])\n",
    "b = np.array([[5, 6]])\n",
    "\n",
    "x = np.concatenate((a, b), axis=0)\n",
    "print(x)\n"
   ]
  },
  {
   "cell_type": "code",
   "execution_count": 12,
   "metadata": {},
   "outputs": [],
   "source": [
    "import numpy as np\n",
    "for i in range(8000):\n",
    "    a = np.std([1,2,3])-np.std([1,2,3])\n",
    "    if a == 1:\n",
    "        print (\"bruh\")"
   ]
  },
  {
   "cell_type": "code",
   "execution_count": null,
   "metadata": {},
   "outputs": [],
   "source": []
  }
 ],
 "metadata": {
  "kernelspec": {
   "display_name": "projects",
   "language": "python",
   "name": "python3"
  },
  "language_info": {
   "codemirror_mode": {
    "name": "ipython",
    "version": 3
   },
   "file_extension": ".py",
   "mimetype": "text/x-python",
   "name": "python",
   "nbconvert_exporter": "python",
   "pygments_lexer": "ipython3",
   "version": "3.7.7"
  }
 },
 "nbformat": 4,
 "nbformat_minor": 4
}
