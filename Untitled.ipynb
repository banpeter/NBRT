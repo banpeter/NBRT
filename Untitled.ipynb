{
 "cells": [
  {
   "cell_type": "code",
   "execution_count": 5,
   "metadata": {},
   "outputs": [
    {
     "name": "stdout",
     "output_type": "stream",
     "text": [
      "[[1, 2, 3, 4], [5, 2, 4, 6], [7, 5, 3, 8], [2, 7, 3, 8]]\n",
      "[1, 3, 4, 5]\n"
     ]
    }
   ],
   "source": [
    "X = [ [1,2,3,4],[5,2,4,6],[2,7,3,8],[7,5,3,8] ]\n",
    "y = [1,3,5,4]\n",
    "sortf = zip(X,y)\n",
    "sortf= sorted(sortf,key = lambda x:x[0][1])\n",
    "X = [x for x,y in sortf]\n",
    "y = [y for x,y in sortf]\n",
    "\n",
    "\n",
    "print(X)\n",
    "print(y)"
   ]
  },
  {
   "cell_type": "code",
   "execution_count": null,
   "metadata": {},
   "outputs": [],
   "source": []
  }
 ],
 "metadata": {
  "kernelspec": {
   "display_name": "projects",
   "language": "python",
   "name": "python3"
  },
  "language_info": {
   "codemirror_mode": {
    "name": "ipython",
    "version": 3
   },
   "file_extension": ".py",
   "mimetype": "text/x-python",
   "name": "python",
   "nbconvert_exporter": "python",
   "pygments_lexer": "ipython3",
   "version": "3.7.7"
  }
 },
 "nbformat": 4,
 "nbformat_minor": 4
}
