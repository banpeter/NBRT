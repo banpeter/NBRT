{
 "cells": [
  {
   "cell_type": "code",
   "execution_count": 1,
   "metadata": {},
   "outputs": [],
   "source": [
    "import numpy as np\n",
    "import matplotlib.pyplot as plt\n",
    "import random\n",
    "import math"
   ]
  },
  {
   "cell_type": "code",
   "execution_count": 2,
   "metadata": {},
   "outputs": [],
   "source": [
    "#Data\n",
    "\n",
    "training_data = [\n",
    "    ['Green', 3],\n",
    "    ['Yellow', 3],\n",
    "    ['Red', 1],\n",
    "    ['Red', 1],\n",
    "    ['Yellow', 3],\n",
    "]\n",
    "labels = [\n",
    "    'Apple',\n",
    "    'Apple',\n",
    "    'Grape',\n",
    "    'Grape',\n",
    "    'Lemon'\n",
    "]\n",
    "header = [\"color\", \"diameter\"]"
   ]
  },
  {
   "cell_type": "code",
   "execution_count": 3,
   "metadata": {},
   "outputs": [],
   "source": [
    "class Tree:\n",
    "    def __init__(self,X,feature_names,labels):\n",
    "        \n",
    "        self.X = X\n",
    "        self.num_of_nodes = 0\n",
    "        self.currentsplit = 0\n",
    "        self.feature_names = feature_names#coloum names\n",
    "        self.labels = labels#y\n",
    "        self.catagories = set(labels)\n",
    "        self.nodes = []\n",
    "        "
   ]
  },
  {
   "cell_type": "code",
   "execution_count": 4,
   "metadata": {},
   "outputs": [],
   "source": [
    "class Node:\n",
    "    def __init__(self,labels,X_ids,feature_ids):\n",
    "        \n",
    "        self.feature_names = feature_ids\n",
    "        self.labels = labels\n",
    "        self.child = []\n",
    "        self.ids = X_ids\n",
    "        self.leaf = 0 #true or false"
   ]
  },
  {
   "cell_type": "code",
   "execution_count": 5,
   "metadata": {},
   "outputs": [],
   "source": [
    "def get_features(X,labels,column,ids):\n",
    "    #split the data in column into sets of rows\n",
    "    #return splited features with their indexes [sub_labels,indexes]\n",
    "    #get the chosen column in a list\n",
    "    \n",
    "    features = [ X[i][column] for i in ids ]#ids tell which row should we use in our calculations\n",
    "    features_categories = set(features)\n",
    "    \n",
    "    sub_labels = []\n",
    "    for i in features_categories:\n",
    "        \n",
    "        sub_label = [labels[x] for x in range(len(features)) if features[x]==i]#get the labels corresponing to the chosen features\n",
    "        sub_index = [x for x in range(len(features)) if features[x]==i]\n",
    "        sub_labels.append([sub_label,sub_index])\n",
    "        \n",
    "    return sub_labels"
   ]
  },
  {
   "cell_type": "code",
   "execution_count": 25,
   "metadata": {},
   "outputs": [],
   "source": [
    "def calculate_entropy(data):\n",
    "    \n",
    "    #print(data)\n",
    "    \n",
    "    categories = set(data)\n",
    "    entropy = 0;\n",
    "    for i in categories:\n",
    "        p = list(categories).count(i)/len(data)\n",
    "        entropy -=  p*math.log(p,2)\n",
    "    \n",
    "    return entropy"
   ]
  },
  {
   "cell_type": "code",
   "execution_count": 8,
   "metadata": {},
   "outputs": [],
   "source": [
    "def calculate_information_gain(X,labels,column,ids):#by data from parent node\n",
    "    I = 0\n",
    "    \n",
    "    sub_labels = get_features(X,labels,column,ids) \n",
    "    for i in sub_labels:\n",
    "        entropy = calculate_entropy(i[0])\n",
    "        I += entropy * len(i[0])\n",
    "    \n",
    "    I = I/len(labels)\n",
    "    #all_entropy = calculate_entropy(labels)\n",
    "    \n",
    "    #I= all_entropy - \n",
    "    \n",
    "    return I"
   ]
  },
  {
   "cell_type": "code",
   "execution_count": 18,
   "metadata": {},
   "outputs": [],
   "source": [
    "def find_best_split(X,labels,feature_names,ids):\n",
    "    \n",
    "    largest_ig = 0\n",
    "    split = 0\n",
    "    I = 0 \n",
    "    \n",
    "    for i in feature_names:\n",
    "\n",
    "            I = calculate_information_gain(X,labels,i,ids)\n",
    "            if(I>largest_ig):\n",
    "                largest_ig = I\n",
    "                split = i\n",
    "\n",
    "    return split"
   ]
  },
  {
   "cell_type": "code",
   "execution_count": 10,
   "metadata": {},
   "outputs": [],
   "source": [
    "def get_index(X):#return ids according to splited labels\n",
    "\n",
    "    ids = [x for i in range(len(X))]\n",
    "    return ids\n",
    "########################################### no use"
   ]
  },
  {
   "cell_type": "code",
   "execution_count": 29,
   "metadata": {},
   "outputs": [],
   "source": [
    "def build_tree(X,feature_names,labels,ids,parent_node):\n",
    "    \n",
    "    split = 0 \n",
    "    \n",
    "    for i in range(len(feature_names)):\n",
    "\n",
    "        split = find_best_split(X,labels,feature_names,ids)\n",
    "\n",
    "    #split into nodes\n",
    "    feature_names.pop(split)\n",
    "    node_labels = get_features(X,labels,split,ids)\n",
    "    \n",
    "    \n",
    "    \n",
    "    \n",
    "    for i in node_labels:\n",
    "        node = Node(i[0],i[1],feature_names)#if it is not leaf call build_tree\n",
    "        #linked list\n",
    "        if(feature_names == [] or entropy(node.labels) == 0):\n",
    "            node.leaf = 1\n",
    "        parent_node.nodes.append(node)\n",
    "        parent_node.num_of_nodes +=1\n",
    "        \n",
    "    if(feature_names == []):\n",
    "        \n",
    "        return\n",
    "    #for node in parent_node.nodes:\n",
    "    #    node.child.append(build_tree(X,feature_names,labels,ids))\n",
    "\n",
    "\n",
    "    return parent_node\n",
    "\n",
    "    #ids = get_index(X,lables,sub_labels)\n",
    "    \n",
    "    "
   ]
  },
  {
   "cell_type": "code",
   "execution_count": 12,
   "metadata": {},
   "outputs": [],
   "source": [
    "def predict():\n",
    "    print(0)"
   ]
  },
  {
   "cell_type": "code",
   "execution_count": 30,
   "metadata": {},
   "outputs": [],
   "source": [
    "def inicialize(X,feature_names,labels):\n",
    "    \n",
    "    ids = [x for x in range(len(X))]\n",
    "    feature_ids = [x for x in range(len(feature_names))]\n",
    "    tree = Tree(X,feature_names,labels)\n",
    "    build_tree(X,feature_ids,labels,ids,tree)\n",
    "    "
   ]
  },
  {
   "cell_type": "code",
   "execution_count": 31,
   "metadata": {},
   "outputs": [],
   "source": [
    "#build_tree(training_data,header,labels)\n",
    "inicialize(training_data,header,labels)"
   ]
  },
  {
   "cell_type": "code",
   "execution_count": 21,
   "metadata": {},
   "outputs": [
    {
     "name": "stdout",
     "output_type": "stream",
     "text": [
      "1\n",
      "2\n",
      "3\n",
      "4\n",
      "5\n"
     ]
    }
   ],
   "source": [
    "array = [1,1,2,3,4,5,5]\n",
    "array = set(array)\n",
    "for i in array:\n",
    "    print(i)\n"
   ]
  },
  {
   "cell_type": "code",
   "execution_count": null,
   "metadata": {},
   "outputs": [],
   "source": []
  }
 ],
 "metadata": {
  "kernelspec": {
   "display_name": "Python 3",
   "language": "python",
   "name": "python3"
  },
  "language_info": {
   "codemirror_mode": {
    "name": "ipython",
    "version": 3
   },
   "file_extension": ".py",
   "mimetype": "text/x-python",
   "name": "python",
   "nbconvert_exporter": "python",
   "pygments_lexer": "ipython3",
   "version": "3.7.6"
  }
 },
 "nbformat": 4,
 "nbformat_minor": 4
}
