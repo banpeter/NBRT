{
 "cells": [
  {
   "cell_type": "code",
   "execution_count": 5,
   "metadata": {},
   "outputs": [
    {
     "name": "stdout",
     "output_type": "stream",
     "text": [
      "[[1, 2, 3, 4], [5, 2, 4, 6], [7, 5, 3, 8], [2, 7, 3, 8]]\n",
      "[1, 3, 4, 5]\n"
     ]
    }
   ],
   "source": [
    "X = [ [1,2,3,4],[5,2,4,6],[2,7,3,8],[7,5,3,8] ]\n",
    "y = [1,3,5,4]\n",
    "sortf = zip(X,y)\n",
    "sortf= sorted(sortf,key = lambda x:x[0][1])\n",
    "X = [x for x,y in sortf]\n",
    "y = [y for x,y in sortf]\n",
    "\n",
    "\n",
    "print(X)\n",
    "print(y)"
   ]
  },
  {
   "cell_type": "code",
   "execution_count": 2,
   "metadata": {},
   "outputs": [
    {
     "name": "stdout",
     "output_type": "stream",
     "text": [
      "[[1, 2, 3, 4], [5, 2, 4, 6], [7, 5, 3, 8], [2, 7, 3, 8]]\n",
      "[1, 3, 4, 5]\n"
     ]
    }
   ],
   "source": [
    "X = [ [1,2,3,4],[5,2,4,6],[2,7,3,8],[7,5,3,8] ]\n",
    "y = [1,3,5,4]\n",
    "sortf = zip(X,y)\n",
    "sortf= sorted(sortf,key = lambda x:x[1])\n",
    "X = [x for x,y in sortf]\n",
    "y = [y for x,y in sortf]\n",
    "\n",
    "\n",
    "print(X)\n",
    "print(y)"
   ]
  },
  {
   "cell_type": "code",
   "execution_count": 7,
   "metadata": {},
   "outputs": [
    {
     "name": "stdout",
     "output_type": "stream",
     "text": [
      "[[1 2 3 4]\n",
      " [5 2 4 6]\n",
      " [2 7 3 8]\n",
      " [7 5 3 8]]\n",
      "[1 3 4 5]\n",
      "[1, 3, 4, 5]\n"
     ]
    }
   ],
   "source": [
    "import numpy as np\n",
    "\n",
    "\n",
    "a = np.array([ [1,2,3,4],[5,2,4,6],[2,7,3,8],[7,5,3,8] ])\n",
    "print(a)\n",
    "b = np.array([1,3,5,4])\n",
    "p = a[:,1].argsort()\n",
    "b=b[p]\n",
    "print(b)\n",
    "k = [x for x in b]\n",
    "print(k)"
   ]
  },
  {
   "cell_type": "code",
   "execution_count": 22,
   "metadata": {},
   "outputs": [],
   "source": [
    "\n",
    "def sortf(X,y,column):\n",
    "    p = X[:,column].argsort()\n",
    "    X = X[p]\n",
    "    y = y[p]\n",
    "\n",
    "    return X,y\n"
   ]
  },
  {
   "cell_type": "code",
   "execution_count": 29,
   "metadata": {},
   "outputs": [
    {
     "name": "stdout",
     "output_type": "stream",
     "text": [
      "[-- -- 5 --]\n"
     ]
    }
   ],
   "source": [
    "y = np.array([2,1,5,2])                         # y axis\n",
    "x = np.array([1,2,3,4])                         # x axis\n",
    "m = np.ma.masked_where(y<3, y)                  # filter out values larger than 5\n",
    "k = np.ma.masked_where(np.ma.getmask(m), x)\n",
    "print(m)"
   ]
  },
  {
   "cell_type": "code",
   "execution_count": 4,
   "metadata": {},
   "outputs": [
    {
     "name": "stdout",
     "output_type": "stream",
     "text": [
      "[False  True]\n",
      "[[2 1 5 2]\n",
      " [1 3 3 4]]\n",
      "[ True False]\n",
      "[2]\n",
      "[[2 1 5 2]]\n"
     ]
    }
   ],
   "source": [
    "import numpy as np\n",
    "x = np.array([[2,1,5,2],[1,3,3,4]])                         # y axis\n",
    "y = np.array([1,2]) \n",
    "#print(x)\n",
    "print(x[:,0] < 2)\n",
    "#\n",
    "print(x)\n",
    "m=x[:,0] < 2\n",
    "\n",
    "y=y[m]\n",
    "x=x[np.invert(m)]\n",
    "print(y)\n",
    "print(x)"
   ]
  },
  {
   "cell_type": "code",
   "execution_count": null,
   "metadata": {},
   "outputs": [],
   "source": [
    "def get_features(X,labels,column,split_value):\n",
    "\n",
    "    sub_labels =[]\n",
    "\n",
    "    m = np.ma.masked_where(X[:,column]<split_value, X[:,column]) \n",
    "\n",
    "    sub_x1 = np.ma.masked_where(np.ma.getmask(m), X)\n",
    "    sub_x1 = np.ma.compressed(sub_x1)\n",
    "    \n",
    "    sub_label1 = np.ma.masked_where(np.ma.getmask(m), labels)\n",
    "    sub_label1 = np.ma.compressed(labels)\n",
    "   \n",
    "    m = np.ma.masked_where(X[:,column]>split_value, X[:,column]) \n",
    "\n",
    "    sub_x2 = np.ma.masked_where(np.ma.getmask(m), X)\n",
    "    sub_x2 = np.ma.compressed(g)\n",
    "    \n",
    "    sub_label2 = np.ma.masked_where(np.ma.getmask(m), labels)\n",
    "    sub_label2 = np.ma.compressed(labels)\n",
    "    \n",
    "\n",
    "    sub_labels.append([sub_label1,sub_x1,column])\n",
    "    sub_labels.append([sub_label2,sub_x2,column])"
   ]
  },
  {
   "cell_type": "code",
   "execution_count": 26,
   "metadata": {},
   "outputs": [
    {
     "name": "stdout",
     "output_type": "stream",
     "text": [
      "[{2: []}, {1: []}, {3: []}]\n",
      "[1, 2, 3]\n",
      "[{1: []}, {2: []}, {3: []}]\n"
     ]
    }
   ],
   "source": [
    "\n",
    "\n",
    "\n",
    "x = {1:[]}\n",
    "y = {2:[]}\n",
    "z = {3:[]}\n",
    "\n",
    "olt1 = [y,x,z]\n",
    "\n",
    "print(olt1)\n",
    "\n",
    "#olt2 = sorted(olt1, key=lamda d: d[0].keys())\n",
    "keys = []\n",
    "for i in olt1:\n",
    "    keys.append(list(i.keys())[0])\n",
    "\n",
    "keys=sorted(keys)\n",
    "keys = (sorted([list(x.keys())[0] for x in olt1]))\n",
    "print(keys)\n",
    "olt2 = sorted(olt1, key=lambda d: [k in d for k in sorted([list(x.keys())[0] for x in olt1])],reverse=True)\n",
    "print(olt2)"
   ]
  },
  {
   "cell_type": "code",
   "execution_count": 6,
   "metadata": {},
   "outputs": [
    {
     "name": "stdout",
     "output_type": "stream",
     "text": [
      "-0.0009970664978027344\n",
      "0.0\n"
     ]
    }
   ],
   "source": [
    "import time\n",
    "import numpy as np\n",
    "x = np.array([[2,1,5,2],[1,3,3,4],[2,1,5,2],[2,1,5,2],[2,1,5,2],[2,1,5,2],[2,1,5,2],[2,1,5,2],[2,1,5,2],[2,1,5,2],[2,1,5,2],[2,1,5,2],[2,1,5,2],[2,1,5,2],[2,1,5,2],[2,1,5,2],[2,1,5,2],[2,1,5,2],[2,1,5,2],[2,1,5,2],[2,1,5,2],[2,1,5,2],[2,1,5,2]])\n",
    "\n",
    "start = time.time()\n",
    "x = x[:,1]\n",
    "end = time.time()\n",
    "print(start-end)\n",
    "\n",
    "\n",
    "start = time.time()\n",
    "x = [i for i in x]\n",
    "end = time.time()\n",
    "print(start-end)\n",
    "\n"
   ]
  },
  {
   "cell_type": "code",
   "execution_count": 1,
   "metadata": {},
   "outputs": [
    {
     "name": "stdout",
     "output_type": "stream",
     "text": [
      "[[2 1 5 2]\n",
      " [1 3 3 4]]\n",
      "[[2 1 5 2]]\n",
      "[[2 1 5 2]\n",
      " [1 3 3 4]\n",
      " [2 1 5 2]]\n"
     ]
    }
   ],
   "source": [
    "import numpy as np\n",
    "x = np.array([[2,1,5,2],[1,3,3,4]]) \n",
    "y = np.array([[2,1,5,2]]) \n",
    "z = np.array([1,2]) \n",
    "#(dists >= r) & (dists <= r + dr)\n",
    "\n",
    "\n",
    "\n",
    "#x=x.reshape(-1,1)\n",
    "#y=y.reshape(-1,1)\n",
    "#a = np.vstack((x,y))\n",
    "print(x)\n",
    "print(y)\n",
    "b = np.concatenate((x, y), axis=0)\n",
    "print(b)"
   ]
  },
  {
   "cell_type": "code",
   "execution_count": 2,
   "metadata": {},
   "outputs": [
    {
     "name": "stdout",
     "output_type": "stream",
     "text": [
      "[array([[1, 2],\n",
      "       [3, 4]]), array([[5, 6]])]\n",
      "[[1 2]\n",
      " [3 4]\n",
      " [5 6]]\n",
      "[array([[1, 2],\n",
      "       [3, 4]]), array([[5, 6]])]\n"
     ]
    }
   ],
   "source": [
    "import numpy as np\n",
    "a = np.array([[1, 2], [3, 4]])\n",
    "b = np.array([[5, 6]])\n",
    "c = [a,b]\n",
    "print(c)\n",
    "x = np.concatenate((c[0], c[1]), axis=0)\n",
    "print(x)\n",
    "print(c)\n"
   ]
  },
  {
   "cell_type": "code",
   "execution_count": 12,
   "metadata": {},
   "outputs": [],
   "source": [
    "import numpy as np\n",
    "for i in range(8000):\n",
    "    a = np.std([1,2,3])-np.std([1,2,3])\n",
    "    if a == 1:\n",
    "        print (\"bruh\")"
   ]
  },
  {
   "cell_type": "code",
   "execution_count": 3,
   "metadata": {},
   "outputs": [
    {
     "name": "stdout",
     "output_type": "stream",
     "text": [
      "[[2 1 5 2]\n",
      " [1 3 3 4]]\n"
     ]
    }
   ],
   "source": [
    "import numpy as np\n",
    "x = np.array([[2,1,5,2],[1,3,3,4]]) \n",
    "y = np.array([[2,1,5,2]]) \n",
    "z = np.array([1,2]) \n",
    "\n",
    "r=1\n",
    "\n",
    "mask = (x[:,0] >= r) & (x[:,0] <= r + 3)\n",
    "\n",
    "print(x[mask])"
   ]
  },
  {
   "cell_type": "code",
   "execution_count": 4,
   "metadata": {},
   "outputs": [
    {
     "name": "stdout",
     "output_type": "stream",
     "text": [
      "2\n"
     ]
    }
   ],
   "source": [
    "import numpy as np\n",
    "a = np.array([[1, 2], [3, 4]])\n",
    "b = np.array([[5, 6]])\n",
    "\n",
    "\n",
    "x=0\n",
    "\n",
    "for i in range(len(a)):\n",
    "    x+=1\n",
    "print(x)"
   ]
  },
  {
   "cell_type": "code",
   "execution_count": 6,
   "metadata": {},
   "outputs": [
    {
     "name": "stdout",
     "output_type": "stream",
     "text": [
      "False\n"
     ]
    }
   ],
   "source": [
    "a = [1,2,3]\n",
    "b = [1,3,2]\n",
    "\n",
    "if(a == b):\n",
    "    print(True)\n",
    "else:\n",
    "    print(False)"
   ]
  },
  {
   "cell_type": "code",
   "execution_count": null,
   "metadata": {},
   "outputs": [],
   "source": [
    "def monotonity(arr):\n",
    "    for i in range(len(arr)-1):\n",
    "        if(arr[i]>arr[i+1]):\n",
    "            print(False)\n",
    "            "
   ]
  },
  {
   "cell_type": "code",
   "execution_count": null,
   "metadata": {},
   "outputs": [],
   "source": [
    "#Sort dataset by an attribute.(increasing order)\n",
    "def sort_f(X,y,column):\n",
    "    \n",
    "\n",
    "  \n",
    "    sortf = zip(X,y)\n",
    "    sortf= sorted(sortf,key = lambda x:x[0][column])\n",
    "    X = [x for x,y in sortf]\n",
    "    y = [y for x,y in sortf]\n",
    "    \n",
    "    \n",
    "\n",
    "    return X,y"
   ]
  },
  {
   "cell_type": "code",
   "execution_count": null,
   "metadata": {},
   "outputs": [],
   "source": [
    "#Sort dataset by an attribute.(increasing order)\n",
    "def sort_f2(X,y,column):\n",
    "    \n",
    "\n",
    "    X = np.array(X)\n",
    "    y = np.array(y)\n",
    "    p = X[:,column].argsort()\n",
    "    X = X[p]\n",
    "    y = y[p]\n",
    "\n",
    "    return X.tolist(),y.tolist()"
   ]
  },
  {
   "cell_type": "code",
   "execution_count": null,
   "metadata": {},
   "outputs": [],
   "source": [
    "#read in house dataset\n",
    "X_training = []\n",
    "y_training = []\n",
    "header = []\n",
    "c = 0\n",
    "with open(\"DataSets/house_att.csv\",\"r\") as file:\n",
    "    r = csv.reader(file)\n",
    "    for row in r:\n",
    "        if(c == 0):\n",
    "            header = row\n",
    "            c+=1\n",
    "            continue\n",
    "        X_training.append([float(x) for x in row])\n",
    "        \n",
    "with open(\"DataSets/house_price.csv\",\"r\") as file:\n",
    "    r = csv.reader(file)\n",
    "    for row in r:\n",
    "        #print(row)\n",
    "        y_training.append(float(row[0]))#row[0]!!!\n",
    "\n",
    "        \n",
    "print(len(X_training))\n",
    "print(len(y_training))\n",
    "X_train, X_test, y_train, y_test = train_test_split(X_training, y_training, test_size=0.2) # 80% training and 20% testing data\n",
    "all_data.append([X_train, X_test, y_train, y_test,header])\n",
    "print(X_training)\n",
    "print(y_training)\n",
    "\n",
    "\n"
   ]
  },
  {
   "cell_type": "code",
   "execution_count": 3,
   "metadata": {},
   "outputs": [
    {
     "name": "stdout",
     "output_type": "stream",
     "text": [
      "[[1, 'a'], [2, 'b'], [3, 'c']]\n"
     ]
    }
   ],
   "source": [
    "X = [1,2,3]\n",
    "labels = ['a','b','c']\n",
    "\n",
    "x = [[x,y] for x,y in zip(X,labels)]\n",
    "print(x)"
   ]
  },
  {
   "cell_type": "code",
   "execution_count": null,
   "metadata": {},
   "outputs": [],
   "source": [
    "def predict2(node,value):\n",
    "    path = []\n",
    "    paths = []\n",
    "    for column in range(len(value)):\n",
    "        path = []\n",
    "        for n in node.nodes:\n",
    "            feature = [ n.X[j][column] for j in range(len(n.X)) ]\n",
    "            if (max(feature)>=value[column] and min(feature)<=value[column]):\n",
    "                #path[node.nodes.index(n)] = check(n,value,column)\n",
    "\n",
    "                if(i.leaf != 1):\n",
    "                    p = check(n,value,column)\n",
    "                    for k in p:\n",
    "                        k = [node.nodes.index(n)]+k\n",
    "                    path.append(k)\n",
    "                #return p,steps\n",
    "                else:\n",
    "                    path.append([node.nodes.index(n)])\n",
    "        paths.append(path)\n",
    "\n",
    "\n",
    "    \n",
    "    #for i in range(len(value)):\n",
    "        #\n",
    "    return 1"
   ]
  },
  {
   "cell_type": "code",
   "execution_count": null,
   "metadata": {},
   "outputs": [],
   "source": [
    "def check(node,value,column):\n",
    "    \n",
    "    #for each node we create an array\n",
    "          \n",
    "        \n",
    "    path = []\n",
    "    for n in node.nodes:\n",
    "        \n",
    "        feature = [ n.X[j][column] for j in range(len(n.X)) ]\n",
    "        if (max(feature)>=value[column] and min(feature)<=value[column]):\n",
    "            #path[node.nodes.index(n)] = check(n,value,column)\n",
    "            \n",
    "            #return p,steps\n",
    "            if(i.leaf != 1):\n",
    "                p = check(n,value,column)\n",
    "                for k in p:\n",
    "                    k = [node.nodes.index(n)]+k\n",
    "                path.append(k)\n",
    "                #return p,steps\n",
    "            else:\n",
    "                path.append([node.nodes.index(n)])\n",
    "    return path"
   ]
  },
  {
   "cell_type": "code",
   "execution_count": null,
   "metadata": {},
   "outputs": [],
   "source": [
    "def same(path1,path2):\n",
    "\n",
    "    if(len(path1) != len(path2)):\n",
    "        return False\n",
    "    for i in range(len(path1)):\n",
    "        if(path1[i] != path2[i]):\n",
    "            return False\n",
    "    \n",
    "    return True\n"
   ]
  },
  {
   "cell_type": "code",
   "execution_count": null,
   "metadata": {},
   "outputs": [],
   "source": [
    "def routes(paths,num):\n",
    "    routes = []\n",
    "    for i in paths:\n",
    "        counter = 0\n",
    "        if(i not in routes):\n",
    "            for j in paths:\n",
    "                if(j == i):\n",
    "                    counter+=1\n",
    "            if(counter == num):\n",
    "                routes.append(i)\n",
    "\n",
    "#if a pathe appears features time then it is a route"
   ]
  },
  {
   "cell_type": "code",
   "execution_count": null,
   "metadata": {},
   "outputs": [],
   "source": [
    "paths = []\n",
    "\n",
    "routes = []\n",
    "counter = 0\n",
    "\n",
    "for i in range(len(paths)):\n",
    "    paths[i] +=paths[i+1]\n",
    "#if a pathe appears features time then it is a route\n",
    "\n",
    "routes = routes(paths,4)\n",
    "\n",
    "\n"
   ]
  },
  {
   "cell_type": "code",
   "execution_count": null,
   "metadata": {},
   "outputs": [],
   "source": [
    "def predict_value(node,route):\n",
    "    \n",
    "    if(len(route) == 1):\n",
    "        #sum(node.labels)/len(node.labels)\n",
    "        return sum(node.nodes[route[0]].labels)/len(node.nodes[route[0]].labels)\n",
    "\n",
    "    p = predict_value(node[route[0]],route.pop(0))\n",
    "    return p"
   ]
  }
 ],
 "metadata": {
  "kernelspec": {
   "display_name": "projects",
   "language": "python",
   "name": "python3"
  },
  "language_info": {
   "codemirror_mode": {
    "name": "ipython",
    "version": 3
   },
   "file_extension": ".py",
   "mimetype": "text/x-python",
   "name": "python",
   "nbconvert_exporter": "python",
   "pygments_lexer": "ipython3",
   "version": "3.11.4"
  }
 },
 "nbformat": 4,
 "nbformat_minor": 4
}
