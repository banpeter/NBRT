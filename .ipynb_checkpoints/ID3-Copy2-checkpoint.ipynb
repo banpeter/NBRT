{
 "cells": [
  {
   "cell_type": "code",
   "execution_count": 4,
   "metadata": {},
   "outputs": [],
   "source": [
    "import numpy as np\n",
    "import matplotlib.pyplot as plt\n",
    "import random\n",
    "import math\n",
    "from sklearn.model_selection import train_test_split"
   ]
  },
  {
   "cell_type": "code",
   "execution_count": 5,
   "metadata": {},
   "outputs": [],
   "source": [
    "#Data\n",
    "\n",
    "training_data = [\n",
    "    ['Green', 3],\n",
    "    ['Green', 3],\n",
    "    ['Red', 1],\n",
    "    ['Red', 1],\n",
    "    ['Yellow', 3],\n",
    "]\n",
    "labels = [\n",
    "    'Apple',\n",
    "    'Apple',\n",
    "    'Grape',\n",
    "    'Grape',\n",
    "    'Lemon',\n",
    "]\n",
    "header = [\"color\", \"diameter\"]"
   ]
  },
  {
   "cell_type": "code",
   "execution_count": 6,
   "metadata": {},
   "outputs": [
    {
     "name": "stdout",
     "output_type": "stream",
     "text": [
      "[['vhigh', 'vhigh', '2', '2', 'small', 'low'], ['vhigh', 'vhigh', '2', '2', 'small', 'med'], ['vhigh', 'vhigh', '2', '2', 'small', 'high'], ['vhigh', 'vhigh', '2', '2', 'med', 'low'], ['vhigh', 'vhigh', '2', '2', 'med', 'med'], ['vhigh', 'vhigh', '2', '2', 'med', 'high'], ['vhigh', 'vhigh', '2', '2', 'big', 'low'], ['vhigh', 'vhigh', '2', '2', 'big', 'med'], ['vhigh', 'vhigh', '2', '2', 'big', 'high'], ['vhigh', 'vhigh', '2', '4', 'small', 'low'], ['vhigh', 'vhigh', '2', '4', 'small', 'med'], ['vhigh', 'vhigh', '2', '4', 'small', 'high'], ['vhigh', 'vhigh', '2', '4', 'med', 'low'], ['vhigh', 'vhigh', '2', '4', 'med', 'med'], ['vhigh', 'vhigh', '2', '4', 'med', 'high'], ['vhigh', 'vhigh', '2', '4', 'big', 'low'], ['vhigh', 'vhigh', '2', '4', 'big', 'med'], ['vhigh', 'vhigh', '2', '4', 'big', 'high'], ['vhigh', 'vhigh', '2', 'more', 'small', 'low'], ['vhigh', 'vhigh', '2', 'more', 'small', 'med'], ['vhigh', 'vhigh', '2', 'more', 'small', 'high'], ['vhigh', 'vhigh', '2', 'more', 'med', 'low'], ['vhigh', 'vhigh', '2', 'more', 'med', 'med'], ['vhigh', 'vhigh', '2', 'more', 'med', 'high'], ['vhigh', 'vhigh', '2', 'more', 'big', 'low'], ['vhigh', 'vhigh', '2', 'more', 'big', 'med'], ['vhigh', 'vhigh', '2', 'more', 'big', 'high'], ['vhigh', 'vhigh', '3', '2', 'small', 'low'], ['vhigh', 'vhigh', '3', '2', 'small', 'med'], ['vhigh', 'vhigh', '3', '2', 'small', 'high'], ['vhigh', 'vhigh', '3', '2', 'med', 'low'], ['vhigh', 'vhigh', '3', '2', 'med', 'med'], ['vhigh', 'vhigh', '3', '2', 'med', 'high'], ['vhigh', 'vhigh', '3', '2', 'big', 'low'], ['vhigh', 'vhigh', '3', '2', 'big', 'med'], ['vhigh', 'vhigh', '3', '2', 'big', 'high'], ['vhigh', 'vhigh', '3', '4', 'small', 'low'], ['vhigh', 'vhigh', '3', '4', 'small', 'med'], ['vhigh', 'vhigh', '3', '4', 'small', 'high'], ['vhigh', 'vhigh', '3', '4', 'med', 'low'], ['vhigh', 'vhigh', '3', '4', 'med', 'med'], ['vhigh', 'vhigh', '3', '4', 'med', 'high'], ['vhigh', 'vhigh', '3', '4', 'big', 'low'], ['vhigh', 'vhigh', '3', '4', 'big', 'med'], ['vhigh', 'vhigh', '3', '4', 'big', 'high'], ['vhigh', 'vhigh', '3', 'more', 'small', 'low'], ['vhigh', 'vhigh', '3', 'more', 'small', 'med'], ['vhigh', 'vhigh', '3', 'more', 'small', 'high'], ['vhigh', 'vhigh', '3', 'more', 'med', 'low'], ['vhigh', 'vhigh', '3', 'more', 'med', 'med'], ['vhigh', 'vhigh', '3', 'more', 'med', 'high'], ['vhigh', 'vhigh', '3', 'more', 'big', 'low'], ['vhigh', 'vhigh', '3', 'more', 'big', 'med'], ['vhigh', 'vhigh', '3', 'more', 'big', 'high'], ['vhigh', 'vhigh', '4', '2', 'small', 'low'], ['vhigh', 'vhigh', '4', '2', 'small', 'med'], ['vhigh', 'vhigh', '4', '2', 'small', 'high'], ['vhigh', 'vhigh', '4', '2', 'med', 'low'], ['vhigh', 'vhigh', '4', '2', 'med', 'med'], ['vhigh', 'vhigh', '4', '2', 'med', 'high'], ['vhigh', 'vhigh', '4', '2', 'big', 'low'], ['vhigh', 'vhigh', '4', '2', 'big', 'med'], ['vhigh', 'vhigh', '4', '2', 'big', 'high'], ['vhigh', 'vhigh', '4', '4', 'small', 'low'], ['vhigh', 'vhigh', '4', '4', 'small', 'med'], ['vhigh', 'vhigh', '4', '4', 'small', 'high'], ['vhigh', 'vhigh', '4', '4', 'med', 'low'], ['vhigh', 'vhigh', '4', '4', 'med', 'med'], ['vhigh', 'vhigh', '4', '4', 'med', 'high'], ['vhigh', 'vhigh', '4', '4', 'big', 'low'], ['vhigh', 'vhigh', '4', '4', 'big', 'med'], ['vhigh', 'vhigh', '4', '4', 'big', 'high'], ['vhigh', 'vhigh', '4', 'more', 'small', 'low'], ['vhigh', 'vhigh', '4', 'more', 'small', 'med'], ['vhigh', 'vhigh', '4', 'more', 'small', 'high'], ['vhigh', 'vhigh', '4', 'more', 'med', 'low'], ['vhigh', 'vhigh', '4', 'more', 'med', 'med'], ['vhigh', 'vhigh', '4', 'more', 'med', 'high'], ['vhigh', 'vhigh', '4', 'more', 'big', 'low'], ['vhigh', 'vhigh', '4', 'more', 'big', 'med'], ['vhigh', 'vhigh', '4', 'more', 'big', 'high'], ['vhigh', 'vhigh', '5more', '2', 'small', 'low'], ['vhigh', 'vhigh', '5more', '2', 'small', 'med'], ['vhigh', 'vhigh', '5more', '2', 'small', 'high'], ['vhigh', 'vhigh', '5more', '2', 'med', 'low'], ['vhigh', 'vhigh', '5more', '2', 'med', 'med'], ['vhigh', 'vhigh', '5more', '2', 'med', 'high'], ['vhigh', 'vhigh', '5more', '2', 'big', 'low'], ['vhigh', 'vhigh', '5more', '2', 'big', 'med'], ['vhigh', 'vhigh', '5more', '2', 'big', 'high'], ['vhigh', 'vhigh', '5more', '4', 'small', 'low'], ['vhigh', 'vhigh', '5more', '4', 'small', 'med'], ['vhigh', 'vhigh', '5more', '4', 'small', 'high'], ['vhigh', 'vhigh', '5more', '4', 'med', 'low'], ['vhigh', 'vhigh', '5more', '4', 'med', 'med'], ['vhigh', 'vhigh', '5more', '4', 'med', 'high'], ['vhigh', 'vhigh', '5more', '4', 'big', 'low'], ['vhigh', 'vhigh', '5more', '4', 'big', 'med'], ['vhigh', 'vhigh', '5more', '4', 'big', 'high'], ['vhigh', 'vhigh', '5more', 'more', 'small', 'low'], ['vhigh', 'vhigh', '5more', 'more', 'small', 'med'], ['vhigh', 'vhigh', '5more', 'more', 'small', 'high'], ['vhigh', 'vhigh', '5more', 'more', 'med', 'low'], ['vhigh', 'vhigh', '5more', 'more', 'med', 'med'], ['vhigh', 'vhigh', '5more', 'more', 'med', 'high'], ['vhigh', 'vhigh', '5more', 'more', 'big', 'low'], ['vhigh', 'vhigh', '5more', 'more', 'big', 'med'], ['vhigh', 'vhigh', '5more', 'more', 'big', 'high'], ['vhigh', 'high', '2', '2', 'small', 'low'], ['vhigh', 'high', '2', '2', 'small', 'med'], ['vhigh', 'high', '2', '2', 'small', 'high'], ['vhigh', 'high', '2', '2', 'med', 'low'], ['vhigh', 'high', '2', '2', 'med', 'med'], ['vhigh', 'high', '2', '2', 'med', 'high'], ['vhigh', 'high', '2', '2', 'big', 'low'], ['vhigh', 'high', '2', '2', 'big', 'med'], ['vhigh', 'high', '2', '2', 'big', 'high'], ['vhigh', 'high', '2', '4', 'small', 'low'], ['vhigh', 'high', '2', '4', 'small', 'med'], ['vhigh', 'high', '2', '4', 'small', 'high'], ['vhigh', 'high', '2', '4', 'med', 'low'], ['vhigh', 'high', '2', '4', 'med', 'med'], ['vhigh', 'high', '2', '4', 'med', 'high'], ['vhigh', 'high', '2', '4', 'big', 'low'], ['vhigh', 'high', '2', '4', 'big', 'med'], ['vhigh', 'high', '2', '4', 'big', 'high'], ['vhigh', 'high', '2', 'more', 'small', 'low'], ['vhigh', 'high', '2', 'more', 'small', 'med'], ['vhigh', 'high', '2', 'more', 'small', 'high'], ['vhigh', 'high', '2', 'more', 'med', 'low'], ['vhigh', 'high', '2', 'more', 'med', 'med'], ['vhigh', 'high', '2', 'more', 'med', 'high'], ['vhigh', 'high', '2', 'more', 'big', 'low'], ['vhigh', 'high', '2', 'more', 'big', 'med'], ['vhigh', 'high', '2', 'more', 'big', 'high'], ['vhigh', 'high', '3', '2', 'small', 'low'], ['vhigh', 'high', '3', '2', 'small', 'med'], ['vhigh', 'high', '3', '2', 'small', 'high'], ['vhigh', 'high', '3', '2', 'med', 'low'], ['vhigh', 'high', '3', '2', 'med', 'med'], ['vhigh', 'high', '3', '2', 'med', 'high'], ['vhigh', 'high', '3', '2', 'big', 'low'], ['vhigh', 'high', '3', '2', 'big', 'med'], ['vhigh', 'high', '3', '2', 'big', 'high'], ['vhigh', 'high', '3', '4', 'small', 'low'], ['vhigh', 'high', '3', '4', 'small', 'med'], ['vhigh', 'high', '3', '4', 'small', 'high'], ['vhigh', 'high', '3', '4', 'med', 'low'], ['vhigh', 'high', '3', '4', 'med', 'med'], ['vhigh', 'high', '3', '4', 'med', 'high'], ['vhigh', 'high', '3', '4', 'big', 'low'], ['vhigh', 'high', '3', '4', 'big', 'med'], ['vhigh', 'high', '3', '4', 'big', 'high'], ['vhigh', 'high', '3', 'more', 'small', 'low'], ['vhigh', 'high', '3', 'more', 'small', 'med'], ['vhigh', 'high', '3', 'more', 'small', 'high'], ['vhigh', 'high', '3', 'more', 'med', 'low'], ['vhigh', 'high', '3', 'more', 'med', 'med'], ['vhigh', 'high', '3', 'more', 'med', 'high'], ['vhigh', 'high', '3', 'more', 'big', 'low'], ['vhigh', 'high', '3', 'more', 'big', 'med'], ['vhigh', 'high', '3', 'more', 'big', 'high'], ['vhigh', 'high', '4', '2', 'small', 'low'], ['vhigh', 'high', '4', '2', 'small', 'med'], ['vhigh', 'high', '4', '2', 'small', 'high'], ['vhigh', 'high', '4', '2', 'med', 'low'], ['vhigh', 'high', '4', '2', 'med', 'med'], ['vhigh', 'high', '4', '2', 'med', 'high'], ['vhigh', 'high', '4', '2', 'big', 'low'], ['vhigh', 'high', '4', '2', 'big', 'med'], ['vhigh', 'high', '4', '2', 'big', 'high'], ['vhigh', 'high', '4', '4', 'small', 'low'], ['vhigh', 'high', '4', '4', 'small', 'med'], ['vhigh', 'high', '4', '4', 'small', 'high'], ['vhigh', 'high', '4', '4', 'med', 'low'], ['vhigh', 'high', '4', '4', 'med', 'med'], ['vhigh', 'high', '4', '4', 'med', 'high'], ['vhigh', 'high', '4', '4', 'big', 'low'], ['vhigh', 'high', '4', '4', 'big', 'med'], ['vhigh', 'high', '4', '4', 'big', 'high'], ['vhigh', 'high', '4', 'more', 'small', 'low'], ['vhigh', 'high', '4', 'more', 'small', 'med'], ['vhigh', 'high', '4', 'more', 'small', 'high'], ['vhigh', 'high', '4', 'more', 'med', 'low'], ['vhigh', 'high', '4', 'more', 'med', 'med'], ['vhigh', 'high', '4', 'more', 'med', 'high'], ['vhigh', 'high', '4', 'more', 'big', 'low'], ['vhigh', 'high', '4', 'more', 'big', 'med'], ['vhigh', 'high', '4', 'more', 'big', 'high'], ['vhigh', 'high', '5more', '2', 'small', 'low'], ['vhigh', 'high', '5more', '2', 'small', 'med'], ['vhigh', 'high', '5more', '2', 'small', 'high'], ['vhigh', 'high', '5more', '2', 'med', 'low'], ['vhigh', 'high', '5more', '2', 'med', 'med'], ['vhigh', 'high', '5more', '2', 'med', 'high'], ['vhigh', 'high', '5more', '2', 'big', 'low'], ['vhigh', 'high', '5more', '2', 'big', 'med'], ['vhigh', 'high', '5more', '2', 'big', 'high'], ['vhigh', 'high', '5more', '4', 'small', 'low'], ['vhigh', 'high', '5more', '4', 'small', 'med'], ['vhigh', 'high', '5more', '4', 'small', 'high'], ['vhigh', 'high', '5more', '4', 'med', 'low'], ['vhigh', 'high', '5more', '4', 'med', 'med'], ['vhigh', 'high', '5more', '4', 'med', 'high'], ['vhigh', 'high', '5more', '4', 'big', 'low'], ['vhigh', 'high', '5more', '4', 'big', 'med'], ['vhigh', 'high', '5more', '4', 'big', 'high'], ['vhigh', 'high', '5more', 'more', 'small', 'low'], ['vhigh', 'high', '5more', 'more', 'small', 'med'], ['vhigh', 'high', '5more', 'more', 'small', 'high'], ['vhigh', 'high', '5more', 'more', 'med', 'low'], ['vhigh', 'high', '5more', 'more', 'med', 'med'], ['vhigh', 'high', '5more', 'more', 'med', 'high'], ['vhigh', 'high', '5more', 'more', 'big', 'low'], ['vhigh', 'high', '5more', 'more', 'big', 'med'], ['vhigh', 'high', '5more', 'more', 'big', 'high'], ['vhigh', 'med', '2', '2', 'small', 'low'], ['vhigh', 'med', '2', '2', 'small', 'med'], ['vhigh', 'med', '2', '2', 'small', 'high'], ['vhigh', 'med', '2', '2', 'med', 'low'], ['vhigh', 'med', '2', '2', 'med', 'med'], ['vhigh', 'med', '2', '2', 'med', 'high'], ['vhigh', 'med', '2', '2', 'big', 'low'], ['vhigh', 'med', '2', '2', 'big', 'med'], ['vhigh', 'med', '2', '2', 'big', 'high'], ['vhigh', 'med', '2', '4', 'small', 'low'], ['vhigh', 'med', '2', '4', 'small', 'med'], ['vhigh', 'med', '2', '4', 'small', 'high'], ['vhigh', 'med', '2', '4', 'med', 'low'], ['vhigh', 'med', '2', '4', 'med', 'med'], ['vhigh', 'med', '2', '4', 'med', 'high'], ['vhigh', 'med', '2', '4', 'big', 'low'], ['vhigh', 'med', '2', '4', 'big', 'med'], ['vhigh', 'med', '2', '4', 'big', 'high'], ['vhigh', 'med', '2', 'more', 'small', 'low'], ['vhigh', 'med', '2', 'more', 'small', 'med'], ['vhigh', 'med', '2', 'more', 'small', 'high'], ['vhigh', 'med', '2', 'more', 'med', 'low'], ['vhigh', 'med', '2', 'more', 'med', 'med'], ['vhigh', 'med', '2', 'more', 'med', 'high'], ['vhigh', 'med', '2', 'more', 'big', 'low'], ['vhigh', 'med', '2', 'more', 'big', 'med'], ['vhigh', 'med', '2', 'more', 'big', 'high'], ['vhigh', 'med', '3', '2', 'small', 'low'], ['vhigh', 'med', '3', '2', 'small', 'med'], ['vhigh', 'med', '3', '2', 'small', 'high'], ['vhigh', 'med', '3', '2', 'med', 'low'], ['vhigh', 'med', '3', '2', 'med', 'med'], ['vhigh', 'med', '3', '2', 'med', 'high'], ['vhigh', 'med', '3', '2', 'big', 'low'], ['vhigh', 'med', '3', '2', 'big', 'med'], ['vhigh', 'med', '3', '2', 'big', 'high'], ['vhigh', 'med', '3', '4', 'small', 'low'], ['vhigh', 'med', '3', '4', 'small', 'med'], ['vhigh', 'med', '3', '4', 'small', 'high'], ['vhigh', 'med', '3', '4', 'med', 'low'], ['vhigh', 'med', '3', '4', 'med', 'med'], ['vhigh', 'med', '3', '4', 'med', 'high'], ['vhigh', 'med', '3', '4', 'big', 'low'], ['vhigh', 'med', '3', '4', 'big', 'med'], ['vhigh', 'med', '3', '4', 'big', 'high'], ['vhigh', 'med', '3', 'more', 'small', 'low'], ['vhigh', 'med', '3', 'more', 'small', 'med'], ['vhigh', 'med', '3', 'more', 'small', 'high'], ['vhigh', 'med', '3', 'more', 'med', 'low'], ['vhigh', 'med', '3', 'more', 'med', 'med'], ['vhigh', 'med', '3', 'more', 'med', 'high'], ['vhigh', 'med', '3', 'more', 'big', 'low'], ['vhigh', 'med', '3', 'more', 'big', 'med'], ['vhigh', 'med', '3', 'more', 'big', 'high'], ['vhigh', 'med', '4', '2', 'small', 'low'], ['vhigh', 'med', '4', '2', 'small', 'med'], ['vhigh', 'med', '4', '2', 'small', 'high'], ['vhigh', 'med', '4', '2', 'med', 'low'], ['vhigh', 'med', '4', '2', 'med', 'med'], ['vhigh', 'med', '4', '2', 'med', 'high'], ['vhigh', 'med', '4', '2', 'big', 'low'], ['vhigh', 'med', '4', '2', 'big', 'med'], ['vhigh', 'med', '4', '2', 'big', 'high'], ['vhigh', 'med', '4', '4', 'small', 'low'], ['vhigh', 'med', '4', '4', 'small', 'med'], ['vhigh', 'med', '4', '4', 'small', 'high'], ['vhigh', 'med', '4', '4', 'med', 'low'], ['vhigh', 'med', '4', '4', 'med', 'med'], ['vhigh', 'med', '4', '4', 'med', 'high'], ['vhigh', 'med', '4', '4', 'big', 'low'], ['vhigh', 'med', '4', '4', 'big', 'med'], ['vhigh', 'med', '4', '4', 'big', 'high'], ['vhigh', 'med', '4', 'more', 'small', 'low'], ['vhigh', 'med', '4', 'more', 'small', 'med'], ['vhigh', 'med', '4', 'more', 'small', 'high'], ['vhigh', 'med', '4', 'more', 'med', 'low'], ['vhigh', 'med', '4', 'more', 'med', 'med'], ['vhigh', 'med', '4', 'more', 'med', 'high'], ['vhigh', 'med', '4', 'more', 'big', 'low'], ['vhigh', 'med', '4', 'more', 'big', 'med'], ['vhigh', 'med', '4', 'more', 'big', 'high'], ['vhigh', 'med', '5more', '2', 'small', 'low'], ['vhigh', 'med', '5more', '2', 'small', 'med'], ['vhigh', 'med', '5more', '2', 'small', 'high'], ['vhigh', 'med', '5more', '2', 'med', 'low'], ['vhigh', 'med', '5more', '2', 'med', 'med'], ['vhigh', 'med', '5more', '2', 'med', 'high'], ['vhigh', 'med', '5more', '2', 'big', 'low'], ['vhigh', 'med', '5more', '2', 'big', 'med'], ['vhigh', 'med', '5more', '2', 'big', 'high'], ['vhigh', 'med', '5more', '4', 'small', 'low'], ['vhigh', 'med', '5more', '4', 'small', 'med'], ['vhigh', 'med', '5more', '4', 'small', 'high'], ['vhigh', 'med', '5more', '4', 'med', 'low'], ['vhigh', 'med', '5more', '4', 'med', 'med'], ['vhigh', 'med', '5more', '4', 'med', 'high'], ['vhigh', 'med', '5more', '4', 'big', 'low'], ['vhigh', 'med', '5more', '4', 'big', 'med'], ['vhigh', 'med', '5more', '4', 'big', 'high'], ['vhigh', 'med', '5more', 'more', 'small', 'low'], ['vhigh', 'med', '5more', 'more', 'small', 'med'], ['vhigh', 'med', '5more', 'more', 'small', 'high'], ['vhigh', 'med', '5more', 'more', 'med', 'low'], ['vhigh', 'med', '5more', 'more', 'med', 'med'], ['vhigh', 'med', '5more', 'more', 'med', 'high'], ['vhigh', 'med', '5more', 'more', 'big', 'low'], ['vhigh', 'med', '5more', 'more', 'big', 'med'], ['vhigh', 'med', '5more', 'more', 'big', 'high'], ['vhigh', 'low', '2', '2', 'small', 'low'], ['vhigh', 'low', '2', '2', 'small', 'med'], ['vhigh', 'low', '2', '2', 'small', 'high'], ['vhigh', 'low', '2', '2', 'med', 'low'], ['vhigh', 'low', '2', '2', 'med', 'med'], ['vhigh', 'low', '2', '2', 'med', 'high'], ['vhigh', 'low', '2', '2', 'big', 'low'], ['vhigh', 'low', '2', '2', 'big', 'med'], ['vhigh', 'low', '2', '2', 'big', 'high'], ['vhigh', 'low', '2', '4', 'small', 'low'], ['vhigh', 'low', '2', '4', 'small', 'med'], ['vhigh', 'low', '2', '4', 'small', 'high'], ['vhigh', 'low', '2', '4', 'med', 'low'], ['vhigh', 'low', '2', '4', 'med', 'med'], ['vhigh', 'low', '2', '4', 'med', 'high'], ['vhigh', 'low', '2', '4', 'big', 'low'], ['vhigh', 'low', '2', '4', 'big', 'med'], ['vhigh', 'low', '2', '4', 'big', 'high'], ['vhigh', 'low', '2', 'more', 'small', 'low'], ['vhigh', 'low', '2', 'more', 'small', 'med'], ['vhigh', 'low', '2', 'more', 'small', 'high'], ['vhigh', 'low', '2', 'more', 'med', 'low'], ['vhigh', 'low', '2', 'more', 'med', 'med'], ['vhigh', 'low', '2', 'more', 'med', 'high'], ['vhigh', 'low', '2', 'more', 'big', 'low'], ['vhigh', 'low', '2', 'more', 'big', 'med'], ['vhigh', 'low', '2', 'more', 'big', 'high'], ['vhigh', 'low', '3', '2', 'small', 'low'], ['vhigh', 'low', '3', '2', 'small', 'med'], ['vhigh', 'low', '3', '2', 'small', 'high'], ['vhigh', 'low', '3', '2', 'med', 'low'], ['vhigh', 'low', '3', '2', 'med', 'med'], ['vhigh', 'low', '3', '2', 'med', 'high'], ['vhigh', 'low', '3', '2', 'big', 'low'], ['vhigh', 'low', '3', '2', 'big', 'med'], ['vhigh', 'low', '3', '2', 'big', 'high'], ['vhigh', 'low', '3', '4', 'small', 'low'], ['vhigh', 'low', '3', '4', 'small', 'med'], ['vhigh', 'low', '3', '4', 'small', 'high'], ['vhigh', 'low', '3', '4', 'med', 'low'], ['vhigh', 'low', '3', '4', 'med', 'med'], ['vhigh', 'low', '3', '4', 'med', 'high'], ['vhigh', 'low', '3', '4', 'big', 'low'], ['vhigh', 'low', '3', '4', 'big', 'med'], ['vhigh', 'low', '3', '4', 'big', 'high'], ['vhigh', 'low', '3', 'more', 'small', 'low'], ['vhigh', 'low', '3', 'more', 'small', 'med'], ['vhigh', 'low', '3', 'more', 'small', 'high'], ['vhigh', 'low', '3', 'more', 'med', 'low'], ['vhigh', 'low', '3', 'more', 'med', 'med'], ['vhigh', 'low', '3', 'more', 'med', 'high'], ['vhigh', 'low', '3', 'more', 'big', 'low'], ['vhigh', 'low', '3', 'more', 'big', 'med'], ['vhigh', 'low', '3', 'more', 'big', 'high'], ['vhigh', 'low', '4', '2', 'small', 'low'], ['vhigh', 'low', '4', '2', 'small', 'med'], ['vhigh', 'low', '4', '2', 'small', 'high'], ['vhigh', 'low', '4', '2', 'med', 'low'], ['vhigh', 'low', '4', '2', 'med', 'med'], ['vhigh', 'low', '4', '2', 'med', 'high'], ['vhigh', 'low', '4', '2', 'big', 'low'], ['vhigh', 'low', '4', '2', 'big', 'med'], ['vhigh', 'low', '4', '2', 'big', 'high'], ['vhigh', 'low', '4', '4', 'small', 'low'], ['vhigh', 'low', '4', '4', 'small', 'med'], ['vhigh', 'low', '4', '4', 'small', 'high'], ['vhigh', 'low', '4', '4', 'med', 'low'], ['vhigh', 'low', '4', '4', 'med', 'med'], ['vhigh', 'low', '4', '4', 'med', 'high'], ['vhigh', 'low', '4', '4', 'big', 'low'], ['vhigh', 'low', '4', '4', 'big', 'med'], ['vhigh', 'low', '4', '4', 'big', 'high'], ['vhigh', 'low', '4', 'more', 'small', 'low'], ['vhigh', 'low', '4', 'more', 'small', 'med'], ['vhigh', 'low', '4', 'more', 'small', 'high'], ['vhigh', 'low', '4', 'more', 'med', 'low'], ['vhigh', 'low', '4', 'more', 'med', 'med'], ['vhigh', 'low', '4', 'more', 'med', 'high'], ['vhigh', 'low', '4', 'more', 'big', 'low'], ['vhigh', 'low', '4', 'more', 'big', 'med'], ['vhigh', 'low', '4', 'more', 'big', 'high'], ['vhigh', 'low', '5more', '2', 'small', 'low'], ['vhigh', 'low', '5more', '2', 'small', 'med'], ['vhigh', 'low', '5more', '2', 'small', 'high'], ['vhigh', 'low', '5more', '2', 'med', 'low'], ['vhigh', 'low', '5more', '2', 'med', 'med'], ['vhigh', 'low', '5more', '2', 'med', 'high'], ['vhigh', 'low', '5more', '2', 'big', 'low'], ['vhigh', 'low', '5more', '2', 'big', 'med'], ['vhigh', 'low', '5more', '2', 'big', 'high'], ['vhigh', 'low', '5more', '4', 'small', 'low'], ['vhigh', 'low', '5more', '4', 'small', 'med'], ['vhigh', 'low', '5more', '4', 'small', 'high'], ['vhigh', 'low', '5more', '4', 'med', 'low'], ['vhigh', 'low', '5more', '4', 'med', 'med'], ['vhigh', 'low', '5more', '4', 'med', 'high'], ['vhigh', 'low', '5more', '4', 'big', 'low'], ['vhigh', 'low', '5more', '4', 'big', 'med'], ['vhigh', 'low', '5more', '4', 'big', 'high'], ['vhigh', 'low', '5more', 'more', 'small', 'low'], ['vhigh', 'low', '5more', 'more', 'small', 'med'], ['vhigh', 'low', '5more', 'more', 'small', 'high'], ['vhigh', 'low', '5more', 'more', 'med', 'low'], ['vhigh', 'low', '5more', 'more', 'med', 'med'], ['vhigh', 'low', '5more', 'more', 'med', 'high'], ['vhigh', 'low', '5more', 'more', 'big', 'low'], ['vhigh', 'low', '5more', 'more', 'big', 'med'], ['vhigh', 'low', '5more', 'more', 'big', 'high'], ['high', 'vhigh', '2', '2', 'small', 'low'], ['high', 'vhigh', '2', '2', 'small', 'med'], ['high', 'vhigh', '2', '2', 'small', 'high'], ['high', 'vhigh', '2', '2', 'med', 'low'], ['high', 'vhigh', '2', '2', 'med', 'med'], ['high', 'vhigh', '2', '2', 'med', 'high'], ['high', 'vhigh', '2', '2', 'big', 'low'], ['high', 'vhigh', '2', '2', 'big', 'med'], ['high', 'vhigh', '2', '2', 'big', 'high'], ['high', 'vhigh', '2', '4', 'small', 'low'], ['high', 'vhigh', '2', '4', 'small', 'med'], ['high', 'vhigh', '2', '4', 'small', 'high'], ['high', 'vhigh', '2', '4', 'med', 'low'], ['high', 'vhigh', '2', '4', 'med', 'med'], ['high', 'vhigh', '2', '4', 'med', 'high'], ['high', 'vhigh', '2', '4', 'big', 'low'], ['high', 'vhigh', '2', '4', 'big', 'med'], ['high', 'vhigh', '2', '4', 'big', 'high'], ['high', 'vhigh', '2', 'more', 'small', 'low'], ['high', 'vhigh', '2', 'more', 'small', 'med'], ['high', 'vhigh', '2', 'more', 'small', 'high'], ['high', 'vhigh', '2', 'more', 'med', 'low'], ['high', 'vhigh', '2', 'more', 'med', 'med'], ['high', 'vhigh', '2', 'more', 'med', 'high'], ['high', 'vhigh', '2', 'more', 'big', 'low'], ['high', 'vhigh', '2', 'more', 'big', 'med'], ['high', 'vhigh', '2', 'more', 'big', 'high'], ['high', 'vhigh', '3', '2', 'small', 'low'], ['high', 'vhigh', '3', '2', 'small', 'med'], ['high', 'vhigh', '3', '2', 'small', 'high'], ['high', 'vhigh', '3', '2', 'med', 'low'], ['high', 'vhigh', '3', '2', 'med', 'med'], ['high', 'vhigh', '3', '2', 'med', 'high'], ['high', 'vhigh', '3', '2', 'big', 'low'], ['high', 'vhigh', '3', '2', 'big', 'med'], ['high', 'vhigh', '3', '2', 'big', 'high'], ['high', 'vhigh', '3', '4', 'small', 'low'], ['high', 'vhigh', '3', '4', 'small', 'med'], ['high', 'vhigh', '3', '4', 'small', 'high'], ['high', 'vhigh', '3', '4', 'med', 'low'], ['high', 'vhigh', '3', '4', 'med', 'med'], ['high', 'vhigh', '3', '4', 'med', 'high'], ['high', 'vhigh', '3', '4', 'big', 'low'], ['high', 'vhigh', '3', '4', 'big', 'med'], ['high', 'vhigh', '3', '4', 'big', 'high'], ['high', 'vhigh', '3', 'more', 'small', 'low'], ['high', 'vhigh', '3', 'more', 'small', 'med'], ['high', 'vhigh', '3', 'more', 'small', 'high'], ['high', 'vhigh', '3', 'more', 'med', 'low'], ['high', 'vhigh', '3', 'more', 'med', 'med'], ['high', 'vhigh', '3', 'more', 'med', 'high'], ['high', 'vhigh', '3', 'more', 'big', 'low'], ['high', 'vhigh', '3', 'more', 'big', 'med'], ['high', 'vhigh', '3', 'more', 'big', 'high'], ['high', 'vhigh', '4', '2', 'small', 'low'], ['high', 'vhigh', '4', '2', 'small', 'med'], ['high', 'vhigh', '4', '2', 'small', 'high'], ['high', 'vhigh', '4', '2', 'med', 'low'], ['high', 'vhigh', '4', '2', 'med', 'med'], ['high', 'vhigh', '4', '2', 'med', 'high'], ['high', 'vhigh', '4', '2', 'big', 'low'], ['high', 'vhigh', '4', '2', 'big', 'med'], ['high', 'vhigh', '4', '2', 'big', 'high'], ['high', 'vhigh', '4', '4', 'small', 'low'], ['high', 'vhigh', '4', '4', 'small', 'med'], ['high', 'vhigh', '4', '4', 'small', 'high'], ['high', 'vhigh', '4', '4', 'med', 'low'], ['high', 'vhigh', '4', '4', 'med', 'med'], ['high', 'vhigh', '4', '4', 'med', 'high'], ['high', 'vhigh', '4', '4', 'big', 'low'], ['high', 'vhigh', '4', '4', 'big', 'med'], ['high', 'vhigh', '4', '4', 'big', 'high'], ['high', 'vhigh', '4', 'more', 'small', 'low'], ['high', 'vhigh', '4', 'more', 'small', 'med'], ['high', 'vhigh', '4', 'more', 'small', 'high'], ['high', 'vhigh', '4', 'more', 'med', 'low'], ['high', 'vhigh', '4', 'more', 'med', 'med'], ['high', 'vhigh', '4', 'more', 'med', 'high'], ['high', 'vhigh', '4', 'more', 'big', 'low'], ['high', 'vhigh', '4', 'more', 'big', 'med'], ['high', 'vhigh', '4', 'more', 'big', 'high'], ['high', 'vhigh', '5more', '2', 'small', 'low'], ['high', 'vhigh', '5more', '2', 'small', 'med'], ['high', 'vhigh', '5more', '2', 'small', 'high'], ['high', 'vhigh', '5more', '2', 'med', 'low'], ['high', 'vhigh', '5more', '2', 'med', 'med'], ['high', 'vhigh', '5more', '2', 'med', 'high'], ['high', 'vhigh', '5more', '2', 'big', 'low'], ['high', 'vhigh', '5more', '2', 'big', 'med'], ['high', 'vhigh', '5more', '2', 'big', 'high'], ['high', 'vhigh', '5more', '4', 'small', 'low'], ['high', 'vhigh', '5more', '4', 'small', 'med'], ['high', 'vhigh', '5more', '4', 'small', 'high'], ['high', 'vhigh', '5more', '4', 'med', 'low'], ['high', 'vhigh', '5more', '4', 'med', 'med'], ['high', 'vhigh', '5more', '4', 'med', 'high'], ['high', 'vhigh', '5more', '4', 'big', 'low'], ['high', 'vhigh', '5more', '4', 'big', 'med'], ['high', 'vhigh', '5more', '4', 'big', 'high'], ['high', 'vhigh', '5more', 'more', 'small', 'low'], ['high', 'vhigh', '5more', 'more', 'small', 'med'], ['high', 'vhigh', '5more', 'more', 'small', 'high'], ['high', 'vhigh', '5more', 'more', 'med', 'low'], ['high', 'vhigh', '5more', 'more', 'med', 'med'], ['high', 'vhigh', '5more', 'more', 'med', 'high'], ['high', 'vhigh', '5more', 'more', 'big', 'low'], ['high', 'vhigh', '5more', 'more', 'big', 'med'], ['high', 'vhigh', '5more', 'more', 'big', 'high'], ['high', 'high', '2', '2', 'small', 'low'], ['high', 'high', '2', '2', 'small', 'med'], ['high', 'high', '2', '2', 'small', 'high'], ['high', 'high', '2', '2', 'med', 'low'], ['high', 'high', '2', '2', 'med', 'med'], ['high', 'high', '2', '2', 'med', 'high'], ['high', 'high', '2', '2', 'big', 'low'], ['high', 'high', '2', '2', 'big', 'med'], ['high', 'high', '2', '2', 'big', 'high'], ['high', 'high', '2', '4', 'small', 'low'], ['high', 'high', '2', '4', 'small', 'med'], ['high', 'high', '2', '4', 'small', 'high'], ['high', 'high', '2', '4', 'med', 'low'], ['high', 'high', '2', '4', 'med', 'med'], ['high', 'high', '2', '4', 'med', 'high'], ['high', 'high', '2', '4', 'big', 'low'], ['high', 'high', '2', '4', 'big', 'med'], ['high', 'high', '2', '4', 'big', 'high'], ['high', 'high', '2', 'more', 'small', 'low'], ['high', 'high', '2', 'more', 'small', 'med'], ['high', 'high', '2', 'more', 'small', 'high'], ['high', 'high', '2', 'more', 'med', 'low'], ['high', 'high', '2', 'more', 'med', 'med'], ['high', 'high', '2', 'more', 'med', 'high'], ['high', 'high', '2', 'more', 'big', 'low'], ['high', 'high', '2', 'more', 'big', 'med'], ['high', 'high', '2', 'more', 'big', 'high'], ['high', 'high', '3', '2', 'small', 'low'], ['high', 'high', '3', '2', 'small', 'med'], ['high', 'high', '3', '2', 'small', 'high'], ['high', 'high', '3', '2', 'med', 'low'], ['high', 'high', '3', '2', 'med', 'med'], ['high', 'high', '3', '2', 'med', 'high'], ['high', 'high', '3', '2', 'big', 'low'], ['high', 'high', '3', '2', 'big', 'med'], ['high', 'high', '3', '2', 'big', 'high'], ['high', 'high', '3', '4', 'small', 'low'], ['high', 'high', '3', '4', 'small', 'med'], ['high', 'high', '3', '4', 'small', 'high'], ['high', 'high', '3', '4', 'med', 'low'], ['high', 'high', '3', '4', 'med', 'med'], ['high', 'high', '3', '4', 'med', 'high'], ['high', 'high', '3', '4', 'big', 'low'], ['high', 'high', '3', '4', 'big', 'med'], ['high', 'high', '3', '4', 'big', 'high'], ['high', 'high', '3', 'more', 'small', 'low'], ['high', 'high', '3', 'more', 'small', 'med'], ['high', 'high', '3', 'more', 'small', 'high'], ['high', 'high', '3', 'more', 'med', 'low'], ['high', 'high', '3', 'more', 'med', 'med'], ['high', 'high', '3', 'more', 'med', 'high'], ['high', 'high', '3', 'more', 'big', 'low'], ['high', 'high', '3', 'more', 'big', 'med'], ['high', 'high', '3', 'more', 'big', 'high'], ['high', 'high', '4', '2', 'small', 'low'], ['high', 'high', '4', '2', 'small', 'med'], ['high', 'high', '4', '2', 'small', 'high'], ['high', 'high', '4', '2', 'med', 'low'], ['high', 'high', '4', '2', 'med', 'med'], ['high', 'high', '4', '2', 'med', 'high'], ['high', 'high', '4', '2', 'big', 'low'], ['high', 'high', '4', '2', 'big', 'med'], ['high', 'high', '4', '2', 'big', 'high'], ['high', 'high', '4', '4', 'small', 'low'], ['high', 'high', '4', '4', 'small', 'med'], ['high', 'high', '4', '4', 'small', 'high'], ['high', 'high', '4', '4', 'med', 'low'], ['high', 'high', '4', '4', 'med', 'med'], ['high', 'high', '4', '4', 'med', 'high'], ['high', 'high', '4', '4', 'big', 'low'], ['high', 'high', '4', '4', 'big', 'med'], ['high', 'high', '4', '4', 'big', 'high'], ['high', 'high', '4', 'more', 'small', 'low'], ['high', 'high', '4', 'more', 'small', 'med'], ['high', 'high', '4', 'more', 'small', 'high'], ['high', 'high', '4', 'more', 'med', 'low'], ['high', 'high', '4', 'more', 'med', 'med'], ['high', 'high', '4', 'more', 'med', 'high'], ['high', 'high', '4', 'more', 'big', 'low'], ['high', 'high', '4', 'more', 'big', 'med'], ['high', 'high', '4', 'more', 'big', 'high'], ['high', 'high', '5more', '2', 'small', 'low'], ['high', 'high', '5more', '2', 'small', 'med'], ['high', 'high', '5more', '2', 'small', 'high'], ['high', 'high', '5more', '2', 'med', 'low'], ['high', 'high', '5more', '2', 'med', 'med'], ['high', 'high', '5more', '2', 'med', 'high'], ['high', 'high', '5more', '2', 'big', 'low'], ['high', 'high', '5more', '2', 'big', 'med'], ['high', 'high', '5more', '2', 'big', 'high'], ['high', 'high', '5more', '4', 'small', 'low'], ['high', 'high', '5more', '4', 'small', 'med'], ['high', 'high', '5more', '4', 'small', 'high'], ['high', 'high', '5more', '4', 'med', 'low'], ['high', 'high', '5more', '4', 'med', 'med'], ['high', 'high', '5more', '4', 'med', 'high'], ['high', 'high', '5more', '4', 'big', 'low'], ['high', 'high', '5more', '4', 'big', 'med'], ['high', 'high', '5more', '4', 'big', 'high'], ['high', 'high', '5more', 'more', 'small', 'low'], ['high', 'high', '5more', 'more', 'small', 'med'], ['high', 'high', '5more', 'more', 'small', 'high'], ['high', 'high', '5more', 'more', 'med', 'low'], ['high', 'high', '5more', 'more', 'med', 'med'], ['high', 'high', '5more', 'more', 'med', 'high'], ['high', 'high', '5more', 'more', 'big', 'low'], ['high', 'high', '5more', 'more', 'big', 'med'], ['high', 'high', '5more', 'more', 'big', 'high'], ['high', 'med', '2', '2', 'small', 'low'], ['high', 'med', '2', '2', 'small', 'med'], ['high', 'med', '2', '2', 'small', 'high'], ['high', 'med', '2', '2', 'med', 'low'], ['high', 'med', '2', '2', 'med', 'med'], ['high', 'med', '2', '2', 'med', 'high'], ['high', 'med', '2', '2', 'big', 'low'], ['high', 'med', '2', '2', 'big', 'med'], ['high', 'med', '2', '2', 'big', 'high'], ['high', 'med', '2', '4', 'small', 'low'], ['high', 'med', '2', '4', 'small', 'med'], ['high', 'med', '2', '4', 'small', 'high'], ['high', 'med', '2', '4', 'med', 'low'], ['high', 'med', '2', '4', 'med', 'med'], ['high', 'med', '2', '4', 'med', 'high'], ['high', 'med', '2', '4', 'big', 'low'], ['high', 'med', '2', '4', 'big', 'med'], ['high', 'med', '2', '4', 'big', 'high'], ['high', 'med', '2', 'more', 'small', 'low'], ['high', 'med', '2', 'more', 'small', 'med'], ['high', 'med', '2', 'more', 'small', 'high'], ['high', 'med', '2', 'more', 'med', 'low'], ['high', 'med', '2', 'more', 'med', 'med'], ['high', 'med', '2', 'more', 'med', 'high'], ['high', 'med', '2', 'more', 'big', 'low'], ['high', 'med', '2', 'more', 'big', 'med'], ['high', 'med', '2', 'more', 'big', 'high'], ['high', 'med', '3', '2', 'small', 'low'], ['high', 'med', '3', '2', 'small', 'med'], ['high', 'med', '3', '2', 'small', 'high'], ['high', 'med', '3', '2', 'med', 'low'], ['high', 'med', '3', '2', 'med', 'med'], ['high', 'med', '3', '2', 'med', 'high'], ['high', 'med', '3', '2', 'big', 'low'], ['high', 'med', '3', '2', 'big', 'med'], ['high', 'med', '3', '2', 'big', 'high'], ['high', 'med', '3', '4', 'small', 'low'], ['high', 'med', '3', '4', 'small', 'med'], ['high', 'med', '3', '4', 'small', 'high'], ['high', 'med', '3', '4', 'med', 'low'], ['high', 'med', '3', '4', 'med', 'med'], ['high', 'med', '3', '4', 'med', 'high'], ['high', 'med', '3', '4', 'big', 'low'], ['high', 'med', '3', '4', 'big', 'med'], ['high', 'med', '3', '4', 'big', 'high'], ['high', 'med', '3', 'more', 'small', 'low'], ['high', 'med', '3', 'more', 'small', 'med'], ['high', 'med', '3', 'more', 'small', 'high'], ['high', 'med', '3', 'more', 'med', 'low'], ['high', 'med', '3', 'more', 'med', 'med'], ['high', 'med', '3', 'more', 'med', 'high'], ['high', 'med', '3', 'more', 'big', 'low'], ['high', 'med', '3', 'more', 'big', 'med'], ['high', 'med', '3', 'more', 'big', 'high'], ['high', 'med', '4', '2', 'small', 'low'], ['high', 'med', '4', '2', 'small', 'med'], ['high', 'med', '4', '2', 'small', 'high'], ['high', 'med', '4', '2', 'med', 'low'], ['high', 'med', '4', '2', 'med', 'med'], ['high', 'med', '4', '2', 'med', 'high'], ['high', 'med', '4', '2', 'big', 'low'], ['high', 'med', '4', '2', 'big', 'med'], ['high', 'med', '4', '2', 'big', 'high'], ['high', 'med', '4', '4', 'small', 'low'], ['high', 'med', '4', '4', 'small', 'med'], ['high', 'med', '4', '4', 'small', 'high'], ['high', 'med', '4', '4', 'med', 'low'], ['high', 'med', '4', '4', 'med', 'med'], ['high', 'med', '4', '4', 'med', 'high'], ['high', 'med', '4', '4', 'big', 'low'], ['high', 'med', '4', '4', 'big', 'med'], ['high', 'med', '4', '4', 'big', 'high'], ['high', 'med', '4', 'more', 'small', 'low'], ['high', 'med', '4', 'more', 'small', 'med'], ['high', 'med', '4', 'more', 'small', 'high'], ['high', 'med', '4', 'more', 'med', 'low'], ['high', 'med', '4', 'more', 'med', 'med'], ['high', 'med', '4', 'more', 'med', 'high'], ['high', 'med', '4', 'more', 'big', 'low'], ['high', 'med', '4', 'more', 'big', 'med'], ['high', 'med', '4', 'more', 'big', 'high'], ['high', 'med', '5more', '2', 'small', 'low'], ['high', 'med', '5more', '2', 'small', 'med'], ['high', 'med', '5more', '2', 'small', 'high'], ['high', 'med', '5more', '2', 'med', 'low'], ['high', 'med', '5more', '2', 'med', 'med'], ['high', 'med', '5more', '2', 'med', 'high'], ['high', 'med', '5more', '2', 'big', 'low'], ['high', 'med', '5more', '2', 'big', 'med'], ['high', 'med', '5more', '2', 'big', 'high'], ['high', 'med', '5more', '4', 'small', 'low'], ['high', 'med', '5more', '4', 'small', 'med'], ['high', 'med', '5more', '4', 'small', 'high'], ['high', 'med', '5more', '4', 'med', 'low'], ['high', 'med', '5more', '4', 'med', 'med'], ['high', 'med', '5more', '4', 'med', 'high'], ['high', 'med', '5more', '4', 'big', 'low'], ['high', 'med', '5more', '4', 'big', 'med'], ['high', 'med', '5more', '4', 'big', 'high'], ['high', 'med', '5more', 'more', 'small', 'low'], ['high', 'med', '5more', 'more', 'small', 'med'], ['high', 'med', '5more', 'more', 'small', 'high'], ['high', 'med', '5more', 'more', 'med', 'low'], ['high', 'med', '5more', 'more', 'med', 'med'], ['high', 'med', '5more', 'more', 'med', 'high'], ['high', 'med', '5more', 'more', 'big', 'low'], ['high', 'med', '5more', 'more', 'big', 'med'], ['high', 'med', '5more', 'more', 'big', 'high'], ['high', 'low', '2', '2', 'small', 'low'], ['high', 'low', '2', '2', 'small', 'med'], ['high', 'low', '2', '2', 'small', 'high'], ['high', 'low', '2', '2', 'med', 'low'], ['high', 'low', '2', '2', 'med', 'med'], ['high', 'low', '2', '2', 'med', 'high'], ['high', 'low', '2', '2', 'big', 'low'], ['high', 'low', '2', '2', 'big', 'med'], ['high', 'low', '2', '2', 'big', 'high'], ['high', 'low', '2', '4', 'small', 'low'], ['high', 'low', '2', '4', 'small', 'med'], ['high', 'low', '2', '4', 'small', 'high'], ['high', 'low', '2', '4', 'med', 'low'], ['high', 'low', '2', '4', 'med', 'med'], ['high', 'low', '2', '4', 'med', 'high'], ['high', 'low', '2', '4', 'big', 'low'], ['high', 'low', '2', '4', 'big', 'med'], ['high', 'low', '2', '4', 'big', 'high'], ['high', 'low', '2', 'more', 'small', 'low'], ['high', 'low', '2', 'more', 'small', 'med'], ['high', 'low', '2', 'more', 'small', 'high'], ['high', 'low', '2', 'more', 'med', 'low'], ['high', 'low', '2', 'more', 'med', 'med'], ['high', 'low', '2', 'more', 'med', 'high'], ['high', 'low', '2', 'more', 'big', 'low'], ['high', 'low', '2', 'more', 'big', 'med'], ['high', 'low', '2', 'more', 'big', 'high'], ['high', 'low', '3', '2', 'small', 'low'], ['high', 'low', '3', '2', 'small', 'med'], ['high', 'low', '3', '2', 'small', 'high'], ['high', 'low', '3', '2', 'med', 'low'], ['high', 'low', '3', '2', 'med', 'med'], ['high', 'low', '3', '2', 'med', 'high'], ['high', 'low', '3', '2', 'big', 'low'], ['high', 'low', '3', '2', 'big', 'med'], ['high', 'low', '3', '2', 'big', 'high'], ['high', 'low', '3', '4', 'small', 'low'], ['high', 'low', '3', '4', 'small', 'med'], ['high', 'low', '3', '4', 'small', 'high'], ['high', 'low', '3', '4', 'med', 'low'], ['high', 'low', '3', '4', 'med', 'med'], ['high', 'low', '3', '4', 'med', 'high'], ['high', 'low', '3', '4', 'big', 'low'], ['high', 'low', '3', '4', 'big', 'med'], ['high', 'low', '3', '4', 'big', 'high'], ['high', 'low', '3', 'more', 'small', 'low'], ['high', 'low', '3', 'more', 'small', 'med'], ['high', 'low', '3', 'more', 'small', 'high'], ['high', 'low', '3', 'more', 'med', 'low'], ['high', 'low', '3', 'more', 'med', 'med'], ['high', 'low', '3', 'more', 'med', 'high'], ['high', 'low', '3', 'more', 'big', 'low'], ['high', 'low', '3', 'more', 'big', 'med'], ['high', 'low', '3', 'more', 'big', 'high'], ['high', 'low', '4', '2', 'small', 'low'], ['high', 'low', '4', '2', 'small', 'med'], ['high', 'low', '4', '2', 'small', 'high'], ['high', 'low', '4', '2', 'med', 'low'], ['high', 'low', '4', '2', 'med', 'med'], ['high', 'low', '4', '2', 'med', 'high'], ['high', 'low', '4', '2', 'big', 'low'], ['high', 'low', '4', '2', 'big', 'med'], ['high', 'low', '4', '2', 'big', 'high'], ['high', 'low', '4', '4', 'small', 'low'], ['high', 'low', '4', '4', 'small', 'med'], ['high', 'low', '4', '4', 'small', 'high'], ['high', 'low', '4', '4', 'med', 'low'], ['high', 'low', '4', '4', 'med', 'med'], ['high', 'low', '4', '4', 'med', 'high'], ['high', 'low', '4', '4', 'big', 'low'], ['high', 'low', '4', '4', 'big', 'med'], ['high', 'low', '4', '4', 'big', 'high'], ['high', 'low', '4', 'more', 'small', 'low'], ['high', 'low', '4', 'more', 'small', 'med'], ['high', 'low', '4', 'more', 'small', 'high'], ['high', 'low', '4', 'more', 'med', 'low'], ['high', 'low', '4', 'more', 'med', 'med'], ['high', 'low', '4', 'more', 'med', 'high'], ['high', 'low', '4', 'more', 'big', 'low'], ['high', 'low', '4', 'more', 'big', 'med'], ['high', 'low', '4', 'more', 'big', 'high'], ['high', 'low', '5more', '2', 'small', 'low'], ['high', 'low', '5more', '2', 'small', 'med'], ['high', 'low', '5more', '2', 'small', 'high'], ['high', 'low', '5more', '2', 'med', 'low'], ['high', 'low', '5more', '2', 'med', 'med'], ['high', 'low', '5more', '2', 'med', 'high'], ['high', 'low', '5more', '2', 'big', 'low'], ['high', 'low', '5more', '2', 'big', 'med'], ['high', 'low', '5more', '2', 'big', 'high'], ['high', 'low', '5more', '4', 'small', 'low'], ['high', 'low', '5more', '4', 'small', 'med'], ['high', 'low', '5more', '4', 'small', 'high'], ['high', 'low', '5more', '4', 'med', 'low'], ['high', 'low', '5more', '4', 'med', 'med'], ['high', 'low', '5more', '4', 'med', 'high'], ['high', 'low', '5more', '4', 'big', 'low'], ['high', 'low', '5more', '4', 'big', 'med'], ['high', 'low', '5more', '4', 'big', 'high'], ['high', 'low', '5more', 'more', 'small', 'low'], ['high', 'low', '5more', 'more', 'small', 'med'], ['high', 'low', '5more', 'more', 'small', 'high'], ['high', 'low', '5more', 'more', 'med', 'low'], ['high', 'low', '5more', 'more', 'med', 'med'], ['high', 'low', '5more', 'more', 'med', 'high'], ['high', 'low', '5more', 'more', 'big', 'low'], ['high', 'low', '5more', 'more', 'big', 'med'], ['high', 'low', '5more', 'more', 'big', 'high'], ['med', 'vhigh', '2', '2', 'small', 'low'], ['med', 'vhigh', '2', '2', 'small', 'med'], ['med', 'vhigh', '2', '2', 'small', 'high'], ['med', 'vhigh', '2', '2', 'med', 'low'], ['med', 'vhigh', '2', '2', 'med', 'med'], ['med', 'vhigh', '2', '2', 'med', 'high'], ['med', 'vhigh', '2', '2', 'big', 'low'], ['med', 'vhigh', '2', '2', 'big', 'med'], ['med', 'vhigh', '2', '2', 'big', 'high'], ['med', 'vhigh', '2', '4', 'small', 'low'], ['med', 'vhigh', '2', '4', 'small', 'med'], ['med', 'vhigh', '2', '4', 'small', 'high'], ['med', 'vhigh', '2', '4', 'med', 'low'], ['med', 'vhigh', '2', '4', 'med', 'med'], ['med', 'vhigh', '2', '4', 'med', 'high'], ['med', 'vhigh', '2', '4', 'big', 'low'], ['med', 'vhigh', '2', '4', 'big', 'med'], ['med', 'vhigh', '2', '4', 'big', 'high'], ['med', 'vhigh', '2', 'more', 'small', 'low'], ['med', 'vhigh', '2', 'more', 'small', 'med'], ['med', 'vhigh', '2', 'more', 'small', 'high'], ['med', 'vhigh', '2', 'more', 'med', 'low'], ['med', 'vhigh', '2', 'more', 'med', 'med'], ['med', 'vhigh', '2', 'more', 'med', 'high'], ['med', 'vhigh', '2', 'more', 'big', 'low'], ['med', 'vhigh', '2', 'more', 'big', 'med'], ['med', 'vhigh', '2', 'more', 'big', 'high'], ['med', 'vhigh', '3', '2', 'small', 'low'], ['med', 'vhigh', '3', '2', 'small', 'med'], ['med', 'vhigh', '3', '2', 'small', 'high'], ['med', 'vhigh', '3', '2', 'med', 'low'], ['med', 'vhigh', '3', '2', 'med', 'med'], ['med', 'vhigh', '3', '2', 'med', 'high'], ['med', 'vhigh', '3', '2', 'big', 'low'], ['med', 'vhigh', '3', '2', 'big', 'med'], ['med', 'vhigh', '3', '2', 'big', 'high'], ['med', 'vhigh', '3', '4', 'small', 'low'], ['med', 'vhigh', '3', '4', 'small', 'med'], ['med', 'vhigh', '3', '4', 'small', 'high'], ['med', 'vhigh', '3', '4', 'med', 'low'], ['med', 'vhigh', '3', '4', 'med', 'med'], ['med', 'vhigh', '3', '4', 'med', 'high'], ['med', 'vhigh', '3', '4', 'big', 'low'], ['med', 'vhigh', '3', '4', 'big', 'med'], ['med', 'vhigh', '3', '4', 'big', 'high'], ['med', 'vhigh', '3', 'more', 'small', 'low'], ['med', 'vhigh', '3', 'more', 'small', 'med'], ['med', 'vhigh', '3', 'more', 'small', 'high'], ['med', 'vhigh', '3', 'more', 'med', 'low'], ['med', 'vhigh', '3', 'more', 'med', 'med'], ['med', 'vhigh', '3', 'more', 'med', 'high'], ['med', 'vhigh', '3', 'more', 'big', 'low'], ['med', 'vhigh', '3', 'more', 'big', 'med'], ['med', 'vhigh', '3', 'more', 'big', 'high'], ['med', 'vhigh', '4', '2', 'small', 'low'], ['med', 'vhigh', '4', '2', 'small', 'med'], ['med', 'vhigh', '4', '2', 'small', 'high'], ['med', 'vhigh', '4', '2', 'med', 'low'], ['med', 'vhigh', '4', '2', 'med', 'med'], ['med', 'vhigh', '4', '2', 'med', 'high'], ['med', 'vhigh', '4', '2', 'big', 'low'], ['med', 'vhigh', '4', '2', 'big', 'med'], ['med', 'vhigh', '4', '2', 'big', 'high'], ['med', 'vhigh', '4', '4', 'small', 'low'], ['med', 'vhigh', '4', '4', 'small', 'med'], ['med', 'vhigh', '4', '4', 'small', 'high'], ['med', 'vhigh', '4', '4', 'med', 'low'], ['med', 'vhigh', '4', '4', 'med', 'med'], ['med', 'vhigh', '4', '4', 'med', 'high'], ['med', 'vhigh', '4', '4', 'big', 'low'], ['med', 'vhigh', '4', '4', 'big', 'med'], ['med', 'vhigh', '4', '4', 'big', 'high'], ['med', 'vhigh', '4', 'more', 'small', 'low'], ['med', 'vhigh', '4', 'more', 'small', 'med'], ['med', 'vhigh', '4', 'more', 'small', 'high'], ['med', 'vhigh', '4', 'more', 'med', 'low'], ['med', 'vhigh', '4', 'more', 'med', 'med'], ['med', 'vhigh', '4', 'more', 'med', 'high'], ['med', 'vhigh', '4', 'more', 'big', 'low'], ['med', 'vhigh', '4', 'more', 'big', 'med'], ['med', 'vhigh', '4', 'more', 'big', 'high'], ['med', 'vhigh', '5more', '2', 'small', 'low'], ['med', 'vhigh', '5more', '2', 'small', 'med'], ['med', 'vhigh', '5more', '2', 'small', 'high'], ['med', 'vhigh', '5more', '2', 'med', 'low'], ['med', 'vhigh', '5more', '2', 'med', 'med'], ['med', 'vhigh', '5more', '2', 'med', 'high'], ['med', 'vhigh', '5more', '2', 'big', 'low'], ['med', 'vhigh', '5more', '2', 'big', 'med'], ['med', 'vhigh', '5more', '2', 'big', 'high'], ['med', 'vhigh', '5more', '4', 'small', 'low'], ['med', 'vhigh', '5more', '4', 'small', 'med'], ['med', 'vhigh', '5more', '4', 'small', 'high'], ['med', 'vhigh', '5more', '4', 'med', 'low'], ['med', 'vhigh', '5more', '4', 'med', 'med'], ['med', 'vhigh', '5more', '4', 'med', 'high'], ['med', 'vhigh', '5more', '4', 'big', 'low'], ['med', 'vhigh', '5more', '4', 'big', 'med'], ['med', 'vhigh', '5more', '4', 'big', 'high'], ['med', 'vhigh', '5more', 'more', 'small', 'low'], ['med', 'vhigh', '5more', 'more', 'small', 'med'], ['med', 'vhigh', '5more', 'more', 'small', 'high'], ['med', 'vhigh', '5more', 'more', 'med', 'low'], ['med', 'vhigh', '5more', 'more', 'med', 'med'], ['med', 'vhigh', '5more', 'more', 'med', 'high'], ['med', 'vhigh', '5more', 'more', 'big', 'low'], ['med', 'vhigh', '5more', 'more', 'big', 'med'], ['med', 'vhigh', '5more', 'more', 'big', 'high'], ['med', 'high', '2', '2', 'small', 'low'], ['med', 'high', '2', '2', 'small', 'med'], ['med', 'high', '2', '2', 'small', 'high'], ['med', 'high', '2', '2', 'med', 'low'], ['med', 'high', '2', '2', 'med', 'med'], ['med', 'high', '2', '2', 'med', 'high'], ['med', 'high', '2', '2', 'big', 'low'], ['med', 'high', '2', '2', 'big', 'med'], ['med', 'high', '2', '2', 'big', 'high'], ['med', 'high', '2', '4', 'small', 'low'], ['med', 'high', '2', '4', 'small', 'med'], ['med', 'high', '2', '4', 'small', 'high'], ['med', 'high', '2', '4', 'med', 'low'], ['med', 'high', '2', '4', 'med', 'med'], ['med', 'high', '2', '4', 'med', 'high'], ['med', 'high', '2', '4', 'big', 'low'], ['med', 'high', '2', '4', 'big', 'med'], ['med', 'high', '2', '4', 'big', 'high'], ['med', 'high', '2', 'more', 'small', 'low'], ['med', 'high', '2', 'more', 'small', 'med'], ['med', 'high', '2', 'more', 'small', 'high'], ['med', 'high', '2', 'more', 'med', 'low'], ['med', 'high', '2', 'more', 'med', 'med'], ['med', 'high', '2', 'more', 'med', 'high'], ['med', 'high', '2', 'more', 'big', 'low'], ['med', 'high', '2', 'more', 'big', 'med'], ['med', 'high', '2', 'more', 'big', 'high'], ['med', 'high', '3', '2', 'small', 'low'], ['med', 'high', '3', '2', 'small', 'med'], ['med', 'high', '3', '2', 'small', 'high'], ['med', 'high', '3', '2', 'med', 'low'], ['med', 'high', '3', '2', 'med', 'med'], ['med', 'high', '3', '2', 'med', 'high'], ['med', 'high', '3', '2', 'big', 'low'], ['med', 'high', '3', '2', 'big', 'med'], ['med', 'high', '3', '2', 'big', 'high'], ['med', 'high', '3', '4', 'small', 'low'], ['med', 'high', '3', '4', 'small', 'med'], ['med', 'high', '3', '4', 'small', 'high'], ['med', 'high', '3', '4', 'med', 'low'], ['med', 'high', '3', '4', 'med', 'med'], ['med', 'high', '3', '4', 'med', 'high'], ['med', 'high', '3', '4', 'big', 'low'], ['med', 'high', '3', '4', 'big', 'med'], ['med', 'high', '3', '4', 'big', 'high'], ['med', 'high', '3', 'more', 'small', 'low'], ['med', 'high', '3', 'more', 'small', 'med'], ['med', 'high', '3', 'more', 'small', 'high'], ['med', 'high', '3', 'more', 'med', 'low'], ['med', 'high', '3', 'more', 'med', 'med'], ['med', 'high', '3', 'more', 'med', 'high'], ['med', 'high', '3', 'more', 'big', 'low'], ['med', 'high', '3', 'more', 'big', 'med'], ['med', 'high', '3', 'more', 'big', 'high'], ['med', 'high', '4', '2', 'small', 'low'], ['med', 'high', '4', '2', 'small', 'med'], ['med', 'high', '4', '2', 'small', 'high'], ['med', 'high', '4', '2', 'med', 'low'], ['med', 'high', '4', '2', 'med', 'med'], ['med', 'high', '4', '2', 'med', 'high'], ['med', 'high', '4', '2', 'big', 'low'], ['med', 'high', '4', '2', 'big', 'med'], ['med', 'high', '4', '2', 'big', 'high'], ['med', 'high', '4', '4', 'small', 'low'], ['med', 'high', '4', '4', 'small', 'med'], ['med', 'high', '4', '4', 'small', 'high'], ['med', 'high', '4', '4', 'med', 'low'], ['med', 'high', '4', '4', 'med', 'med'], ['med', 'high', '4', '4', 'med', 'high'], ['med', 'high', '4', '4', 'big', 'low'], ['med', 'high', '4', '4', 'big', 'med'], ['med', 'high', '4', '4', 'big', 'high'], ['med', 'high', '4', 'more', 'small', 'low'], ['med', 'high', '4', 'more', 'small', 'med'], ['med', 'high', '4', 'more', 'small', 'high'], ['med', 'high', '4', 'more', 'med', 'low'], ['med', 'high', '4', 'more', 'med', 'med'], ['med', 'high', '4', 'more', 'med', 'high'], ['med', 'high', '4', 'more', 'big', 'low'], ['med', 'high', '4', 'more', 'big', 'med'], ['med', 'high', '4', 'more', 'big', 'high'], ['med', 'high', '5more', '2', 'small', 'low'], ['med', 'high', '5more', '2', 'small', 'med'], ['med', 'high', '5more', '2', 'small', 'high'], ['med', 'high', '5more', '2', 'med', 'low'], ['med', 'high', '5more', '2', 'med', 'med'], ['med', 'high', '5more', '2', 'med', 'high'], ['med', 'high', '5more', '2', 'big', 'low'], ['med', 'high', '5more', '2', 'big', 'med'], ['med', 'high', '5more', '2', 'big', 'high'], ['med', 'high', '5more', '4', 'small', 'low'], ['med', 'high', '5more', '4', 'small', 'med'], ['med', 'high', '5more', '4', 'small', 'high'], ['med', 'high', '5more', '4', 'med', 'low'], ['med', 'high', '5more', '4', 'med', 'med'], ['med', 'high', '5more', '4', 'med', 'high'], ['med', 'high', '5more', '4', 'big', 'low'], ['med', 'high', '5more', '4', 'big', 'med'], ['med', 'high', '5more', '4', 'big', 'high'], ['med', 'high', '5more', 'more', 'small', 'low'], ['med', 'high', '5more', 'more', 'small', 'med'], ['med', 'high', '5more', 'more', 'small', 'high'], ['med', 'high', '5more', 'more', 'med', 'low'], ['med', 'high', '5more', 'more', 'med', 'med'], ['med', 'high', '5more', 'more', 'med', 'high'], ['med', 'high', '5more', 'more', 'big', 'low'], ['med', 'high', '5more', 'more', 'big', 'med'], ['med', 'high', '5more', 'more', 'big', 'high'], ['med', 'med', '2', '2', 'small', 'low'], ['med', 'med', '2', '2', 'small', 'med'], ['med', 'med', '2', '2', 'small', 'high'], ['med', 'med', '2', '2', 'med', 'low'], ['med', 'med', '2', '2', 'med', 'med'], ['med', 'med', '2', '2', 'med', 'high'], ['med', 'med', '2', '2', 'big', 'low'], ['med', 'med', '2', '2', 'big', 'med'], ['med', 'med', '2', '2', 'big', 'high'], ['med', 'med', '2', '4', 'small', 'low'], ['med', 'med', '2', '4', 'small', 'med'], ['med', 'med', '2', '4', 'small', 'high'], ['med', 'med', '2', '4', 'med', 'low'], ['med', 'med', '2', '4', 'med', 'med'], ['med', 'med', '2', '4', 'med', 'high'], ['med', 'med', '2', '4', 'big', 'low'], ['med', 'med', '2', '4', 'big', 'med'], ['med', 'med', '2', '4', 'big', 'high'], ['med', 'med', '2', 'more', 'small', 'low'], ['med', 'med', '2', 'more', 'small', 'med'], ['med', 'med', '2', 'more', 'small', 'high'], ['med', 'med', '2', 'more', 'med', 'low'], ['med', 'med', '2', 'more', 'med', 'med'], ['med', 'med', '2', 'more', 'med', 'high'], ['med', 'med', '2', 'more', 'big', 'low'], ['med', 'med', '2', 'more', 'big', 'med'], ['med', 'med', '2', 'more', 'big', 'high'], ['med', 'med', '3', '2', 'small', 'low'], ['med', 'med', '3', '2', 'small', 'med'], ['med', 'med', '3', '2', 'small', 'high'], ['med', 'med', '3', '2', 'med', 'low'], ['med', 'med', '3', '2', 'med', 'med'], ['med', 'med', '3', '2', 'med', 'high'], ['med', 'med', '3', '2', 'big', 'low'], ['med', 'med', '3', '2', 'big', 'med'], ['med', 'med', '3', '2', 'big', 'high'], ['med', 'med', '3', '4', 'small', 'low'], ['med', 'med', '3', '4', 'small', 'med'], ['med', 'med', '3', '4', 'small', 'high'], ['med', 'med', '3', '4', 'med', 'low'], ['med', 'med', '3', '4', 'med', 'med'], ['med', 'med', '3', '4', 'med', 'high'], ['med', 'med', '3', '4', 'big', 'low'], ['med', 'med', '3', '4', 'big', 'med'], ['med', 'med', '3', '4', 'big', 'high'], ['med', 'med', '3', 'more', 'small', 'low'], ['med', 'med', '3', 'more', 'small', 'med'], ['med', 'med', '3', 'more', 'small', 'high'], ['med', 'med', '3', 'more', 'med', 'low'], ['med', 'med', '3', 'more', 'med', 'med'], ['med', 'med', '3', 'more', 'med', 'high'], ['med', 'med', '3', 'more', 'big', 'low'], ['med', 'med', '3', 'more', 'big', 'med'], ['med', 'med', '3', 'more', 'big', 'high'], ['med', 'med', '4', '2', 'small', 'low'], ['med', 'med', '4', '2', 'small', 'med'], ['med', 'med', '4', '2', 'small', 'high'], ['med', 'med', '4', '2', 'med', 'low'], ['med', 'med', '4', '2', 'med', 'med'], ['med', 'med', '4', '2', 'med', 'high'], ['med', 'med', '4', '2', 'big', 'low'], ['med', 'med', '4', '2', 'big', 'med'], ['med', 'med', '4', '2', 'big', 'high'], ['med', 'med', '4', '4', 'small', 'low'], ['med', 'med', '4', '4', 'small', 'med'], ['med', 'med', '4', '4', 'small', 'high'], ['med', 'med', '4', '4', 'med', 'low'], ['med', 'med', '4', '4', 'med', 'med'], ['med', 'med', '4', '4', 'med', 'high'], ['med', 'med', '4', '4', 'big', 'low'], ['med', 'med', '4', '4', 'big', 'med'], ['med', 'med', '4', '4', 'big', 'high'], ['med', 'med', '4', 'more', 'small', 'low'], ['med', 'med', '4', 'more', 'small', 'med'], ['med', 'med', '4', 'more', 'small', 'high'], ['med', 'med', '4', 'more', 'med', 'low'], ['med', 'med', '4', 'more', 'med', 'med'], ['med', 'med', '4', 'more', 'med', 'high'], ['med', 'med', '4', 'more', 'big', 'low'], ['med', 'med', '4', 'more', 'big', 'med'], ['med', 'med', '4', 'more', 'big', 'high'], ['med', 'med', '5more', '2', 'small', 'low'], ['med', 'med', '5more', '2', 'small', 'med'], ['med', 'med', '5more', '2', 'small', 'high'], ['med', 'med', '5more', '2', 'med', 'low'], ['med', 'med', '5more', '2', 'med', 'med'], ['med', 'med', '5more', '2', 'med', 'high'], ['med', 'med', '5more', '2', 'big', 'low'], ['med', 'med', '5more', '2', 'big', 'med'], ['med', 'med', '5more', '2', 'big', 'high'], ['med', 'med', '5more', '4', 'small', 'low'], ['med', 'med', '5more', '4', 'small', 'med'], ['med', 'med', '5more', '4', 'small', 'high'], ['med', 'med', '5more', '4', 'med', 'low'], ['med', 'med', '5more', '4', 'med', 'med'], ['med', 'med', '5more', '4', 'med', 'high'], ['med', 'med', '5more', '4', 'big', 'low'], ['med', 'med', '5more', '4', 'big', 'med'], ['med', 'med', '5more', '4', 'big', 'high'], ['med', 'med', '5more', 'more', 'small', 'low'], ['med', 'med', '5more', 'more', 'small', 'med'], ['med', 'med', '5more', 'more', 'small', 'high'], ['med', 'med', '5more', 'more', 'med', 'low'], ['med', 'med', '5more', 'more', 'med', 'med'], ['med', 'med', '5more', 'more', 'med', 'high'], ['med', 'med', '5more', 'more', 'big', 'low'], ['med', 'med', '5more', 'more', 'big', 'med'], ['med', 'med', '5more', 'more', 'big', 'high'], ['med', 'low', '2', '2', 'small', 'low'], ['med', 'low', '2', '2', 'small', 'med'], ['med', 'low', '2', '2', 'small', 'high'], ['med', 'low', '2', '2', 'med', 'low'], ['med', 'low', '2', '2', 'med', 'med'], ['med', 'low', '2', '2', 'med', 'high'], ['med', 'low', '2', '2', 'big', 'low'], ['med', 'low', '2', '2', 'big', 'med'], ['med', 'low', '2', '2', 'big', 'high'], ['med', 'low', '2', '4', 'small', 'low'], ['med', 'low', '2', '4', 'small', 'med'], ['med', 'low', '2', '4', 'small', 'high'], ['med', 'low', '2', '4', 'med', 'low'], ['med', 'low', '2', '4', 'med', 'med'], ['med', 'low', '2', '4', 'med', 'high'], ['med', 'low', '2', '4', 'big', 'low'], ['med', 'low', '2', '4', 'big', 'med'], ['med', 'low', '2', '4', 'big', 'high'], ['med', 'low', '2', 'more', 'small', 'low'], ['med', 'low', '2', 'more', 'small', 'med'], ['med', 'low', '2', 'more', 'small', 'high'], ['med', 'low', '2', 'more', 'med', 'low'], ['med', 'low', '2', 'more', 'med', 'med'], ['med', 'low', '2', 'more', 'med', 'high'], ['med', 'low', '2', 'more', 'big', 'low'], ['med', 'low', '2', 'more', 'big', 'med'], ['med', 'low', '2', 'more', 'big', 'high'], ['med', 'low', '3', '2', 'small', 'low'], ['med', 'low', '3', '2', 'small', 'med'], ['med', 'low', '3', '2', 'small', 'high'], ['med', 'low', '3', '2', 'med', 'low'], ['med', 'low', '3', '2', 'med', 'med'], ['med', 'low', '3', '2', 'med', 'high'], ['med', 'low', '3', '2', 'big', 'low'], ['med', 'low', '3', '2', 'big', 'med'], ['med', 'low', '3', '2', 'big', 'high'], ['med', 'low', '3', '4', 'small', 'low'], ['med', 'low', '3', '4', 'small', 'med'], ['med', 'low', '3', '4', 'small', 'high'], ['med', 'low', '3', '4', 'med', 'low'], ['med', 'low', '3', '4', 'med', 'med'], ['med', 'low', '3', '4', 'med', 'high'], ['med', 'low', '3', '4', 'big', 'low'], ['med', 'low', '3', '4', 'big', 'med'], ['med', 'low', '3', '4', 'big', 'high'], ['med', 'low', '3', 'more', 'small', 'low'], ['med', 'low', '3', 'more', 'small', 'med'], ['med', 'low', '3', 'more', 'small', 'high'], ['med', 'low', '3', 'more', 'med', 'low'], ['med', 'low', '3', 'more', 'med', 'med'], ['med', 'low', '3', 'more', 'med', 'high'], ['med', 'low', '3', 'more', 'big', 'low'], ['med', 'low', '3', 'more', 'big', 'med'], ['med', 'low', '3', 'more', 'big', 'high'], ['med', 'low', '4', '2', 'small', 'low'], ['med', 'low', '4', '2', 'small', 'med'], ['med', 'low', '4', '2', 'small', 'high'], ['med', 'low', '4', '2', 'med', 'low'], ['med', 'low', '4', '2', 'med', 'med'], ['med', 'low', '4', '2', 'med', 'high'], ['med', 'low', '4', '2', 'big', 'low'], ['med', 'low', '4', '2', 'big', 'med'], ['med', 'low', '4', '2', 'big', 'high'], ['med', 'low', '4', '4', 'small', 'low'], ['med', 'low', '4', '4', 'small', 'med'], ['med', 'low', '4', '4', 'small', 'high'], ['med', 'low', '4', '4', 'med', 'low'], ['med', 'low', '4', '4', 'med', 'med'], ['med', 'low', '4', '4', 'med', 'high'], ['med', 'low', '4', '4', 'big', 'low'], ['med', 'low', '4', '4', 'big', 'med'], ['med', 'low', '4', '4', 'big', 'high'], ['med', 'low', '4', 'more', 'small', 'low'], ['med', 'low', '4', 'more', 'small', 'med'], ['med', 'low', '4', 'more', 'small', 'high'], ['med', 'low', '4', 'more', 'med', 'low'], ['med', 'low', '4', 'more', 'med', 'med'], ['med', 'low', '4', 'more', 'med', 'high'], ['med', 'low', '4', 'more', 'big', 'low'], ['med', 'low', '4', 'more', 'big', 'med'], ['med', 'low', '4', 'more', 'big', 'high'], ['med', 'low', '5more', '2', 'small', 'low'], ['med', 'low', '5more', '2', 'small', 'med'], ['med', 'low', '5more', '2', 'small', 'high'], ['med', 'low', '5more', '2', 'med', 'low'], ['med', 'low', '5more', '2', 'med', 'med'], ['med', 'low', '5more', '2', 'med', 'high'], ['med', 'low', '5more', '2', 'big', 'low'], ['med', 'low', '5more', '2', 'big', 'med'], ['med', 'low', '5more', '2', 'big', 'high'], ['med', 'low', '5more', '4', 'small', 'low'], ['med', 'low', '5more', '4', 'small', 'med'], ['med', 'low', '5more', '4', 'small', 'high'], ['med', 'low', '5more', '4', 'med', 'low'], ['med', 'low', '5more', '4', 'med', 'med'], ['med', 'low', '5more', '4', 'med', 'high'], ['med', 'low', '5more', '4', 'big', 'low'], ['med', 'low', '5more', '4', 'big', 'med'], ['med', 'low', '5more', '4', 'big', 'high'], ['med', 'low', '5more', 'more', 'small', 'low'], ['med', 'low', '5more', 'more', 'small', 'med'], ['med', 'low', '5more', 'more', 'small', 'high'], ['med', 'low', '5more', 'more', 'med', 'low'], ['med', 'low', '5more', 'more', 'med', 'med'], ['med', 'low', '5more', 'more', 'med', 'high'], ['med', 'low', '5more', 'more', 'big', 'low'], ['med', 'low', '5more', 'more', 'big', 'med'], ['med', 'low', '5more', 'more', 'big', 'high'], ['low', 'vhigh', '2', '2', 'small', 'low'], ['low', 'vhigh', '2', '2', 'small', 'med'], ['low', 'vhigh', '2', '2', 'small', 'high'], ['low', 'vhigh', '2', '2', 'med', 'low'], ['low', 'vhigh', '2', '2', 'med', 'med'], ['low', 'vhigh', '2', '2', 'med', 'high'], ['low', 'vhigh', '2', '2', 'big', 'low'], ['low', 'vhigh', '2', '2', 'big', 'med'], ['low', 'vhigh', '2', '2', 'big', 'high'], ['low', 'vhigh', '2', '4', 'small', 'low'], ['low', 'vhigh', '2', '4', 'small', 'med'], ['low', 'vhigh', '2', '4', 'small', 'high'], ['low', 'vhigh', '2', '4', 'med', 'low'], ['low', 'vhigh', '2', '4', 'med', 'med'], ['low', 'vhigh', '2', '4', 'med', 'high'], ['low', 'vhigh', '2', '4', 'big', 'low'], ['low', 'vhigh', '2', '4', 'big', 'med'], ['low', 'vhigh', '2', '4', 'big', 'high'], ['low', 'vhigh', '2', 'more', 'small', 'low'], ['low', 'vhigh', '2', 'more', 'small', 'med'], ['low', 'vhigh', '2', 'more', 'small', 'high'], ['low', 'vhigh', '2', 'more', 'med', 'low'], ['low', 'vhigh', '2', 'more', 'med', 'med'], ['low', 'vhigh', '2', 'more', 'med', 'high'], ['low', 'vhigh', '2', 'more', 'big', 'low'], ['low', 'vhigh', '2', 'more', 'big', 'med'], ['low', 'vhigh', '2', 'more', 'big', 'high'], ['low', 'vhigh', '3', '2', 'small', 'low'], ['low', 'vhigh', '3', '2', 'small', 'med'], ['low', 'vhigh', '3', '2', 'small', 'high'], ['low', 'vhigh', '3', '2', 'med', 'low'], ['low', 'vhigh', '3', '2', 'med', 'med'], ['low', 'vhigh', '3', '2', 'med', 'high'], ['low', 'vhigh', '3', '2', 'big', 'low'], ['low', 'vhigh', '3', '2', 'big', 'med'], ['low', 'vhigh', '3', '2', 'big', 'high'], ['low', 'vhigh', '3', '4', 'small', 'low'], ['low', 'vhigh', '3', '4', 'small', 'med'], ['low', 'vhigh', '3', '4', 'small', 'high'], ['low', 'vhigh', '3', '4', 'med', 'low'], ['low', 'vhigh', '3', '4', 'med', 'med'], ['low', 'vhigh', '3', '4', 'med', 'high'], ['low', 'vhigh', '3', '4', 'big', 'low'], ['low', 'vhigh', '3', '4', 'big', 'med'], ['low', 'vhigh', '3', '4', 'big', 'high'], ['low', 'vhigh', '3', 'more', 'small', 'low'], ['low', 'vhigh', '3', 'more', 'small', 'med'], ['low', 'vhigh', '3', 'more', 'small', 'high'], ['low', 'vhigh', '3', 'more', 'med', 'low'], ['low', 'vhigh', '3', 'more', 'med', 'med'], ['low', 'vhigh', '3', 'more', 'med', 'high'], ['low', 'vhigh', '3', 'more', 'big', 'low'], ['low', 'vhigh', '3', 'more', 'big', 'med'], ['low', 'vhigh', '3', 'more', 'big', 'high'], ['low', 'vhigh', '4', '2', 'small', 'low'], ['low', 'vhigh', '4', '2', 'small', 'med'], ['low', 'vhigh', '4', '2', 'small', 'high'], ['low', 'vhigh', '4', '2', 'med', 'low'], ['low', 'vhigh', '4', '2', 'med', 'med'], ['low', 'vhigh', '4', '2', 'med', 'high'], ['low', 'vhigh', '4', '2', 'big', 'low'], ['low', 'vhigh', '4', '2', 'big', 'med'], ['low', 'vhigh', '4', '2', 'big', 'high'], ['low', 'vhigh', '4', '4', 'small', 'low'], ['low', 'vhigh', '4', '4', 'small', 'med'], ['low', 'vhigh', '4', '4', 'small', 'high'], ['low', 'vhigh', '4', '4', 'med', 'low'], ['low', 'vhigh', '4', '4', 'med', 'med'], ['low', 'vhigh', '4', '4', 'med', 'high'], ['low', 'vhigh', '4', '4', 'big', 'low'], ['low', 'vhigh', '4', '4', 'big', 'med'], ['low', 'vhigh', '4', '4', 'big', 'high'], ['low', 'vhigh', '4', 'more', 'small', 'low'], ['low', 'vhigh', '4', 'more', 'small', 'med'], ['low', 'vhigh', '4', 'more', 'small', 'high'], ['low', 'vhigh', '4', 'more', 'med', 'low'], ['low', 'vhigh', '4', 'more', 'med', 'med'], ['low', 'vhigh', '4', 'more', 'med', 'high'], ['low', 'vhigh', '4', 'more', 'big', 'low'], ['low', 'vhigh', '4', 'more', 'big', 'med'], ['low', 'vhigh', '4', 'more', 'big', 'high'], ['low', 'vhigh', '5more', '2', 'small', 'low'], ['low', 'vhigh', '5more', '2', 'small', 'med'], ['low', 'vhigh', '5more', '2', 'small', 'high'], ['low', 'vhigh', '5more', '2', 'med', 'low'], ['low', 'vhigh', '5more', '2', 'med', 'med'], ['low', 'vhigh', '5more', '2', 'med', 'high'], ['low', 'vhigh', '5more', '2', 'big', 'low'], ['low', 'vhigh', '5more', '2', 'big', 'med'], ['low', 'vhigh', '5more', '2', 'big', 'high'], ['low', 'vhigh', '5more', '4', 'small', 'low'], ['low', 'vhigh', '5more', '4', 'small', 'med'], ['low', 'vhigh', '5more', '4', 'small', 'high'], ['low', 'vhigh', '5more', '4', 'med', 'low'], ['low', 'vhigh', '5more', '4', 'med', 'med'], ['low', 'vhigh', '5more', '4', 'med', 'high'], ['low', 'vhigh', '5more', '4', 'big', 'low'], ['low', 'vhigh', '5more', '4', 'big', 'med'], ['low', 'vhigh', '5more', '4', 'big', 'high'], ['low', 'vhigh', '5more', 'more', 'small', 'low'], ['low', 'vhigh', '5more', 'more', 'small', 'med'], ['low', 'vhigh', '5more', 'more', 'small', 'high'], ['low', 'vhigh', '5more', 'more', 'med', 'low'], ['low', 'vhigh', '5more', 'more', 'med', 'med'], ['low', 'vhigh', '5more', 'more', 'med', 'high'], ['low', 'vhigh', '5more', 'more', 'big', 'low'], ['low', 'vhigh', '5more', 'more', 'big', 'med'], ['low', 'vhigh', '5more', 'more', 'big', 'high'], ['low', 'high', '2', '2', 'small', 'low'], ['low', 'high', '2', '2', 'small', 'med'], ['low', 'high', '2', '2', 'small', 'high'], ['low', 'high', '2', '2', 'med', 'low'], ['low', 'high', '2', '2', 'med', 'med'], ['low', 'high', '2', '2', 'med', 'high'], ['low', 'high', '2', '2', 'big', 'low'], ['low', 'high', '2', '2', 'big', 'med'], ['low', 'high', '2', '2', 'big', 'high'], ['low', 'high', '2', '4', 'small', 'low'], ['low', 'high', '2', '4', 'small', 'med'], ['low', 'high', '2', '4', 'small', 'high'], ['low', 'high', '2', '4', 'med', 'low'], ['low', 'high', '2', '4', 'med', 'med'], ['low', 'high', '2', '4', 'med', 'high'], ['low', 'high', '2', '4', 'big', 'low'], ['low', 'high', '2', '4', 'big', 'med'], ['low', 'high', '2', '4', 'big', 'high'], ['low', 'high', '2', 'more', 'small', 'low'], ['low', 'high', '2', 'more', 'small', 'med'], ['low', 'high', '2', 'more', 'small', 'high'], ['low', 'high', '2', 'more', 'med', 'low'], ['low', 'high', '2', 'more', 'med', 'med'], ['low', 'high', '2', 'more', 'med', 'high'], ['low', 'high', '2', 'more', 'big', 'low'], ['low', 'high', '2', 'more', 'big', 'med'], ['low', 'high', '2', 'more', 'big', 'high'], ['low', 'high', '3', '2', 'small', 'low'], ['low', 'high', '3', '2', 'small', 'med'], ['low', 'high', '3', '2', 'small', 'high'], ['low', 'high', '3', '2', 'med', 'low'], ['low', 'high', '3', '2', 'med', 'med'], ['low', 'high', '3', '2', 'med', 'high'], ['low', 'high', '3', '2', 'big', 'low'], ['low', 'high', '3', '2', 'big', 'med'], ['low', 'high', '3', '2', 'big', 'high'], ['low', 'high', '3', '4', 'small', 'low'], ['low', 'high', '3', '4', 'small', 'med'], ['low', 'high', '3', '4', 'small', 'high'], ['low', 'high', '3', '4', 'med', 'low'], ['low', 'high', '3', '4', 'med', 'med'], ['low', 'high', '3', '4', 'med', 'high'], ['low', 'high', '3', '4', 'big', 'low'], ['low', 'high', '3', '4', 'big', 'med'], ['low', 'high', '3', '4', 'big', 'high'], ['low', 'high', '3', 'more', 'small', 'low'], ['low', 'high', '3', 'more', 'small', 'med'], ['low', 'high', '3', 'more', 'small', 'high'], ['low', 'high', '3', 'more', 'med', 'low'], ['low', 'high', '3', 'more', 'med', 'med'], ['low', 'high', '3', 'more', 'med', 'high'], ['low', 'high', '3', 'more', 'big', 'low'], ['low', 'high', '3', 'more', 'big', 'med'], ['low', 'high', '3', 'more', 'big', 'high'], ['low', 'high', '4', '2', 'small', 'low'], ['low', 'high', '4', '2', 'small', 'med'], ['low', 'high', '4', '2', 'small', 'high'], ['low', 'high', '4', '2', 'med', 'low'], ['low', 'high', '4', '2', 'med', 'med'], ['low', 'high', '4', '2', 'med', 'high'], ['low', 'high', '4', '2', 'big', 'low'], ['low', 'high', '4', '2', 'big', 'med'], ['low', 'high', '4', '2', 'big', 'high'], ['low', 'high', '4', '4', 'small', 'low'], ['low', 'high', '4', '4', 'small', 'med'], ['low', 'high', '4', '4', 'small', 'high'], ['low', 'high', '4', '4', 'med', 'low'], ['low', 'high', '4', '4', 'med', 'med'], ['low', 'high', '4', '4', 'med', 'high'], ['low', 'high', '4', '4', 'big', 'low'], ['low', 'high', '4', '4', 'big', 'med'], ['low', 'high', '4', '4', 'big', 'high'], ['low', 'high', '4', 'more', 'small', 'low'], ['low', 'high', '4', 'more', 'small', 'med'], ['low', 'high', '4', 'more', 'small', 'high'], ['low', 'high', '4', 'more', 'med', 'low'], ['low', 'high', '4', 'more', 'med', 'med'], ['low', 'high', '4', 'more', 'med', 'high'], ['low', 'high', '4', 'more', 'big', 'low'], ['low', 'high', '4', 'more', 'big', 'med'], ['low', 'high', '4', 'more', 'big', 'high'], ['low', 'high', '5more', '2', 'small', 'low'], ['low', 'high', '5more', '2', 'small', 'med'], ['low', 'high', '5more', '2', 'small', 'high'], ['low', 'high', '5more', '2', 'med', 'low'], ['low', 'high', '5more', '2', 'med', 'med'], ['low', 'high', '5more', '2', 'med', 'high'], ['low', 'high', '5more', '2', 'big', 'low'], ['low', 'high', '5more', '2', 'big', 'med'], ['low', 'high', '5more', '2', 'big', 'high'], ['low', 'high', '5more', '4', 'small', 'low'], ['low', 'high', '5more', '4', 'small', 'med'], ['low', 'high', '5more', '4', 'small', 'high'], ['low', 'high', '5more', '4', 'med', 'low'], ['low', 'high', '5more', '4', 'med', 'med'], ['low', 'high', '5more', '4', 'med', 'high'], ['low', 'high', '5more', '4', 'big', 'low'], ['low', 'high', '5more', '4', 'big', 'med'], ['low', 'high', '5more', '4', 'big', 'high'], ['low', 'high', '5more', 'more', 'small', 'low'], ['low', 'high', '5more', 'more', 'small', 'med'], ['low', 'high', '5more', 'more', 'small', 'high'], ['low', 'high', '5more', 'more', 'med', 'low'], ['low', 'high', '5more', 'more', 'med', 'med'], ['low', 'high', '5more', 'more', 'med', 'high'], ['low', 'high', '5more', 'more', 'big', 'low'], ['low', 'high', '5more', 'more', 'big', 'med'], ['low', 'high', '5more', 'more', 'big', 'high'], ['low', 'med', '2', '2', 'small', 'low'], ['low', 'med', '2', '2', 'small', 'med'], ['low', 'med', '2', '2', 'small', 'high'], ['low', 'med', '2', '2', 'med', 'low'], ['low', 'med', '2', '2', 'med', 'med'], ['low', 'med', '2', '2', 'med', 'high'], ['low', 'med', '2', '2', 'big', 'low'], ['low', 'med', '2', '2', 'big', 'med'], ['low', 'med', '2', '2', 'big', 'high'], ['low', 'med', '2', '4', 'small', 'low'], ['low', 'med', '2', '4', 'small', 'med'], ['low', 'med', '2', '4', 'small', 'high'], ['low', 'med', '2', '4', 'med', 'low'], ['low', 'med', '2', '4', 'med', 'med'], ['low', 'med', '2', '4', 'med', 'high'], ['low', 'med', '2', '4', 'big', 'low'], ['low', 'med', '2', '4', 'big', 'med'], ['low', 'med', '2', '4', 'big', 'high'], ['low', 'med', '2', 'more', 'small', 'low'], ['low', 'med', '2', 'more', 'small', 'med'], ['low', 'med', '2', 'more', 'small', 'high'], ['low', 'med', '2', 'more', 'med', 'low'], ['low', 'med', '2', 'more', 'med', 'med'], ['low', 'med', '2', 'more', 'med', 'high'], ['low', 'med', '2', 'more', 'big', 'low'], ['low', 'med', '2', 'more', 'big', 'med'], ['low', 'med', '2', 'more', 'big', 'high'], ['low', 'med', '3', '2', 'small', 'low'], ['low', 'med', '3', '2', 'small', 'med'], ['low', 'med', '3', '2', 'small', 'high'], ['low', 'med', '3', '2', 'med', 'low'], ['low', 'med', '3', '2', 'med', 'med'], ['low', 'med', '3', '2', 'med', 'high'], ['low', 'med', '3', '2', 'big', 'low'], ['low', 'med', '3', '2', 'big', 'med'], ['low', 'med', '3', '2', 'big', 'high'], ['low', 'med', '3', '4', 'small', 'low'], ['low', 'med', '3', '4', 'small', 'med'], ['low', 'med', '3', '4', 'small', 'high'], ['low', 'med', '3', '4', 'med', 'low'], ['low', 'med', '3', '4', 'med', 'med'], ['low', 'med', '3', '4', 'med', 'high'], ['low', 'med', '3', '4', 'big', 'low'], ['low', 'med', '3', '4', 'big', 'med'], ['low', 'med', '3', '4', 'big', 'high'], ['low', 'med', '3', 'more', 'small', 'low'], ['low', 'med', '3', 'more', 'small', 'med'], ['low', 'med', '3', 'more', 'small', 'high'], ['low', 'med', '3', 'more', 'med', 'low'], ['low', 'med', '3', 'more', 'med', 'med'], ['low', 'med', '3', 'more', 'med', 'high'], ['low', 'med', '3', 'more', 'big', 'low'], ['low', 'med', '3', 'more', 'big', 'med'], ['low', 'med', '3', 'more', 'big', 'high'], ['low', 'med', '4', '2', 'small', 'low'], ['low', 'med', '4', '2', 'small', 'med'], ['low', 'med', '4', '2', 'small', 'high'], ['low', 'med', '4', '2', 'med', 'low'], ['low', 'med', '4', '2', 'med', 'med'], ['low', 'med', '4', '2', 'med', 'high'], ['low', 'med', '4', '2', 'big', 'low'], ['low', 'med', '4', '2', 'big', 'med'], ['low', 'med', '4', '2', 'big', 'high'], ['low', 'med', '4', '4', 'small', 'low'], ['low', 'med', '4', '4', 'small', 'med'], ['low', 'med', '4', '4', 'small', 'high'], ['low', 'med', '4', '4', 'med', 'low'], ['low', 'med', '4', '4', 'med', 'med'], ['low', 'med', '4', '4', 'med', 'high'], ['low', 'med', '4', '4', 'big', 'low'], ['low', 'med', '4', '4', 'big', 'med'], ['low', 'med', '4', '4', 'big', 'high'], ['low', 'med', '4', 'more', 'small', 'low'], ['low', 'med', '4', 'more', 'small', 'med'], ['low', 'med', '4', 'more', 'small', 'high'], ['low', 'med', '4', 'more', 'med', 'low'], ['low', 'med', '4', 'more', 'med', 'med'], ['low', 'med', '4', 'more', 'med', 'high'], ['low', 'med', '4', 'more', 'big', 'low'], ['low', 'med', '4', 'more', 'big', 'med'], ['low', 'med', '4', 'more', 'big', 'high'], ['low', 'med', '5more', '2', 'small', 'low'], ['low', 'med', '5more', '2', 'small', 'med'], ['low', 'med', '5more', '2', 'small', 'high'], ['low', 'med', '5more', '2', 'med', 'low'], ['low', 'med', '5more', '2', 'med', 'med'], ['low', 'med', '5more', '2', 'med', 'high'], ['low', 'med', '5more', '2', 'big', 'low'], ['low', 'med', '5more', '2', 'big', 'med'], ['low', 'med', '5more', '2', 'big', 'high'], ['low', 'med', '5more', '4', 'small', 'low'], ['low', 'med', '5more', '4', 'small', 'med'], ['low', 'med', '5more', '4', 'small', 'high'], ['low', 'med', '5more', '4', 'med', 'low'], ['low', 'med', '5more', '4', 'med', 'med'], ['low', 'med', '5more', '4', 'med', 'high'], ['low', 'med', '5more', '4', 'big', 'low'], ['low', 'med', '5more', '4', 'big', 'med'], ['low', 'med', '5more', '4', 'big', 'high'], ['low', 'med', '5more', 'more', 'small', 'low'], ['low', 'med', '5more', 'more', 'small', 'med'], ['low', 'med', '5more', 'more', 'small', 'high'], ['low', 'med', '5more', 'more', 'med', 'low'], ['low', 'med', '5more', 'more', 'med', 'med'], ['low', 'med', '5more', 'more', 'med', 'high'], ['low', 'med', '5more', 'more', 'big', 'low'], ['low', 'med', '5more', 'more', 'big', 'med'], ['low', 'med', '5more', 'more', 'big', 'high'], ['low', 'low', '2', '2', 'small', 'low'], ['low', 'low', '2', '2', 'small', 'med'], ['low', 'low', '2', '2', 'small', 'high'], ['low', 'low', '2', '2', 'med', 'low'], ['low', 'low', '2', '2', 'med', 'med'], ['low', 'low', '2', '2', 'med', 'high'], ['low', 'low', '2', '2', 'big', 'low'], ['low', 'low', '2', '2', 'big', 'med'], ['low', 'low', '2', '2', 'big', 'high'], ['low', 'low', '2', '4', 'small', 'low'], ['low', 'low', '2', '4', 'small', 'med'], ['low', 'low', '2', '4', 'small', 'high'], ['low', 'low', '2', '4', 'med', 'low'], ['low', 'low', '2', '4', 'med', 'med'], ['low', 'low', '2', '4', 'med', 'high'], ['low', 'low', '2', '4', 'big', 'low'], ['low', 'low', '2', '4', 'big', 'med'], ['low', 'low', '2', '4', 'big', 'high'], ['low', 'low', '2', 'more', 'small', 'low'], ['low', 'low', '2', 'more', 'small', 'med'], ['low', 'low', '2', 'more', 'small', 'high'], ['low', 'low', '2', 'more', 'med', 'low'], ['low', 'low', '2', 'more', 'med', 'med'], ['low', 'low', '2', 'more', 'med', 'high'], ['low', 'low', '2', 'more', 'big', 'low'], ['low', 'low', '2', 'more', 'big', 'med'], ['low', 'low', '2', 'more', 'big', 'high'], ['low', 'low', '3', '2', 'small', 'low'], ['low', 'low', '3', '2', 'small', 'med'], ['low', 'low', '3', '2', 'small', 'high'], ['low', 'low', '3', '2', 'med', 'low'], ['low', 'low', '3', '2', 'med', 'med'], ['low', 'low', '3', '2', 'med', 'high'], ['low', 'low', '3', '2', 'big', 'low'], ['low', 'low', '3', '2', 'big', 'med'], ['low', 'low', '3', '2', 'big', 'high'], ['low', 'low', '3', '4', 'small', 'low'], ['low', 'low', '3', '4', 'small', 'med'], ['low', 'low', '3', '4', 'small', 'high'], ['low', 'low', '3', '4', 'med', 'low'], ['low', 'low', '3', '4', 'med', 'med'], ['low', 'low', '3', '4', 'med', 'high'], ['low', 'low', '3', '4', 'big', 'low'], ['low', 'low', '3', '4', 'big', 'med'], ['low', 'low', '3', '4', 'big', 'high'], ['low', 'low', '3', 'more', 'small', 'low'], ['low', 'low', '3', 'more', 'small', 'med'], ['low', 'low', '3', 'more', 'small', 'high'], ['low', 'low', '3', 'more', 'med', 'low'], ['low', 'low', '3', 'more', 'med', 'med'], ['low', 'low', '3', 'more', 'med', 'high'], ['low', 'low', '3', 'more', 'big', 'low'], ['low', 'low', '3', 'more', 'big', 'med'], ['low', 'low', '3', 'more', 'big', 'high'], ['low', 'low', '4', '2', 'small', 'low'], ['low', 'low', '4', '2', 'small', 'med'], ['low', 'low', '4', '2', 'small', 'high'], ['low', 'low', '4', '2', 'med', 'low'], ['low', 'low', '4', '2', 'med', 'med'], ['low', 'low', '4', '2', 'med', 'high'], ['low', 'low', '4', '2', 'big', 'low'], ['low', 'low', '4', '2', 'big', 'med'], ['low', 'low', '4', '2', 'big', 'high'], ['low', 'low', '4', '4', 'small', 'low'], ['low', 'low', '4', '4', 'small', 'med'], ['low', 'low', '4', '4', 'small', 'high'], ['low', 'low', '4', '4', 'med', 'low'], ['low', 'low', '4', '4', 'med', 'med'], ['low', 'low', '4', '4', 'med', 'high'], ['low', 'low', '4', '4', 'big', 'low'], ['low', 'low', '4', '4', 'big', 'med'], ['low', 'low', '4', '4', 'big', 'high'], ['low', 'low', '4', 'more', 'small', 'low'], ['low', 'low', '4', 'more', 'small', 'med'], ['low', 'low', '4', 'more', 'small', 'high'], ['low', 'low', '4', 'more', 'med', 'low'], ['low', 'low', '4', 'more', 'med', 'med'], ['low', 'low', '4', 'more', 'med', 'high'], ['low', 'low', '4', 'more', 'big', 'low'], ['low', 'low', '4', 'more', 'big', 'med'], ['low', 'low', '4', 'more', 'big', 'high'], ['low', 'low', '5more', '2', 'small', 'low'], ['low', 'low', '5more', '2', 'small', 'med'], ['low', 'low', '5more', '2', 'small', 'high'], ['low', 'low', '5more', '2', 'med', 'low'], ['low', 'low', '5more', '2', 'med', 'med'], ['low', 'low', '5more', '2', 'med', 'high'], ['low', 'low', '5more', '2', 'big', 'low'], ['low', 'low', '5more', '2', 'big', 'med'], ['low', 'low', '5more', '2', 'big', 'high'], ['low', 'low', '5more', '4', 'small', 'low'], ['low', 'low', '5more', '4', 'small', 'med'], ['low', 'low', '5more', '4', 'small', 'high'], ['low', 'low', '5more', '4', 'med', 'low'], ['low', 'low', '5more', '4', 'med', 'med'], ['low', 'low', '5more', '4', 'med', 'high'], ['low', 'low', '5more', '4', 'big', 'low'], ['low', 'low', '5more', '4', 'big', 'med'], ['low', 'low', '5more', '4', 'big', 'high'], ['low', 'low', '5more', 'more', 'small', 'low'], ['low', 'low', '5more', 'more', 'small', 'med'], ['low', 'low', '5more', 'more', 'small', 'high'], ['low', 'low', '5more', 'more', 'med', 'low'], ['low', 'low', '5more', 'more', 'med', 'med'], ['low', 'low', '5more', 'more', 'med', 'high'], ['low', 'low', '5more', 'more', 'big', 'low'], ['low', 'low', '5more', 'more', 'big', 'med'], ['low', 'low', '5more', 'more', 'big', 'high']]\n",
      "['unacc', 'unacc', 'unacc', 'unacc', 'unacc', 'unacc', 'unacc', 'unacc', 'unacc', 'unacc', 'unacc', 'unacc', 'unacc', 'unacc', 'unacc', 'unacc', 'unacc', 'unacc', 'unacc', 'unacc', 'unacc', 'unacc', 'unacc', 'unacc', 'unacc', 'unacc', 'unacc', 'unacc', 'unacc', 'unacc', 'unacc', 'unacc', 'unacc', 'unacc', 'unacc', 'unacc', 'unacc', 'unacc', 'unacc', 'unacc', 'unacc', 'unacc', 'unacc', 'unacc', 'unacc', 'unacc', 'unacc', 'unacc', 'unacc', 'unacc', 'unacc', 'unacc', 'unacc', 'unacc', 'unacc', 'unacc', 'unacc', 'unacc', 'unacc', 'unacc', 'unacc', 'unacc', 'unacc', 'unacc', 'unacc', 'unacc', 'unacc', 'unacc', 'unacc', 'unacc', 'unacc', 'unacc', 'unacc', 'unacc', 'unacc', 'unacc', 'unacc', 'unacc', 'unacc', 'unacc', 'unacc', 'unacc', 'unacc', 'unacc', 'unacc', 'unacc', 'unacc', 'unacc', 'unacc', 'unacc', 'unacc', 'unacc', 'unacc', 'unacc', 'unacc', 'unacc', 'unacc', 'unacc', 'unacc', 'unacc', 'unacc', 'unacc', 'unacc', 'unacc', 'unacc', 'unacc', 'unacc', 'unacc', 'unacc', 'unacc', 'unacc', 'unacc', 'unacc', 'unacc', 'unacc', 'unacc', 'unacc', 'unacc', 'unacc', 'unacc', 'unacc', 'unacc', 'unacc', 'unacc', 'unacc', 'unacc', 'unacc', 'unacc', 'unacc', 'unacc', 'unacc', 'unacc', 'unacc', 'unacc', 'unacc', 'unacc', 'unacc', 'unacc', 'unacc', 'unacc', 'unacc', 'unacc', 'unacc', 'unacc', 'unacc', 'unacc', 'unacc', 'unacc', 'unacc', 'unacc', 'unacc', 'unacc', 'unacc', 'unacc', 'unacc', 'unacc', 'unacc', 'unacc', 'unacc', 'unacc', 'unacc', 'unacc', 'unacc', 'unacc', 'unacc', 'unacc', 'unacc', 'unacc', 'unacc', 'unacc', 'unacc', 'unacc', 'unacc', 'unacc', 'unacc', 'unacc', 'unacc', 'unacc', 'unacc', 'unacc', 'unacc', 'unacc', 'unacc', 'unacc', 'unacc', 'unacc', 'unacc', 'unacc', 'unacc', 'unacc', 'unacc', 'unacc', 'unacc', 'unacc', 'unacc', 'unacc', 'unacc', 'unacc', 'unacc', 'unacc', 'unacc', 'unacc', 'unacc', 'unacc', 'unacc', 'unacc', 'unacc', 'unacc', 'unacc', 'unacc', 'unacc', 'unacc', 'unacc', 'unacc', 'unacc', 'unacc', 'unacc', 'unacc', 'unacc', 'unacc', 'unacc', 'unacc', 'unacc', 'unacc', 'unacc', 'unacc', 'unacc', 'acc', 'unacc', 'unacc', 'acc', 'unacc', 'acc', 'acc', 'unacc', 'unacc', 'unacc', 'unacc', 'unacc', 'acc', 'unacc', 'acc', 'acc', 'unacc', 'unacc', 'unacc', 'unacc', 'unacc', 'unacc', 'unacc', 'unacc', 'unacc', 'unacc', 'unacc', 'acc', 'unacc', 'unacc', 'acc', 'unacc', 'acc', 'acc', 'unacc', 'unacc', 'acc', 'unacc', 'acc', 'acc', 'unacc', 'acc', 'acc', 'unacc', 'unacc', 'unacc', 'unacc', 'unacc', 'unacc', 'unacc', 'unacc', 'unacc', 'unacc', 'unacc', 'acc', 'unacc', 'acc', 'acc', 'unacc', 'acc', 'acc', 'unacc', 'unacc', 'acc', 'unacc', 'acc', 'acc', 'unacc', 'acc', 'acc', 'unacc', 'unacc', 'unacc', 'unacc', 'unacc', 'unacc', 'unacc', 'unacc', 'unacc', 'unacc', 'unacc', 'acc', 'unacc', 'acc', 'acc', 'unacc', 'acc', 'acc', 'unacc', 'unacc', 'acc', 'unacc', 'acc', 'acc', 'unacc', 'acc', 'acc', 'unacc', 'unacc', 'unacc', 'unacc', 'unacc', 'unacc', 'unacc', 'unacc', 'unacc', 'unacc', 'unacc', 'acc', 'unacc', 'unacc', 'acc', 'unacc', 'acc', 'acc', 'unacc', 'unacc', 'unacc', 'unacc', 'unacc', 'acc', 'unacc', 'acc', 'acc', 'unacc', 'unacc', 'unacc', 'unacc', 'unacc', 'unacc', 'unacc', 'unacc', 'unacc', 'unacc', 'unacc', 'acc', 'unacc', 'unacc', 'acc', 'unacc', 'acc', 'acc', 'unacc', 'unacc', 'acc', 'unacc', 'acc', 'acc', 'unacc', 'acc', 'acc', 'unacc', 'unacc', 'unacc', 'unacc', 'unacc', 'unacc', 'unacc', 'unacc', 'unacc', 'unacc', 'unacc', 'acc', 'unacc', 'acc', 'acc', 'unacc', 'acc', 'acc', 'unacc', 'unacc', 'acc', 'unacc', 'acc', 'acc', 'unacc', 'acc', 'acc', 'unacc', 'unacc', 'unacc', 'unacc', 'unacc', 'unacc', 'unacc', 'unacc', 'unacc', 'unacc', 'unacc', 'acc', 'unacc', 'acc', 'acc', 'unacc', 'acc', 'acc', 'unacc', 'unacc', 'acc', 'unacc', 'acc', 'acc', 'unacc', 'acc', 'acc', 'unacc', 'unacc', 'unacc', 'unacc', 'unacc', 'unacc', 'unacc', 'unacc', 'unacc', 'unacc', 'unacc', 'unacc', 'unacc', 'unacc', 'unacc', 'unacc', 'unacc', 'unacc', 'unacc', 'unacc', 'unacc', 'unacc', 'unacc', 'unacc', 'unacc', 'unacc', 'unacc', 'unacc', 'unacc', 'unacc', 'unacc', 'unacc', 'unacc', 'unacc', 'unacc', 'unacc', 'unacc', 'unacc', 'unacc', 'unacc', 'unacc', 'unacc', 'unacc', 'unacc', 'unacc', 'unacc', 'unacc', 'unacc', 'unacc', 'unacc', 'unacc', 'unacc', 'unacc', 'unacc', 'unacc', 'unacc', 'unacc', 'unacc', 'unacc', 'unacc', 'unacc', 'unacc', 'unacc', 'unacc', 'unacc', 'unacc', 'unacc', 'unacc', 'unacc', 'unacc', 'unacc', 'unacc', 'unacc', 'unacc', 'unacc', 'unacc', 'unacc', 'unacc', 'unacc', 'unacc', 'unacc', 'unacc', 'unacc', 'unacc', 'unacc', 'unacc', 'unacc', 'unacc', 'unacc', 'unacc', 'unacc', 'unacc', 'unacc', 'unacc', 'unacc', 'unacc', 'unacc', 'unacc', 'unacc', 'unacc', 'unacc', 'unacc', 'unacc', 'unacc', 'unacc', 'unacc', 'unacc', 'unacc', 'unacc', 'unacc', 'unacc', 'unacc', 'unacc', 'unacc', 'unacc', 'unacc', 'unacc', 'unacc', 'unacc', 'acc', 'unacc', 'unacc', 'acc', 'unacc', 'acc', 'acc', 'unacc', 'unacc', 'unacc', 'unacc', 'unacc', 'acc', 'unacc', 'acc', 'acc', 'unacc', 'unacc', 'unacc', 'unacc', 'unacc', 'unacc', 'unacc', 'unacc', 'unacc', 'unacc', 'unacc', 'acc', 'unacc', 'unacc', 'acc', 'unacc', 'acc', 'acc', 'unacc', 'unacc', 'acc', 'unacc', 'acc', 'acc', 'unacc', 'acc', 'acc', 'unacc', 'unacc', 'unacc', 'unacc', 'unacc', 'unacc', 'unacc', 'unacc', 'unacc', 'unacc', 'unacc', 'acc', 'unacc', 'acc', 'acc', 'unacc', 'acc', 'acc', 'unacc', 'unacc', 'acc', 'unacc', 'acc', 'acc', 'unacc', 'acc', 'acc', 'unacc', 'unacc', 'unacc', 'unacc', 'unacc', 'unacc', 'unacc', 'unacc', 'unacc', 'unacc', 'unacc', 'acc', 'unacc', 'acc', 'acc', 'unacc', 'acc', 'acc', 'unacc', 'unacc', 'acc', 'unacc', 'acc', 'acc', 'unacc', 'acc', 'acc', 'unacc', 'unacc', 'unacc', 'unacc', 'unacc', 'unacc', 'unacc', 'unacc', 'unacc', 'unacc', 'unacc', 'acc', 'unacc', 'unacc', 'acc', 'unacc', 'acc', 'acc', 'unacc', 'unacc', 'unacc', 'unacc', 'unacc', 'acc', 'unacc', 'acc', 'acc', 'unacc', 'unacc', 'unacc', 'unacc', 'unacc', 'unacc', 'unacc', 'unacc', 'unacc', 'unacc', 'unacc', 'acc', 'unacc', 'unacc', 'acc', 'unacc', 'acc', 'acc', 'unacc', 'unacc', 'acc', 'unacc', 'acc', 'acc', 'unacc', 'acc', 'acc', 'unacc', 'unacc', 'unacc', 'unacc', 'unacc', 'unacc', 'unacc', 'unacc', 'unacc', 'unacc', 'unacc', 'acc', 'unacc', 'acc', 'acc', 'unacc', 'acc', 'acc', 'unacc', 'unacc', 'acc', 'unacc', 'acc', 'acc', 'unacc', 'acc', 'acc', 'unacc', 'unacc', 'unacc', 'unacc', 'unacc', 'unacc', 'unacc', 'unacc', 'unacc', 'unacc', 'unacc', 'acc', 'unacc', 'acc', 'acc', 'unacc', 'acc', 'acc', 'unacc', 'unacc', 'acc', 'unacc', 'acc', 'acc', 'unacc', 'acc', 'acc', 'unacc', 'unacc', 'unacc', 'unacc', 'unacc', 'unacc', 'unacc', 'unacc', 'unacc', 'unacc', 'unacc', 'acc', 'unacc', 'unacc', 'acc', 'unacc', 'acc', 'acc', 'unacc', 'unacc', 'unacc', 'unacc', 'unacc', 'acc', 'unacc', 'acc', 'acc', 'unacc', 'unacc', 'unacc', 'unacc', 'unacc', 'unacc', 'unacc', 'unacc', 'unacc', 'unacc', 'unacc', 'acc', 'unacc', 'unacc', 'acc', 'unacc', 'acc', 'acc', 'unacc', 'unacc', 'acc', 'unacc', 'acc', 'acc', 'unacc', 'acc', 'acc', 'unacc', 'unacc', 'unacc', 'unacc', 'unacc', 'unacc', 'unacc', 'unacc', 'unacc', 'unacc', 'unacc', 'acc', 'unacc', 'acc', 'acc', 'unacc', 'acc', 'acc', 'unacc', 'unacc', 'acc', 'unacc', 'acc', 'acc', 'unacc', 'acc', 'acc', 'unacc', 'unacc', 'unacc', 'unacc', 'unacc', 'unacc', 'unacc', 'unacc', 'unacc', 'unacc', 'unacc', 'acc', 'unacc', 'acc', 'acc', 'unacc', 'acc', 'acc', 'unacc', 'unacc', 'acc', 'unacc', 'acc', 'acc', 'unacc', 'acc', 'acc', 'unacc', 'unacc', 'unacc', 'unacc', 'unacc', 'unacc', 'unacc', 'unacc', 'unacc', 'unacc', 'unacc', 'acc', 'unacc', 'unacc', 'acc', 'unacc', 'acc', 'acc', 'unacc', 'unacc', 'unacc', 'unacc', 'unacc', 'acc', 'unacc', 'acc', 'acc', 'unacc', 'unacc', 'unacc', 'unacc', 'unacc', 'unacc', 'unacc', 'unacc', 'unacc', 'unacc', 'unacc', 'acc', 'unacc', 'unacc', 'acc', 'unacc', 'acc', 'acc', 'unacc', 'unacc', 'acc', 'unacc', 'acc', 'acc', 'unacc', 'acc', 'acc', 'unacc', 'unacc', 'unacc', 'unacc', 'unacc', 'unacc', 'unacc', 'unacc', 'unacc', 'unacc', 'unacc', 'acc', 'unacc', 'acc', 'acc', 'unacc', 'acc', 'acc', 'unacc', 'unacc', 'acc', 'unacc', 'acc', 'acc', 'unacc', 'acc', 'acc', 'unacc', 'unacc', 'unacc', 'unacc', 'unacc', 'unacc', 'unacc', 'unacc', 'unacc', 'unacc', 'unacc', 'acc', 'unacc', 'acc', 'acc', 'unacc', 'acc', 'acc', 'unacc', 'unacc', 'acc', 'unacc', 'acc', 'acc', 'unacc', 'acc', 'acc', 'unacc', 'unacc', 'unacc', 'unacc', 'unacc', 'unacc', 'unacc', 'unacc', 'unacc', 'unacc', 'unacc', 'acc', 'unacc', 'unacc', 'acc', 'unacc', 'acc', 'acc', 'unacc', 'unacc', 'unacc', 'unacc', 'unacc', 'acc', 'unacc', 'acc', 'acc', 'unacc', 'unacc', 'unacc', 'unacc', 'unacc', 'unacc', 'unacc', 'unacc', 'unacc', 'unacc', 'unacc', 'acc', 'unacc', 'unacc', 'acc', 'unacc', 'acc', 'acc', 'unacc', 'unacc', 'acc', 'unacc', 'acc', 'acc', 'unacc', 'acc', 'acc', 'unacc', 'unacc', 'unacc', 'unacc', 'unacc', 'unacc', 'unacc', 'unacc', 'unacc', 'unacc', 'unacc', 'acc', 'unacc', 'acc', 'acc', 'unacc', 'acc', 'acc', 'unacc', 'unacc', 'acc', 'unacc', 'acc', 'acc', 'unacc', 'acc', 'acc', 'unacc', 'unacc', 'unacc', 'unacc', 'unacc', 'unacc', 'unacc', 'unacc', 'unacc', 'unacc', 'unacc', 'acc', 'unacc', 'acc', 'acc', 'unacc', 'acc', 'acc', 'unacc', 'unacc', 'acc', 'unacc', 'acc', 'acc', 'unacc', 'acc', 'acc', 'unacc', 'unacc', 'unacc', 'unacc', 'unacc', 'unacc', 'unacc', 'unacc', 'unacc', 'unacc', 'acc', 'acc', 'unacc', 'acc', 'acc', 'unacc', 'acc', 'vgood', 'unacc', 'unacc', 'unacc', 'unacc', 'acc', 'acc', 'unacc', 'acc', 'vgood', 'unacc', 'unacc', 'unacc', 'unacc', 'unacc', 'unacc', 'unacc', 'unacc', 'unacc', 'unacc', 'acc', 'acc', 'unacc', 'acc', 'acc', 'unacc', 'acc', 'vgood', 'unacc', 'acc', 'acc', 'unacc', 'acc', 'vgood', 'unacc', 'acc', 'vgood', 'unacc', 'unacc', 'unacc', 'unacc', 'unacc', 'unacc', 'unacc', 'unacc', 'unacc', 'unacc', 'acc', 'acc', 'unacc', 'acc', 'vgood', 'unacc', 'acc', 'vgood', 'unacc', 'acc', 'acc', 'unacc', 'acc', 'vgood', 'unacc', 'acc', 'vgood', 'unacc', 'unacc', 'unacc', 'unacc', 'unacc', 'unacc', 'unacc', 'unacc', 'unacc', 'unacc', 'acc', 'acc', 'unacc', 'acc', 'vgood', 'unacc', 'acc', 'vgood', 'unacc', 'acc', 'acc', 'unacc', 'acc', 'vgood', 'unacc', 'acc', 'vgood', 'unacc', 'unacc', 'unacc', 'unacc', 'unacc', 'unacc', 'unacc', 'unacc', 'unacc', 'unacc', 'acc', 'good', 'unacc', 'acc', 'good', 'unacc', 'good', 'vgood', 'unacc', 'unacc', 'unacc', 'unacc', 'acc', 'good', 'unacc', 'good', 'vgood', 'unacc', 'unacc', 'unacc', 'unacc', 'unacc', 'unacc', 'unacc', 'unacc', 'unacc', 'unacc', 'acc', 'good', 'unacc', 'acc', 'good', 'unacc', 'good', 'vgood', 'unacc', 'acc', 'good', 'unacc', 'good', 'vgood', 'unacc', 'good', 'vgood', 'unacc', 'unacc', 'unacc', 'unacc', 'unacc', 'unacc', 'unacc', 'unacc', 'unacc', 'unacc', 'acc', 'good', 'unacc', 'good', 'vgood', 'unacc', 'good', 'vgood', 'unacc', 'acc', 'good', 'unacc', 'good', 'vgood', 'unacc', 'good', 'vgood', 'unacc', 'unacc', 'unacc', 'unacc', 'unacc', 'unacc', 'unacc', 'unacc', 'unacc', 'unacc', 'acc', 'good', 'unacc', 'good', 'vgood', 'unacc', 'good', 'vgood', 'unacc', 'acc', 'good', 'unacc', 'good', 'vgood', 'unacc', 'good', 'vgood', 'unacc', 'unacc', 'unacc', 'unacc', 'unacc', 'unacc', 'unacc', 'unacc', 'unacc', 'unacc', 'unacc', 'acc', 'unacc', 'unacc', 'acc', 'unacc', 'acc', 'acc', 'unacc', 'unacc', 'unacc', 'unacc', 'unacc', 'acc', 'unacc', 'acc', 'acc', 'unacc', 'unacc', 'unacc', 'unacc', 'unacc', 'unacc', 'unacc', 'unacc', 'unacc', 'unacc', 'unacc', 'acc', 'unacc', 'unacc', 'acc', 'unacc', 'acc', 'acc', 'unacc', 'unacc', 'acc', 'unacc', 'acc', 'acc', 'unacc', 'acc', 'acc', 'unacc', 'unacc', 'unacc', 'unacc', 'unacc', 'unacc', 'unacc', 'unacc', 'unacc', 'unacc', 'unacc', 'acc', 'unacc', 'acc', 'acc', 'unacc', 'acc', 'acc', 'unacc', 'unacc', 'acc', 'unacc', 'acc', 'acc', 'unacc', 'acc', 'acc', 'unacc', 'unacc', 'unacc', 'unacc', 'unacc', 'unacc', 'unacc', 'unacc', 'unacc', 'unacc', 'unacc', 'acc', 'unacc', 'acc', 'acc', 'unacc', 'acc', 'acc', 'unacc', 'unacc', 'acc', 'unacc', 'acc', 'acc', 'unacc', 'acc', 'acc', 'unacc', 'unacc', 'unacc', 'unacc', 'unacc', 'unacc', 'unacc', 'unacc', 'unacc', 'unacc', 'acc', 'acc', 'unacc', 'acc', 'acc', 'unacc', 'acc', 'vgood', 'unacc', 'unacc', 'unacc', 'unacc', 'acc', 'acc', 'unacc', 'acc', 'vgood', 'unacc', 'unacc', 'unacc', 'unacc', 'unacc', 'unacc', 'unacc', 'unacc', 'unacc', 'unacc', 'acc', 'acc', 'unacc', 'acc', 'acc', 'unacc', 'acc', 'vgood', 'unacc', 'acc', 'acc', 'unacc', 'acc', 'vgood', 'unacc', 'acc', 'vgood', 'unacc', 'unacc', 'unacc', 'unacc', 'unacc', 'unacc', 'unacc', 'unacc', 'unacc', 'unacc', 'acc', 'acc', 'unacc', 'acc', 'vgood', 'unacc', 'acc', 'vgood', 'unacc', 'acc', 'acc', 'unacc', 'acc', 'vgood', 'unacc', 'acc', 'vgood', 'unacc', 'unacc', 'unacc', 'unacc', 'unacc', 'unacc', 'unacc', 'unacc', 'unacc', 'unacc', 'acc', 'acc', 'unacc', 'acc', 'vgood', 'unacc', 'acc', 'vgood', 'unacc', 'acc', 'acc', 'unacc', 'acc', 'vgood', 'unacc', 'acc', 'vgood', 'unacc', 'unacc', 'unacc', 'unacc', 'unacc', 'unacc', 'unacc', 'unacc', 'unacc', 'unacc', 'acc', 'good', 'unacc', 'acc', 'good', 'unacc', 'good', 'vgood', 'unacc', 'unacc', 'unacc', 'unacc', 'acc', 'good', 'unacc', 'good', 'vgood', 'unacc', 'unacc', 'unacc', 'unacc', 'unacc', 'unacc', 'unacc', 'unacc', 'unacc', 'unacc', 'acc', 'good', 'unacc', 'acc', 'good', 'unacc', 'good', 'vgood', 'unacc', 'acc', 'good', 'unacc', 'good', 'vgood', 'unacc', 'good', 'vgood', 'unacc', 'unacc', 'unacc', 'unacc', 'unacc', 'unacc', 'unacc', 'unacc', 'unacc', 'unacc', 'acc', 'good', 'unacc', 'good', 'vgood', 'unacc', 'good', 'vgood', 'unacc', 'acc', 'good', 'unacc', 'good', 'vgood', 'unacc', 'good', 'vgood', 'unacc', 'unacc', 'unacc', 'unacc', 'unacc', 'unacc', 'unacc', 'unacc', 'unacc', 'unacc', 'acc', 'good', 'unacc', 'good', 'vgood', 'unacc', 'good', 'vgood', 'unacc', 'acc', 'good', 'unacc', 'good', 'vgood', 'unacc', 'good', 'vgood', 'unacc', 'unacc', 'unacc', 'unacc', 'unacc', 'unacc', 'unacc', 'unacc', 'unacc', 'unacc', 'acc', 'good', 'unacc', 'acc', 'good', 'unacc', 'good', 'vgood', 'unacc', 'unacc', 'unacc', 'unacc', 'acc', 'good', 'unacc', 'good', 'vgood', 'unacc', 'unacc', 'unacc', 'unacc', 'unacc', 'unacc', 'unacc', 'unacc', 'unacc', 'unacc', 'acc', 'good', 'unacc', 'acc', 'good', 'unacc', 'good', 'vgood', 'unacc', 'acc', 'good', 'unacc', 'good', 'vgood', 'unacc', 'good', 'vgood', 'unacc', 'unacc', 'unacc', 'unacc', 'unacc', 'unacc', 'unacc', 'unacc', 'unacc', 'unacc', 'acc', 'good', 'unacc', 'good', 'vgood', 'unacc', 'good', 'vgood', 'unacc', 'acc', 'good', 'unacc', 'good', 'vgood', 'unacc', 'good', 'vgood', 'unacc', 'unacc', 'unacc', 'unacc', 'unacc', 'unacc', 'unacc', 'unacc', 'unacc', 'unacc', 'acc', 'good', 'unacc', 'good', 'vgood', 'unacc', 'good', 'vgood', 'unacc', 'acc', 'good', 'unacc', 'good', 'vgood', 'unacc', 'good', 'vgood']\n",
      "['buying', 'maint', 'doors', 'persons', 'lug_boot', 'safety']\n",
      "1728\n"
     ]
    }
   ],
   "source": [
    "training_data = []\n",
    "header = [] \n",
    "labels = []\n",
    "f = open(\"DataSets/car.data\",\"r\")\n",
    "for i in f:\n",
    "    #print(i)\n",
    "    sp = i.split(\",\")\n",
    "    training_data.append(sp[:-1])\n",
    "    labels.append(sp[-1].strip('\\n'))\n",
    "f.close()\n",
    "\n",
    "print(training_data)\n",
    "print(labels)\n",
    "\n",
    "f = open(\"DataSets/car_header.txt\",\"r\")\n",
    "for i in f:\n",
    "    header.append(i.strip('\\n'))\n",
    "f.close()\n",
    "print(header)\n",
    "print(len(labels))\n",
    "    \n"
   ]
  },
  {
   "cell_type": "code",
   "execution_count": 7,
   "metadata": {},
   "outputs": [],
   "source": [
    "class Tree:\n",
    "    def __init__(self,X,feature_names,labels):\n",
    "        \n",
    "        self.X = X\n",
    "        self.num_of_nodes = 0# len(self.nodes)\n",
    "        self.currentsplit = 0\n",
    "        self.feature_names = feature_names#coloum names\n",
    "        self.labels = labels#y\n",
    "        self.catagories = set(labels)\n",
    "        self.child = []\n",
    "        self.leaf = 0\n",
    "        "
   ]
  },
  {
   "cell_type": "code",
   "execution_count": 8,
   "metadata": {},
   "outputs": [],
   "source": [
    "class Node:\n",
    "    def __init__(self,labels,X_ids,feature_ids):\n",
    "        \n",
    "        self.split_result = 0\n",
    "        self.split = 0 #which column / which feature id\n",
    "        self.feature_names = feature_ids\n",
    "        self.labels = labels\n",
    "        self.child = []\n",
    "        self.ids = X_ids\n",
    "        self.leaf = 0 #true or false"
   ]
  },
  {
   "cell_type": "code",
   "execution_count": 9,
   "metadata": {},
   "outputs": [],
   "source": [
    "def get_features(X,labels,column,ids):\n",
    "    #Felosztjuk az adatokat a kiválasztott paratméter alapján pl.:szín\n",
    "    #Ezután vissza adjuk a felasztott adathalmazt az index-el együtt\n",
    "    \n",
    "    features = [ X[i][column] for i in ids ]#ids tell which row should we use in our calculations\n",
    "    features_categories = set(features)\n",
    "    \n",
    "    sub_labels = []\n",
    "    for i in features_categories:\n",
    "        \n",
    "        sub_label = [labels[x] for x in range(len(features)) if features[x]==i]#get the labels corresponing to the chosen features\n",
    "        sub_index = [x for x in range(len(features)) if features[x]==i]\n",
    "        sub_labels.append([sub_label,sub_index,i])\n",
    "        \n",
    "    return sub_labels"
   ]
  },
  {
   "cell_type": "code",
   "execution_count": 10,
   "metadata": {},
   "outputs": [],
   "source": [
    "def calculate_entropy(data):\n",
    "\n",
    "    categories = set(data)\n",
    "    entropy = 0;\n",
    "    \n",
    "    for i in categories:\n",
    "        p = data.count(i)/len(data)\n",
    "        entropy -=  p*math.log(p,2)\n",
    "\n",
    "    \n",
    "    return entropy"
   ]
  },
  {
   "cell_type": "code",
   "execution_count": 11,
   "metadata": {},
   "outputs": [],
   "source": [
    "def calculate_information_gain(X,labels,column,ids):\n",
    "    I = 0\n",
    "    \n",
    "    sub_labels = get_features(X,labels,column,ids) \n",
    "\n",
    "    for i in sub_labels:\n",
    "        entropy = calculate_entropy(i[0])\n",
    "        I += entropy * len(i[0])\n",
    "    \n",
    "    I = I/len(labels)\n",
    "    \n",
    "    return I"
   ]
  },
  {
   "cell_type": "code",
   "execution_count": 12,
   "metadata": {},
   "outputs": [],
   "source": [
    "def find_best_split(X,labels,feature_names,ids):\n",
    "    \n",
    "    largest_ig = 0\n",
    "    split = 0\n",
    "    I = 0 \n",
    "    \n",
    "    for i in range(len(feature_names)):\n",
    "\n",
    "            I = calculate_information_gain(X,labels,i,ids)\n",
    "            if(I>largest_ig):\n",
    "                largest_ig = I\n",
    "                split = i\n",
    "\n",
    "    return split"
   ]
  },
  {
   "cell_type": "code",
   "execution_count": 13,
   "metadata": {},
   "outputs": [],
   "source": [
    "def build_tree(X,feature_names,labels,ids,depth):\n",
    "    \n",
    "    #Az adatokat az indexe-ik alapán kezeljük\n",
    "    #print(feature_names)\n",
    "    split = 0 \n",
    "    sub_nodes = []\n",
    "   \n",
    "\n",
    "    for i in range(len(feature_names)):\n",
    "        #Kiválasztjuk azt a kategóriát ami alapján felosztjuk\n",
    "        split = find_best_split(X,labels,feature_names,ids)\n",
    "\n",
    "        \n",
    "    #Miután felosztottuk az adataokat egy kategória alapján azt töröljük a listából\n",
    "    #hogy töbet ne tudjuk használni\n",
    "    print(split)\n",
    "    #print(feature_names)\n",
    "    #feature_names.pop(split)\n",
    "    \n",
    "    #A kiválasztott kategória alapján felosztjuk az adatokat majd a node-okba helyezzük őket\n",
    "    node_labels = get_features(X,labels,split,ids)    \n",
    "    fn = []\n",
    "    for i in range(len(feature_names)):\n",
    "        if(i != split):\n",
    "            fn.append(feature_names[i])\n",
    "        \n",
    "    for i in node_labels:\n",
    "        node = Node(i[0],i[1],fn)\n",
    "        node.split = split\n",
    "        node.split_result = i[2]\n",
    "        \n",
    "        #Ha elofgytak a kategóriák vagy homogén a node akkor elértünk egy leaf-hez.\n",
    "        if(feature_names == [] or calculate_entropy(node.labels) == 0):\n",
    "            for j in range(depth):\n",
    "                print(' ',end='')\n",
    "            print('00000')\n",
    "            print(len(node.labels))\n",
    "            node.leaf = 1\n",
    "\n",
    "        sub_nodes.append(node)\n",
    "    \n",
    "    #depth += 1\n",
    "    \n",
    "    #print(feature_names)\n",
    "    if(feature_names == []):\n",
    "        print(sub_nodes[0].feature_names)\n",
    "        #print(sub_nodes[0].X_ids)\n",
    "        return sub_nodes\n",
    "    \n",
    "    else:\n",
    "        for node in sub_nodes:\n",
    "            \n",
    "            if(node.leaf == 0):\n",
    "                #Amennyiben a node nem leaf foolytajuk a felbontást\n",
    "                for k in range(depth):\n",
    "                    print(' ',end='')\n",
    "                print(feature_names)\n",
    "                for k in range(depth):\n",
    "                    print(' ',end='')\n",
    "                print('---------------------')\n",
    "                node.child = build_tree(X,node.feature_names,node.labels,node.ids,depth+1)\n",
    "\n",
    "  \n",
    "    return sub_nodes\n",
    "    "
   ]
  },
  {
   "cell_type": "code",
   "execution_count": 14,
   "metadata": {},
   "outputs": [],
   "source": [
    "def fit(X,feature_names,labels):\n",
    "    \n",
    "    #Meghívjuk a döntési fát felépítő rekurzív függvényt\n",
    "    #Átadjuk neki az adatokat valamint az indexeiket\n",
    "    \n",
    "    ids = [x for x in range(len(X))]\n",
    "    feature_ids = [x for x in range(len(feature_names))]\n",
    "    tree = Tree(X,feature_names,labels)\n",
    "    depth = 0\n",
    "    tree.child = build_tree(X,feature_ids,labels,ids,depth)\n",
    "    return tree"
   ]
  },
  {
   "cell_type": "code",
   "execution_count": 15,
   "metadata": {},
   "outputs": [
    {
     "name": "stdout",
     "output_type": "stream",
     "text": [
      "2\n",
      "[0, 1, 2, 3, 4, 5]\n",
      "---------------------\n",
      "2\n",
      " [0, 1, 3, 4, 5]\n",
      " ---------------------\n",
      "0\n",
      "  [0, 1, 4, 5]\n",
      "  ---------------------\n",
      "0\n",
      "   [1, 4, 5]\n",
      "   ---------------------\n",
      "0\n",
      "    [4, 5]\n",
      "    ---------------------\n",
      "0\n",
      "     [5]\n",
      "     ---------------------\n",
      "0\n",
      "      00000\n",
      "432\n",
      "[]\n",
      "[0, 1, 2, 3, 4, 5]\n",
      "---------------------\n",
      "2\n",
      " [0, 1, 3, 4, 5]\n",
      " ---------------------\n",
      "0\n",
      "  [0, 1, 4, 5]\n",
      "  ---------------------\n",
      "0\n",
      "   [1, 4, 5]\n",
      "   ---------------------\n",
      "0\n",
      "    [4, 5]\n",
      "    ---------------------\n",
      "0\n",
      "     [5]\n",
      "     ---------------------\n",
      "0\n",
      "      00000\n",
      "432\n",
      "[]\n",
      "[0, 1, 2, 3, 4, 5]\n",
      "---------------------\n",
      "2\n",
      " [0, 1, 3, 4, 5]\n",
      " ---------------------\n",
      "0\n",
      "  [0, 1, 4, 5]\n",
      "  ---------------------\n",
      "0\n",
      "   [1, 4, 5]\n",
      "   ---------------------\n",
      "0\n",
      "    [4, 5]\n",
      "    ---------------------\n",
      "0\n",
      "     [5]\n",
      "     ---------------------\n",
      "0\n",
      "      00000\n",
      "432\n",
      "[]\n",
      "[0, 1, 2, 3, 4, 5]\n",
      "---------------------\n",
      "2\n",
      " [0, 1, 3, 4, 5]\n",
      " ---------------------\n",
      "0\n",
      "  [0, 1, 4, 5]\n",
      "  ---------------------\n",
      "0\n",
      "   [1, 4, 5]\n",
      "   ---------------------\n",
      "0\n",
      "    [4, 5]\n",
      "    ---------------------\n",
      "0\n",
      "     [5]\n",
      "     ---------------------\n",
      "0\n",
      "      00000\n",
      "432\n",
      "[]\n"
     ]
    }
   ],
   "source": [
    "#build_tree(training_data,header,labels)\n",
    "tree = fit(training_data,header,labels)"
   ]
  },
  {
   "cell_type": "code",
   "execution_count": 16,
   "metadata": {},
   "outputs": [],
   "source": [
    "def calculate_probability(labels):\n",
    "    d = {}\n",
    "    for i in set(labels):\n",
    "        d[i] = labels.count(i)/len(labels)\n",
    "    print(d)\n",
    "    return d\n",
    "    "
   ]
  },
  {
   "cell_type": "code",
   "execution_count": 17,
   "metadata": {},
   "outputs": [],
   "source": [
    "def predict(node,features):\n",
    "    #A kategoriák alapján eljutunk a leaf-hez\n",
    "    for i in range(len(features)):\n",
    "        if(node.leaf == 1):\n",
    "            \n",
    "            return calculate_probability(node.labels)\n",
    "        else:\n",
    "            for j in node.child:\n",
    "                \n",
    "                    if(features[j.split] == j.split_result):\n",
    "                        if(j.leaf == 1):    \n",
    "                            print(\"ad\")\n",
    "                            b = calculate_probability(j.labels)\n",
    "                            print(b)\n",
    "                            return b\n",
    "                        else:\n",
    "                            return predict(j,features)\n",
    "            \n",
    "          "
   ]
  },
  {
   "cell_type": "code",
   "execution_count": 18,
   "metadata": {},
   "outputs": [
    {
     "name": "stdout",
     "output_type": "stream",
     "text": [
      "{'unacc', 'vgood', 'acc', 'good'}\n",
      "{'unacc', 'vgood', 'acc', 'good'}\n",
      "{'unacc', 'vgood', 'acc', 'good'}\n",
      "{'unacc', 'vgood', 'acc', 'good'}\n"
     ]
    }
   ],
   "source": [
    "#Kiirjük hogy mik találhatók a leaf-ekben\n",
    "for i in tree.child:\n",
    "    if(i.leaf == 1):\n",
    "        print(set(i.labels))\n",
    "    else:\n",
    "        for j in i.child:\n",
    "            print(set(j.labels))\n",
    "            "
   ]
  },
  {
   "cell_type": "code",
   "execution_count": 19,
   "metadata": {},
   "outputs": [
    {
     "name": "stdout",
     "output_type": "stream",
     "text": [
      "None\n"
     ]
    }
   ],
   "source": [
    "a = predict(tree,['low', 'low', '5more', 'more', 'big', 'high'])\n",
    "print(a)"
   ]
  },
  {
   "cell_type": "code",
   "execution_count": 20,
   "metadata": {},
   "outputs": [
    {
     "name": "stdout",
     "output_type": "stream",
     "text": [
      "2\n",
      "3\n",
      "4\n",
      "5\n",
      "   5\n",
      "   4\n",
      "   3\n",
      "   2\n"
     ]
    },
    {
     "data": {
      "text/plain": [
       "2"
      ]
     },
     "execution_count": 20,
     "metadata": {},
     "output_type": "execute_result"
    }
   ],
   "source": [
    "\n",
    "def p(n):\n",
    "    n+=1\n",
    "    print(n)\n",
    "    if(n<5):\n",
    "        p(n)\n",
    "    print('   ', end = '')\n",
    "    print(n)\n",
    "    return n\n",
    "\n",
    "\n",
    "p(1)"
   ]
  },
  {
   "cell_type": "code",
   "execution_count": null,
   "metadata": {},
   "outputs": [],
   "source": []
  },
  {
   "cell_type": "code",
   "execution_count": null,
   "metadata": {},
   "outputs": [],
   "source": []
  }
 ],
 "metadata": {
  "kernelspec": {
   "display_name": "Python 3",
   "language": "python",
   "name": "python3"
  },
  "language_info": {
   "codemirror_mode": {
    "name": "ipython",
    "version": 3
   },
   "file_extension": ".py",
   "mimetype": "text/x-python",
   "name": "python",
   "nbconvert_exporter": "python",
   "pygments_lexer": "ipython3",
   "version": "3.7.6"
  }
 },
 "nbformat": 4,
 "nbformat_minor": 4
}
